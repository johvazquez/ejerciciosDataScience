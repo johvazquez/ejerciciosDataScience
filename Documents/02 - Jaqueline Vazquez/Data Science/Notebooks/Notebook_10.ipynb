{
  "nbformat": 4,
  "nbformat_minor": 0,
  "metadata": {
    "kernelspec": {
      "display_name": "Python 3",
      "language": "python",
      "name": "python3"
    },
    "language_info": {
      "codemirror_mode": {
        "name": "ipython",
        "version": 3
      },
      "file_extension": ".py",
      "mimetype": "text/x-python",
      "name": "python",
      "nbconvert_exporter": "python",
      "pygments_lexer": "ipython3",
      "version": "3.7.7"
    },
    "colab": {
      "provenance": [],
      "collapsed_sections": [
        "raGGFZmL1R5F",
        "ZHaQ-u5n1R5P",
        "rAqHiMdiI9TE"
      ]
    }
  },
  "cells": [
    {
      "cell_type": "markdown",
      "metadata": {
        "id": "wFFnBs3LdWud"
      },
      "source": [
        "# Programa Ingenias+ Data Science\n",
        "\n",
        "\n"
      ]
    },
    {
      "cell_type": "markdown",
      "metadata": {
        "id": "kG1TAd_YdWui"
      },
      "source": [
        "## Analisis Exploratorio de un Dataset"
      ]
    },
    {
      "cell_type": "markdown",
      "metadata": {
        "id": "qc-yu9Pd1R4e"
      },
      "source": [
        "Esta notebook les permitiria ejercitar los conceptos de Pandas 🐼  y Análisis exploratorio de datos 📊 que aprendimos hasta ahora. Vamos a trabajar con un dataset que contiene datos relativos a [clientes de un centro comercial](https://www.kaggle.com/akram24/mall-customers). En el Drive esta descargado el archivo. Si tenes inconvenientes o  ese archivo no funciona podes descargarlo directamente de la página web."
      ]
    },
    {
      "cell_type": "markdown",
      "metadata": {
        "id": "_OFr0A3H1R4g"
      },
      "source": [
        "### 🔬 Comenzando el proyecto 🎉"
      ]
    },
    {
      "cell_type": "markdown",
      "metadata": {
        "id": "MstD-qy91R4h"
      },
      "source": [
        "Es tu primer dia como Data Scientist. Tu primer proyecto consiste en hacer un análisis de datos sobre clientes de un centro comercial para luego hacer una predicción de ventas o un analisis de cluster. Antes que nada, debes inspeccionar y visualizar tu dataset para saber con que datos estas trabajando.\n",
        "\n",
        "Como mencionamos durante la clase, una de las primeras cosas que debe realizar un Data Scientist al iniciar un nuevo proyecto es conocer el dataset con el cual va a trabajar. Este paso se conoce como _\"Analisis exploratorio de los datos\"_."
      ]
    },
    {
      "cell_type": "markdown",
      "metadata": {
        "id": "HXWUfYQqdWuk"
      },
      "source": [
        "Además de obtener que tipo de datos contiene el dataset, estadistica descriptiva, detectar problemas como valores faltantes, establecer que tipo de relación existe entre las distintas variables, también debemos visualizar los datos. Este análisis nos permitira hacernos preguntas que puedan ser contestadas con el dataset como así plantear estrategias para poder resolver problemas presentes en él."
      ]
    },
    {
      "cell_type": "markdown",
      "metadata": {
        "id": "4A55ZSKv1R4i"
      },
      "source": [
        "#### IMPORTA LAS LIBRERIAS NECESARIAS"
      ]
    },
    {
      "cell_type": "code",
      "metadata": {
        "id": "sK1w0WYu_KRF"
      },
      "source": [
        "%matplotlib inline"
      ],
      "execution_count": null,
      "outputs": []
    },
    {
      "cell_type": "code",
      "metadata": {
        "id": "SN189CdQ1R4q"
      },
      "source": [],
      "execution_count": null,
      "outputs": []
    },
    {
      "cell_type": "markdown",
      "metadata": {
        "id": "NkN_EAwv1R4v"
      },
      "source": [
        "#### LEE LOS DATOS"
      ]
    },
    {
      "cell_type": "markdown",
      "metadata": {
        "id": "yy8Ey0uQ1R4w"
      },
      "source": [
        "**_Lee los datos que se encuentran en el archivo `clientes_mall.csv`. Guardalos en un DataFrame._**"
      ]
    },
    {
      "cell_type": "code",
      "metadata": {
        "id": "3ibbpjpodWun"
      },
      "source": [],
      "execution_count": null,
      "outputs": []
    },
    {
      "cell_type": "markdown",
      "metadata": {
        "id": "tffjEaHl1R41"
      },
      "source": [
        "#### INSPECCIONA LOS DATOS"
      ]
    },
    {
      "cell_type": "markdown",
      "metadata": {
        "id": "kPi8BRjO1R43"
      },
      "source": [
        "Primero obtene una visión general del dataset:\n",
        "\n",
        "\n",
        "🤔 &nbsp; **_¿Como se ven las primeras 5 filas? ¿Cuantas filas y columnas posee? ¿Que tipos de datos contiene cada una de las columnas?_**"
      ]
    },
    {
      "cell_type": "code",
      "metadata": {
        "id": "SXh-6peZdWuo"
      },
      "source": [],
      "execution_count": null,
      "outputs": []
    },
    {
      "cell_type": "code",
      "metadata": {
        "id": "2j1dZ8nIdWuo"
      },
      "source": [],
      "execution_count": null,
      "outputs": []
    },
    {
      "cell_type": "code",
      "metadata": {
        "id": "TvHnAn1F1R46"
      },
      "source": [],
      "execution_count": null,
      "outputs": []
    },
    {
      "cell_type": "code",
      "metadata": {
        "id": "8QilRL16dWup"
      },
      "source": [],
      "execution_count": null,
      "outputs": []
    },
    {
      "cell_type": "code",
      "metadata": {
        "id": "Qvi54Fpu1R5A"
      },
      "source": [],
      "execution_count": null,
      "outputs": []
    },
    {
      "cell_type": "code",
      "metadata": {
        "id": "nzxslnRN1R5D"
      },
      "source": [],
      "execution_count": null,
      "outputs": []
    },
    {
      "cell_type": "markdown",
      "metadata": {
        "id": "0KyOykP-dWup"
      },
      "source": [
        "**_Hay algunas columnas que tienen nombres incomodos (ej. `Spending Score (1-100)` y `Annual Income (k$)`). Renombra esas columnas_**"
      ]
    },
    {
      "cell_type": "code",
      "metadata": {
        "id": "pnt4boSudWuq"
      },
      "source": [],
      "execution_count": null,
      "outputs": []
    },
    {
      "cell_type": "code",
      "metadata": {
        "id": "j345B5XvdWuq"
      },
      "source": [],
      "execution_count": null,
      "outputs": []
    },
    {
      "cell_type": "markdown",
      "metadata": {
        "id": "raGGFZmL1R5F"
      },
      "source": [
        "#### Valores faltantes"
      ]
    },
    {
      "cell_type": "markdown",
      "metadata": {
        "id": "CSHYJhyo1R5G"
      },
      "source": [
        "🤔 &nbsp; **_¿Hay valores faltantes en alguna de las columnas?_**"
      ]
    },
    {
      "cell_type": "code",
      "metadata": {
        "id": "067L9sSydWuq"
      },
      "source": [],
      "execution_count": null,
      "outputs": []
    },
    {
      "cell_type": "markdown",
      "metadata": {
        "id": "XW2hFE-j1R5K"
      },
      "source": [
        "**_Elimina todas las filas que tengan valores faltantes_**"
      ]
    },
    {
      "cell_type": "code",
      "metadata": {
        "id": "z8pYvOw7dWuq"
      },
      "source": [],
      "execution_count": null,
      "outputs": []
    },
    {
      "cell_type": "markdown",
      "metadata": {
        "id": "ZHaQ-u5n1R5P"
      },
      "source": [
        "#### FILTRA LOS DATOS"
      ]
    },
    {
      "cell_type": "markdown",
      "metadata": {
        "id": "VCsnEZy61R5Q"
      },
      "source": [
        "Porque tu compañia quiere diseñar un a campaña de marketing especial para personas entre 25 y 40 años, vamos a analizar los datos solo para estos clientes."
      ]
    },
    {
      "cell_type": "markdown",
      "metadata": {
        "id": "BUVWF3h81R5Q"
      },
      "source": [
        "🤔 &nbsp; **_Chequea que categorias aparecen en la columna `Age`_**."
      ]
    },
    {
      "cell_type": "code",
      "metadata": {
        "id": "fVLUeN_m1R5R"
      },
      "source": [],
      "execution_count": null,
      "outputs": []
    },
    {
      "cell_type": "markdown",
      "metadata": {
        "id": "7FZ6C4hB1R5U"
      },
      "source": [
        "**_Filtra los datos para quedarte unicamente con las filas que correspondan a personas entre 25 y 40 años. Guardalo en una variable que se llame `clientes_seleccionados`._**"
      ]
    },
    {
      "cell_type": "code",
      "metadata": {
        "id": "Hu5ahiS01R5U"
      },
      "source": [],
      "execution_count": null,
      "outputs": []
    },
    {
      "cell_type": "code",
      "metadata": {
        "id": "5vDS7pCQ1R5W"
      },
      "source": [],
      "execution_count": null,
      "outputs": []
    },
    {
      "cell_type": "markdown",
      "metadata": {
        "id": "vpOEzMzY1R5Z"
      },
      "source": [
        "**_Reiniciamos el indice usando `reset_index()` para que las filas vuelvan a ser numeradas a partir de 0. `drop=True` permite descartar los indices anteriores y no guardarlos como una nueva columna. `inplace=True` permite que se modifique el DataFrame original._**"
      ]
    },
    {
      "cell_type": "code",
      "metadata": {
        "id": "7mKgRpmZ1R5a"
      },
      "source": [],
      "execution_count": null,
      "outputs": []
    },
    {
      "cell_type": "code",
      "metadata": {
        "id": "igUBOcaj1R5d"
      },
      "source": [],
      "execution_count": null,
      "outputs": []
    },
    {
      "cell_type": "markdown",
      "metadata": {
        "id": "WjlGHY3p1R5h"
      },
      "source": [
        "**_Obtene estadistica descriptiva para las columnas que corresponden al salario anual y puntaje de gastos de las personas entre 25 y 40 años. Lo importante es que se muestre promedio, mediana, desvio estandard, valores minimos y maximos._**"
      ]
    },
    {
      "cell_type": "code",
      "metadata": {
        "id": "7lRh8j9T1R5h"
      },
      "source": [],
      "execution_count": null,
      "outputs": []
    },
    {
      "cell_type": "markdown",
      "metadata": {
        "id": "1L_e06s61R5j"
      },
      "source": [
        "🤔 &nbsp; De acuerdo a los valores **_¿Cuál es el sueldo promedio de estos clientes? ¿Cual es el puntaje de gastos mediano en el grupo? ¿Crees que son buenas medidas para caracterizar el grupo?_**"
      ]
    },
    {
      "cell_type": "code",
      "metadata": {
        "id": "6TNSlTtTdWut"
      },
      "source": [],
      "execution_count": null,
      "outputs": []
    },
    {
      "cell_type": "code",
      "metadata": {
        "id": "UTbFwqb7dWut"
      },
      "source": [],
      "execution_count": null,
      "outputs": []
    },
    {
      "cell_type": "markdown",
      "metadata": {
        "id": "qsqbAPKhdWut"
      },
      "source": [
        "**_Compara estos valores con aquellos de los clientes en general._**"
      ]
    },
    {
      "cell_type": "code",
      "metadata": {
        "id": "DJeOKR7UdWut"
      },
      "source": [],
      "execution_count": null,
      "outputs": []
    },
    {
      "cell_type": "code",
      "metadata": {
        "id": "P-IhubyhdWut"
      },
      "source": [],
      "execution_count": null,
      "outputs": []
    },
    {
      "cell_type": "code",
      "metadata": {
        "id": "5k3LVPnadWuu"
      },
      "source": [],
      "execution_count": null,
      "outputs": []
    },
    {
      "cell_type": "markdown",
      "metadata": {
        "id": "xnhWXkzW1R5l"
      },
      "source": [
        "**_Obtiene la edad promedio de clientes que tienen un sueldo mayor al promedio._**"
      ]
    },
    {
      "cell_type": "code",
      "metadata": {
        "id": "LJWIgp2w1R5l"
      },
      "source": [],
      "execution_count": null,
      "outputs": []
    },
    {
      "cell_type": "code",
      "metadata": {
        "id": "jAcQJaws1R5r"
      },
      "source": [],
      "execution_count": null,
      "outputs": []
    },
    {
      "cell_type": "markdown",
      "metadata": {
        "id": "OvV2sSS_dWuu"
      },
      "source": [
        "**_Compara estos valores con aquellos de los clientes en general._**"
      ]
    },
    {
      "cell_type": "code",
      "metadata": {
        "id": "RxFXKhCEdWuu"
      },
      "source": [],
      "execution_count": null,
      "outputs": []
    },
    {
      "cell_type": "markdown",
      "metadata": {
        "id": "44SuwB_IdWuu"
      },
      "source": [
        "🤔 &nbsp; **_¿Qué otras preguntas te surgen para analizar en este dataset?_**"
      ]
    },
    {
      "cell_type": "code",
      "metadata": {
        "id": "JYuH7cmFdWuu"
      },
      "source": [],
      "execution_count": null,
      "outputs": []
    },
    {
      "cell_type": "code",
      "metadata": {
        "id": "MeGvg1UVdWuv"
      },
      "source": [],
      "execution_count": null,
      "outputs": []
    },
    {
      "cell_type": "markdown",
      "metadata": {
        "id": "rAqHiMdiI9TE"
      },
      "source": [
        "#### VISUALIZA LOS DATOS"
      ]
    },
    {
      "cell_type": "markdown",
      "metadata": {
        "id": "16ZCBSWldWuv"
      },
      "source": [
        "**_Visualiza la distribución de las variables de sueldo promedio y puntaje de gastos. Haz gráficos que superpongan la distribución de cada una de estas variables de manera global como también sólo para los clientes seleccionados._**"
      ]
    },
    {
      "cell_type": "code",
      "metadata": {
        "id": "JngE6swhdWuv"
      },
      "source": [],
      "execution_count": null,
      "outputs": []
    },
    {
      "cell_type": "markdown",
      "metadata": {
        "id": "SzjLlY6SdWuv"
      },
      "source": [
        "**_Agrupa los datos por la variable `Genre` para ambos casos. Gráfica el ingreso promedio y su dispersion. Grafica, luego, el ingreso mediano y su rango intercuartil._**"
      ]
    },
    {
      "cell_type": "code",
      "metadata": {
        "id": "LE1P7hiTdWuv"
      },
      "source": [],
      "execution_count": null,
      "outputs": []
    },
    {
      "cell_type": "code",
      "metadata": {
        "id": "RDvTQyitdWuv"
      },
      "source": [],
      "execution_count": null,
      "outputs": []
    },
    {
      "cell_type": "markdown",
      "metadata": {
        "id": "aZycd7VhdWuv"
      },
      "source": [
        "🤔 &nbsp; **_¿Existe una correlación entre el sueldo anual y el puntaje de gastos en los clientes seleccionados? ¿Y en todos los clientes en general?_**"
      ]
    },
    {
      "cell_type": "code",
      "metadata": {
        "id": "qYBOnMpfdWuv"
      },
      "source": [],
      "execution_count": null,
      "outputs": []
    },
    {
      "cell_type": "markdown",
      "metadata": {
        "id": "9beddzbBdWuv"
      },
      "source": [
        "**_Visualiza otros datos que creas relevantes para este analisis._**"
      ]
    },
    {
      "cell_type": "code",
      "metadata": {
        "id": "hvptmeisdWuw"
      },
      "source": [],
      "execution_count": null,
      "outputs": []
    },
    {
      "cell_type": "code",
      "metadata": {
        "id": "zkXXWyDQdWuw"
      },
      "source": [],
      "execution_count": null,
      "outputs": []
    },
    {
      "cell_type": "markdown",
      "metadata": {
        "id": "EWhET3taI9VL"
      },
      "source": [
        "#### 💾 &nbsp; GUARDANDO EL ARCHIVO PARA LOS SIGUIENTES PASOS"
      ]
    },
    {
      "cell_type": "markdown",
      "metadata": {
        "id": "FW0-sewYI9VM"
      },
      "source": [
        "Los siguientes pasos que vamos a tomar implican la transformación de los datos presentes en el dataset para un correcto ajuste de un modelo a elección. Para no tener que correr nuevamente todo el código, podemos guardar en un archivo `csv` el dataset tal cual lo tenemos ahora.\n",
        "\n",
        "1) **Utiliza la función `.to_csv()` para guardar tu dataset**. Antes de hacerlo chequea la [documentación](https://pandas.pydata.org/pandas-docs/stable/reference/api/pandas.DataFrame.to_csv.html)."
      ]
    },
    {
      "cell_type": "code",
      "source": [],
      "metadata": {
        "id": "P3GrLBbE2qx3"
      },
      "execution_count": null,
      "outputs": []
    }
  ]
}