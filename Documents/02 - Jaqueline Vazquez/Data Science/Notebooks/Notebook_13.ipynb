{
  "cells": [
    {
      "cell_type": "markdown",
      "metadata": {
        "id": "2SlyztfHNweX"
      },
      "source": [
        "# Programa Ingenias+ Data Science"
      ]
    },
    {
      "cell_type": "markdown",
      "metadata": {
        "id": "Hdoa25EINwed"
      },
      "source": [
        "## ✏️ Ejercitación: Procesamiento y transformación de datos"
      ]
    },
    {
      "cell_type": "markdown",
      "metadata": {
        "id": "qc-yu9Pd1R4e"
      },
      "source": [
        "Esta notebook les permitiria ejercitar los conceptos de Pandas 🐼  y Procesamiento de datos 📊 que aprendimos hasta ahora. Vamos a seguir trabajando con el dataset que contiene datos relativos a [clientes de un centro comercial](https://www.kaggle.com/akram24/mall-customers) que guardamos en la Notebook 10 luego de eliminar valores faltantes y filtrar outliers."
      ]
    },
    {
      "cell_type": "markdown",
      "metadata": {
        "id": "_OFr0A3H1R4g"
      },
      "source": [
        "### 🛠 Procesando datos para ML- Feature Engeneering 🔧"
      ]
    },
    {
      "cell_type": "markdown",
      "metadata": {
        "id": "BtL0_Ve5I9UU"
      },
      "source": [
        "Una vez que visualizamos y exploramos el dataset tenemos una idea de como lucen nuestros datos. Es por eso que ahora debemos empezar a preparar nuestros datos para los siguientes pasos según lo que aprendimos de ellos y las preguntas que nos planteamos."
      ]
    },
    {
      "cell_type": "code",
      "execution_count": null,
      "metadata": {
        "id": "VPpYpZdINwef"
      },
      "outputs": [],
      "source": []
    },
    {
      "cell_type": "code",
      "execution_count": null,
      "metadata": {
        "id": "8DaC8wnwNweg"
      },
      "outputs": [],
      "source": []
    },
    {
      "cell_type": "code",
      "execution_count": null,
      "metadata": {
        "id": "rrLNt1_VNweh"
      },
      "outputs": [],
      "source": []
    },
    {
      "cell_type": "code",
      "execution_count": null,
      "metadata": {
        "id": "pUTAC93HNwei"
      },
      "outputs": [],
      "source": []
    },
    {
      "cell_type": "code",
      "execution_count": null,
      "metadata": {
        "id": "9Q1as8xfNwej"
      },
      "outputs": [],
      "source": []
    },
    {
      "cell_type": "markdown",
      "metadata": {
        "id": "ufsZB03BI9U4"
      },
      "source": [
        "#### DESCUBRIENDO NUEVAS VARIABLES"
      ]
    },
    {
      "cell_type": "markdown",
      "metadata": {
        "id": "Aq06gYKaI9U5"
      },
      "source": [
        "🤔 &nbsp; **_¿Puedo generar nuevas variables a través de las ya presentes? ¿Qué aportaría al entendimiento de los datos la creación de esta/s variable/s?_**"
      ]
    },
    {
      "cell_type": "code",
      "metadata": {
        "id": "J0tas-ZhI9U6"
      },
      "source": [],
      "execution_count": null,
      "outputs": []
    },
    {
      "cell_type": "markdown",
      "metadata": {
        "id": "Qw0WjXFlAJX8"
      },
      "source": [
        "#### ESTANDARIZACION DE DATOS"
      ]
    },
    {
      "cell_type": "markdown",
      "metadata": {
        "id": "0Ln1G78vAJX9"
      },
      "source": [
        "🤔 &nbsp; **_¿Crees que tus variables deben ser estandarizadas?_**\n",
        "\n",
        "Si es así, elige una estrategia y aplicala\n",
        "\n",
        "🚀 _Recuerda qué_ vimos dos metodos para estandarizar o reescalar variables: `StandardScaler` que usa z-score y `MinMaxScaler` que reescala los datos linealmente. Lee la documentación para [Standard Scaler](https://scikit-learn.org/stable/modules/generated/sklearn.preprocessing.StandardScaler.html) y para [Min Max](https://scikit-learn.org/stable/modules/generated/sklearn.preprocessing.MinMaxScaler.html)."
      ]
    },
    {
      "cell_type": "markdown",
      "metadata": {
        "id": "CBRK0CyrNwes"
      },
      "source": [
        "- En una situación en la vida real, este paso podríamos realizarlo ahora, ya que ya sabriamos que algoritmo queremos usar o pregunta nos queremos contenstar. En el contexto del curso, en la clase 6 aún no hemos visto aprendizaje automatico. Por lo cual, si no consideraron realizar un scaling esta bien. Podrán hacerlo en el ejercicio de la clase 8, que utilizaremos este dataset."
      ]
    },
    {
      "cell_type": "markdown",
      "metadata": {
        "id": "E0Du-F_FAJYM"
      },
      "source": [
        "#### TRANSFORMACION DE VARIABLES"
      ]
    },
    {
      "cell_type": "markdown",
      "metadata": {
        "id": "EoYAXMK0AJYM"
      },
      "source": [
        "🤔 &nbsp; **¿Tienes variables categoricas en tu dataset? ¿Estan representadas por números o por strings? ¿Crees que debes generar variables dummies o realizar un encoding de las categorias?**"
      ]
    },
    {
      "cell_type": "markdown",
      "metadata": {
        "id": "IKcYFs7dAJYN"
      },
      "source": [
        "🚀 _Recuerda qué_ hablamos de varias funciones para poder llevar a cabo estas transformaciones. Algunas de ellas como `get_dummies` y `map` pertenecen a `pandas`, mientras que otras como `LabelEncoder` y `OneHotEncoder` son parte de `sklearn`."
      ]
    },
    {
      "cell_type": "markdown",
      "metadata": {
        "id": "8h2KCXmaAJYN"
      },
      "source": [
        "Si queres saber más, chequea la documentación de [get_dummies](https://pandas.pydata.org/pandas-docs/stable/reference/api/pandas.get_dummies.html), [map](https://pandas.pydata.org/pandas-docs/stable/reference/api/pandas.Series.map.html), [LabelEncoder](https://scikit-learn.org/stable/modules/generated/sklearn.preprocessing.LabelEncoder.html) y [OneHotEncoder](https://scikit-learn.org/stable/modules/generated/sklearn.preprocessing.OneHotEncoder.html)"
      ]
    },
    {
      "cell_type": "code",
      "execution_count": null,
      "metadata": {
        "id": "liXsGZLOAJYO"
      },
      "outputs": [],
      "source": []
    },
    {
      "cell_type": "code",
      "execution_count": null,
      "metadata": {
        "id": "MVo1J8omAJYR"
      },
      "outputs": [],
      "source": []
    },
    {
      "cell_type": "code",
      "execution_count": null,
      "metadata": {
        "id": "T-Db_3u3Nwet"
      },
      "outputs": [],
      "source": []
    },
    {
      "cell_type": "code",
      "execution_count": null,
      "metadata": {
        "id": "jWXa0I81Nwet"
      },
      "outputs": [],
      "source": []
    },
    {
      "cell_type": "markdown",
      "metadata": {
        "id": "EWhET3taI9VL"
      },
      "source": [
        "#### 💾 &nbsp; GUARDANDO EL ARCHIVO PARA LOS SIGUIENTES PASOS"
      ]
    },
    {
      "cell_type": "markdown",
      "metadata": {
        "id": "FW0-sewYI9VM"
      },
      "source": [
        "1) **Utiliza la función `.to_csv()` para guardar tu dataset**."
      ]
    },
    {
      "cell_type": "code",
      "execution_count": null,
      "metadata": {
        "id": "xTjNCjPcI9VN"
      },
      "outputs": [],
      "source": []
    }
  ],
  "metadata": {
    "kernelspec": {
      "display_name": "Python 3",
      "language": "python",
      "name": "python3"
    },
    "language_info": {
      "codemirror_mode": {
        "name": "ipython",
        "version": 3
      },
      "file_extension": ".py",
      "mimetype": "text/x-python",
      "name": "python",
      "nbconvert_exporter": "python",
      "pygments_lexer": "ipython3",
      "version": "3.7.8"
    },
    "colab": {
      "provenance": []
    }
  },
  "nbformat": 4,
  "nbformat_minor": 0
}