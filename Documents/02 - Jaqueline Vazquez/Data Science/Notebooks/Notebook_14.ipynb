{
  "nbformat": 4,
  "nbformat_minor": 0,
  "metadata": {
    "colab": {
      "provenance": [],
      "collapsed_sections": [
        "rvZzGIUIFO7d"
      ]
    },
    "kernelspec": {
      "name": "python3",
      "display_name": "Python 3"
    }
  },
  "cells": [
    {
      "cell_type": "markdown",
      "source": [
        "# Programa Ingenias+ Data Science"
      ],
      "metadata": {
        "id": "rTaLZ9XSFbV6"
      }
    },
    {
      "cell_type": "markdown",
      "source": [
        "En esta notebook, vamos a demostrar como funcionan los algoritmos vistos en clase y su implementación en Scikit-learn."
      ],
      "metadata": {
        "id": "XfOUmIYVFRrs"
      }
    },
    {
      "cell_type": "markdown",
      "source": [
        "# Regresión Lineal"
      ],
      "metadata": {
        "id": "rvZzGIUIFO7d"
      }
    },
    {
      "cell_type": "markdown",
      "metadata": {
        "id": "u-cuJXjy3kTM"
      },
      "source": [
        "Vamos a empezar generando unos datos para mostrar unos ejemplos"
      ]
    },
    {
      "cell_type": "code",
      "metadata": {
        "id": "-PCXZhYui7aM"
      },
      "source": [
        "# Importamos librerías\n",
        "import pandas as pd\n",
        "import numpy as np\n",
        "import matplotlib.pyplot as plt\n",
        "from sklearn.datasets import load_iris"
      ],
      "execution_count": null,
      "outputs": []
    },
    {
      "cell_type": "code",
      "metadata": {
        "id": "d4k_lt653fqJ",
        "colab": {
          "base_uri": "https://localhost:8080/",
          "height": 279
        },
        "outputId": "6cce9b22-fb2d-4dc2-e0a9-aa905fb6ee08"
      },
      "source": [
        "# Creamos datos que sigan una recta\n",
        "np.random.seed(123)\n",
        "a = 2\n",
        "b = 3\n",
        "x = np.random.rand(10)*10\n",
        "y = a*x+b + np.random.randn(10)*0.5\n",
        "plt.scatter(x,y)\n",
        "plt.plot(x, a*x+b, 'r')\n",
        "plt.xlabel('x');\n",
        "plt.ylabel('y');"
      ],
      "execution_count": null,
      "outputs": [
        {
          "output_type": "display_data",
          "data": {
            "text/plain": [
              "<Figure size 432x288 with 1 Axes>"
            ],
            "image/png": "[encoded data removed]"
          },
          "metadata": {
            "needs_background": "light"
          }
        }
      ]
    },
    {
      "cell_type": "code",
      "metadata": {
        "id": "D_hNpTI4n9hc",
        "colab": {
          "base_uri": "https://localhost:8080/"
        },
        "outputId": "7c331250-69eb-4109-f9ba-4b3186753f23"
      },
      "source": [
        "x"
      ],
      "execution_count": null,
      "outputs": [
        {
          "output_type": "execute_result",
          "data": {
            "text/plain": [
              "array([6.96469186, 2.86139335, 2.26851454, 5.51314769, 7.1946897 ,\n",
              "       4.2310646 , 9.80764198, 6.84829739, 4.80931901, 3.92117518])"
            ]
          },
          "metadata": {},
          "execution_count": 3
        }
      ]
    },
    {
      "cell_type": "code",
      "metadata": {
        "id": "NMpK9nBSnOf-",
        "colab": {
          "base_uri": "https://localhost:8080/"
        },
        "outputId": "d4650866-dce4-48c0-b56e-45a8fd3fc2e6"
      },
      "source": [
        "x.reshape(-1,1)"
      ],
      "execution_count": null,
      "outputs": [
        {
          "output_type": "execute_result",
          "data": {
            "text/plain": [
              "array([[6.96469186],\n",
              "       [2.86139335],\n",
              "       [2.26851454],\n",
              "       [5.51314769],\n",
              "       [7.1946897 ],\n",
              "       [4.2310646 ],\n",
              "       [9.80764198],\n",
              "       [6.84829739],\n",
              "       [4.80931901],\n",
              "       [3.92117518]])"
            ]
          },
          "metadata": {},
          "execution_count": 4
        }
      ]
    },
    {
      "cell_type": "markdown",
      "metadata": {
        "id": "yAOMzSS54nHR"
      },
      "source": [
        "La búsqueda de un modelo que describa el comportamiento de nuestros datos parte del supuesto de que existe una relación o función matemática subyacente que los relaciona. Nuestro trabajo es encontrar esa función.\n",
        "Para eso vamos a usar la librería Scikit-Learn"
      ]
    },
    {
      "cell_type": "code",
      "metadata": {
        "id": "tAniFR-x4BcJ"
      },
      "source": [
        "from sklearn.linear_model import LinearRegression"
      ],
      "execution_count": null,
      "outputs": []
    },
    {
      "cell_type": "code",
      "metadata": {
        "id": "phCi815O5rxX"
      },
      "source": [
        "# Instanciamos el modelo\n",
        "lr = LinearRegression()"
      ],
      "execution_count": null,
      "outputs": []
    },
    {
      "cell_type": "code",
      "metadata": {
        "id": "AUUATJ3p5wPa",
        "colab": {
          "base_uri": "https://localhost:8080/"
        },
        "outputId": "5746319d-6249-4aeb-d719-048a2ea10097"
      },
      "source": [
        "# Le pedimos que encuentre los parámetros que mejor se ajustan a nuestros datos\n",
        "lr.fit(x.reshape(-1,1), y)"
      ],
      "execution_count": null,
      "outputs": [
        {
          "output_type": "execute_result",
          "data": {
            "text/plain": [
              "LinearRegression()"
            ]
          },
          "metadata": {},
          "execution_count": 7
        }
      ]
    },
    {
      "cell_type": "markdown",
      "metadata": {
        "id": "usw4K3HP5-WB"
      },
      "source": [
        "Veamos qué encontró"
      ]
    },
    {
      "cell_type": "code",
      "metadata": {
        "id": "sPxNb6Lf6H_Z",
        "colab": {
          "base_uri": "https://localhost:8080/"
        },
        "outputId": "9986da87-2b11-4f51-b857-bcfdf4e28af1"
      },
      "source": [
        "# Imprimimos la pendiente\n",
        "lr.coef_"
      ],
      "execution_count": null,
      "outputs": [
        {
          "output_type": "execute_result",
          "data": {
            "text/plain": [
              "array([2.02565598])"
            ]
          },
          "metadata": {},
          "execution_count": 8
        }
      ]
    },
    {
      "cell_type": "code",
      "metadata": {
        "id": "2jfRCpbp6N3Z",
        "colab": {
          "base_uri": "https://localhost:8080/"
        },
        "outputId": "22115224-37f8-4bc7-dc79-2ae5ac21c8f1"
      },
      "source": [
        "# Imprimimos la ordenada al origen\n",
        "lr.intercept_"
      ],
      "execution_count": null,
      "outputs": [
        {
          "output_type": "execute_result",
          "data": {
            "text/plain": [
              "3.0600038699795835"
            ]
          },
          "metadata": {},
          "execution_count": 9
        }
      ]
    },
    {
      "cell_type": "markdown",
      "metadata": {
        "id": "JBUE8W2W6Tqh"
      },
      "source": [
        "Esto significa que la recta encontrada es $$y = 2.02565598 · x + 3.0600038699795835$$"
      ]
    },
    {
      "cell_type": "code",
      "source": [
        "np.random.seed(123)\n",
        "# y real\n",
        "a = 2\n",
        "b = 3\n",
        "x = np.random.rand(10)*10\n",
        "y = a*x + b + np.random.randn(10)*0.5\n",
        "y_real = a*x + b\n",
        "# y predicha\n",
        "a_p = lr.coef_\n",
        "b_p = lr.intercept_\n",
        "y_predicted = a_p * x + b_p\n",
        "plt.scatter(x, y)\n",
        "plt.plot(x, y_real, 'green')\n",
        "plt.plot(x, y_predicted, 'r')\n",
        "plt.xlabel('x');\n",
        "plt.ylabel('y');"
      ],
      "metadata": {
        "colab": {
          "base_uri": "https://localhost:8080/",
          "height": 279
        },
        "id": "GZzu6Q7rF1aL",
        "outputId": "14fc589b-2e32-4dbc-ab6c-00fdacfc9ac9"
      },
      "execution_count": null,
      "outputs": [
        {
          "output_type": "display_data",
          "data": {
            "text/plain": [
              "<Figure size 432x288 with 1 Axes>"
            ],
            "image/png": "[encoded data removed]"
          },
          "metadata": {
            "needs_background": "light"
          }
        }
      ]
    },
    {
      "cell_type": "markdown",
      "metadata": {
        "id": "8bzrw21zioRx"
      },
      "source": [
        "# Regresión Logística"
      ]
    },
    {
      "cell_type": "markdown",
      "metadata": {
        "id": "QHHkQkoTizYS"
      },
      "source": [
        "Vamos a entrenar un modelo para poder clasificar una observación en una categoría según sus características.\n",
        "\n"
      ]
    },
    {
      "cell_type": "markdown",
      "metadata": {
        "id": "yh5ktaey8go2"
      },
      "source": [
        "Armemos un dataset de juguete"
      ]
    },
    {
      "cell_type": "code",
      "metadata": {
        "id": "vRX--VYx2Z92"
      },
      "source": [
        "from sklearn.datasets import make_classification"
      ],
      "execution_count": null,
      "outputs": []
    },
    {
      "cell_type": "code",
      "metadata": {
        "id": "pvVI-4QR2fxz"
      },
      "source": [
        "X, y = make_classification(n_samples = 200,\n",
        "                           n_features=2,\n",
        "                           n_informative= 2,\n",
        "                           n_redundant=0,\n",
        "                           n_clusters_per_class=2,\n",
        "                           flip_y = 0.15,\n",
        "                           random_state=8)"
      ],
      "execution_count": null,
      "outputs": []
    },
    {
      "cell_type": "markdown",
      "metadata": {
        "id": "h61pYh4x9MlF"
      },
      "source": [
        "Veamos qué datos obtuvimos"
      ]
    },
    {
      "cell_type": "code",
      "metadata": {
        "id": "_ThkZaXi22fB",
        "colab": {
          "base_uri": "https://localhost:8080/",
          "height": 203
        },
        "outputId": "ea4ab97a-c8e4-4c43-c0b8-37b6fa8d3253"
      },
      "source": [
        "X = pd.DataFrame(X, columns=['x1', 'x2'])\n",
        "X.head()"
      ],
      "execution_count": null,
      "outputs": [
        {
          "output_type": "execute_result",
          "data": {
            "text/html": [
              "<div>\n",
              "<style scoped>\n",
              "    .dataframe tbody tr th:only-of-type {\n",
              "        vertical-align: middle;\n",
              "    }\n",
              "\n",
              "    .dataframe tbody tr th {\n",
              "        vertical-align: top;\n",
              "    }\n",
              "\n",
              "    .dataframe thead th {\n",
              "        text-align: right;\n",
              "    }\n",
              "</style>\n",
              "<table border=\"1\" class=\"dataframe\">\n",
              "  <thead>\n",
              "    <tr style=\"text-align: right;\">\n",
              "      <th></th>\n",
              "      <th>x1</th>\n",
              "      <th>x2</th>\n",
              "    </tr>\n",
              "  </thead>\n",
              "  <tbody>\n",
              "    <tr>\n",
              "      <th>0</th>\n",
              "      <td>-1.189053</td>\n",
              "      <td>-0.648235</td>\n",
              "    </tr>\n",
              "    <tr>\n",
              "      <th>1</th>\n",
              "      <td>-1.368230</td>\n",
              "      <td>-0.072432</td>\n",
              "    </tr>\n",
              "    <tr>\n",
              "      <th>2</th>\n",
              "      <td>-1.876199</td>\n",
              "      <td>0.345642</td>\n",
              "    </tr>\n",
              "    <tr>\n",
              "      <th>3</th>\n",
              "      <td>0.018895</td>\n",
              "      <td>2.690086</td>\n",
              "    </tr>\n",
              "    <tr>\n",
              "      <th>4</th>\n",
              "      <td>-1.383127</td>\n",
              "      <td>1.197926</td>\n",
              "    </tr>\n",
              "  </tbody>\n",
              "</table>\n",
              "</div>"
            ],
            "text/plain": [
              "         x1        x2\n",
              "0 -1.189053 -0.648235\n",
              "1 -1.368230 -0.072432\n",
              "2 -1.876199  0.345642\n",
              "3  0.018895  2.690086\n",
              "4 -1.383127  1.197926"
            ]
          },
          "metadata": {
            "tags": []
          },
          "execution_count": 4
        }
      ]
    },
    {
      "cell_type": "code",
      "metadata": {
        "id": "-ZYpeYON3Ix2",
        "colab": {
          "base_uri": "https://localhost:8080/",
          "height": 210
        },
        "outputId": "85a7995f-a67c-4529-cb8e-df4bfb9cd0e0"
      },
      "source": [
        "y = pd.Series(y, name='Clase')\n",
        "y.sample(10)"
      ],
      "execution_count": null,
      "outputs": [
        {
          "output_type": "execute_result",
          "data": {
            "text/plain": [
              "160    1\n",
              "42     1\n",
              "109    1\n",
              "7      1\n",
              "134    1\n",
              "127    1\n",
              "61     1\n",
              "193    0\n",
              "147    0\n",
              "67     0\n",
              "Name: Clase, dtype: int64"
            ]
          },
          "metadata": {
            "tags": []
          },
          "execution_count": 6
        }
      ]
    },
    {
      "cell_type": "code",
      "metadata": {
        "id": "ZgtaBvdp3Nx9",
        "colab": {
          "base_uri": "https://localhost:8080/",
          "height": 446
        },
        "outputId": "6fb476fc-a8ab-4222-bb32-90852deb76f2"
      },
      "source": [
        "plt.figure(figsize=(7,7))\n",
        "plt.scatter(X['x1'], X['x2'], c = y)\n",
        "plt.xlabel('x1')\n",
        "plt.ylabel('x2')\n",
        "xlim = plt.xlim()\n",
        "ylim = plt.ylim()"
      ],
      "execution_count": null,
      "outputs": [
        {
          "output_type": "display_data",
          "data": {
            "image/png": "[encoded data removed]",
            "text/plain": [
              "<Figure size 504x504 with 1 Axes>"
            ]
          },
          "metadata": {
            "tags": []
          }
        }
      ]
    },
    {
      "cell_type": "markdown",
      "metadata": {
        "id": "11owWOV49Qpe"
      },
      "source": [
        "El objetivo ahora es poder clasificar las observaciones, es decir determinar el color del punto, en función de sus parámetros."
      ]
    },
    {
      "cell_type": "code",
      "metadata": {
        "id": "Kvmvv89HlSLq"
      },
      "source": [
        "# Importamos la clase\n",
        "from sklearn.linear_model import LogisticRegression"
      ],
      "execution_count": null,
      "outputs": []
    },
    {
      "cell_type": "code",
      "metadata": {
        "id": "LAKsCJxu319o"
      },
      "source": [
        "# Instanciamos el clasificador\n",
        "lr = LogisticRegression(penalty='none', solver='saga')"
      ],
      "execution_count": null,
      "outputs": []
    },
    {
      "cell_type": "code",
      "metadata": {
        "id": "HgjKnDFE4Y4M",
        "colab": {
          "base_uri": "https://localhost:8080/",
          "height": 105
        },
        "outputId": "e2fee4e4-7e96-4127-f8e1-05a7a34f5906"
      },
      "source": [
        "# Entrenamos el modelo\n",
        "lr.fit(X,y)"
      ],
      "execution_count": null,
      "outputs": [
        {
          "output_type": "execute_result",
          "data": {
            "text/plain": [
              "LogisticRegression(C=1.0, class_weight=None, dual=False, fit_intercept=True,\n",
              "                   intercept_scaling=1, l1_ratio=None, max_iter=100,\n",
              "                   multi_class='warn', n_jobs=None, penalty='none',\n",
              "                   random_state=None, solver='saga', tol=0.0001, verbose=0,\n",
              "                   warm_start=False)"
            ]
          },
          "metadata": {
            "tags": []
          },
          "execution_count": 10
        }
      ]
    },
    {
      "cell_type": "markdown",
      "metadata": {
        "id": "gnY2nC1795Ar"
      },
      "source": [
        "Veamos qué encontró."
      ]
    },
    {
      "cell_type": "code",
      "metadata": {
        "id": "EytYAwH22LzJ",
        "colab": {
          "base_uri": "https://localhost:8080/",
          "height": 34
        },
        "outputId": "c43c4028-7ca4-466a-cae5-f15e7bc0106f"
      },
      "source": [
        "lr.coef_"
      ],
      "execution_count": null,
      "outputs": [
        {
          "output_type": "execute_result",
          "data": {
            "text/plain": [
              "array([[0.33275868, 1.95327805]])"
            ]
          },
          "metadata": {
            "tags": []
          },
          "execution_count": 11
        }
      ]
    },
    {
      "cell_type": "code",
      "metadata": {
        "id": "YvpsOpw82Ob6",
        "colab": {
          "base_uri": "https://localhost:8080/",
          "height": 34
        },
        "outputId": "361cb6dd-ec44-41da-f207-eb58612dc4d4"
      },
      "source": [
        "lr.intercept_"
      ],
      "execution_count": null,
      "outputs": [
        {
          "output_type": "execute_result",
          "data": {
            "text/plain": [
              "array([0.26321434])"
            ]
          },
          "metadata": {
            "tags": []
          },
          "execution_count": 12
        }
      ]
    },
    {
      "cell_type": "code",
      "metadata": {
        "id": "q3h-OnSi4bCM"
      },
      "source": [
        "ejex = np.linspace(X['x1'].min(), X['x1'].max(), num=2)\n",
        "ejey = -(lr.coef_[0][0]*ejex + lr.intercept_)/lr.coef_[0][1]"
      ],
      "execution_count": null,
      "outputs": []
    },
    {
      "cell_type": "markdown",
      "metadata": {
        "id": "q6Jcp3Pi-SEf"
      },
      "source": [
        "Grafiquemos el umbral de decisión."
      ]
    },
    {
      "cell_type": "code",
      "metadata": {
        "id": "o51us5ag5eEQ",
        "colab": {
          "base_uri": "https://localhost:8080/",
          "height": 463
        },
        "outputId": "14c9b093-3652-48f1-9fc0-35f2f1ae3341"
      },
      "source": [
        "plt.figure(figsize=(7,7))\n",
        "plt.scatter(X['x1'], X['x2'], c = y)\n",
        "plt.xlabel('x1')\n",
        "plt.ylabel('x2')\n",
        "plt.plot(ejex, ejey, 'r')\n",
        "plt.xlim(xlim)\n",
        "plt.ylim(ylim)"
      ],
      "execution_count": null,
      "outputs": [
        {
          "output_type": "execute_result",
          "data": {
            "text/plain": [
              "(-3.1801760231802083, 3.5045038001799966)"
            ]
          },
          "metadata": {
            "tags": []
          },
          "execution_count": 14
        },
        {
          "output_type": "display_data",
          "data": {
            "image/png": "[encoded data removed]",
            "text/plain": [
              "<Figure size 504x504 with 1 Axes>"
            ]
          },
          "metadata": {
            "tags": []
          }
        }
      ]
    },
    {
      "cell_type": "code",
      "metadata": {
        "id": "0aBI_nZR8I3Q"
      },
      "source": [
        "y_pred = lr.predict(X)"
      ],
      "execution_count": null,
      "outputs": []
    },
    {
      "cell_type": "code",
      "metadata": {
        "id": "q8ySuVmr4ErM",
        "colab": {
          "base_uri": "https://localhost:8080/",
          "height": 193
        },
        "outputId": "243fbd61-2db8-49f0-db15-55bf46713f8a"
      },
      "source": [
        "y.values"
      ],
      "execution_count": null,
      "outputs": [
        {
          "output_type": "execute_result",
          "data": {
            "text/plain": [
              "array([1, 1, 1, 1, 1, 1, 0, 1, 1, 0, 1, 0, 0, 1, 1, 0, 1, 1, 1, 1, 0, 1,\n",
              "       1, 0, 0, 1, 1, 1, 1, 0, 1, 0, 0, 0, 0, 0, 1, 0, 0, 0, 1, 1, 1, 1,\n",
              "       0, 1, 0, 0, 1, 0, 0, 1, 0, 0, 1, 0, 0, 0, 0, 0, 0, 1, 1, 1, 0, 0,\n",
              "       0, 0, 1, 1, 1, 1, 0, 1, 0, 0, 0, 0, 0, 0, 0, 1, 1, 0, 1, 0, 1, 0,\n",
              "       0, 1, 1, 0, 0, 1, 1, 0, 0, 0, 1, 0, 1, 0, 1, 0, 0, 0, 1, 1, 0, 1,\n",
              "       0, 1, 1, 1, 0, 1, 0, 0, 1, 1, 0, 0, 1, 0, 1, 0, 0, 1, 1, 0, 0, 0,\n",
              "       1, 0, 1, 0, 1, 0, 0, 1, 0, 0, 1, 0, 0, 1, 1, 0, 1, 0, 1, 1, 1, 1,\n",
              "       0, 0, 1, 1, 1, 1, 1, 1, 0, 1, 1, 1, 0, 0, 1, 1, 1, 0, 1, 0, 0, 0,\n",
              "       0, 0, 1, 1, 0, 1, 1, 1, 0, 0, 1, 1, 1, 0, 1, 1, 1, 0, 0, 1, 0, 1,\n",
              "       1, 0])"
            ]
          },
          "metadata": {
            "tags": []
          },
          "execution_count": 22
        }
      ]
    },
    {
      "cell_type": "code",
      "metadata": {
        "id": "focdEH974BTr",
        "colab": {
          "base_uri": "https://localhost:8080/",
          "height": 193
        },
        "outputId": "4a05b865-9b2c-4d07-ce57-3f6e78a64ba2"
      },
      "source": [
        "y_pred"
      ],
      "execution_count": null,
      "outputs": [
        {
          "output_type": "execute_result",
          "data": {
            "text/plain": [
              "array([0, 0, 1, 1, 1, 1, 0, 1, 0, 0, 1, 0, 0, 1, 1, 0, 1, 1, 1, 1, 0, 0,\n",
              "       1, 0, 0, 1, 1, 1, 1, 0, 1, 0, 0, 0, 0, 0, 1, 0, 0, 0, 1, 1, 0, 1,\n",
              "       0, 1, 0, 0, 0, 1, 0, 0, 0, 0, 1, 0, 0, 0, 0, 0, 0, 1, 1, 0, 0, 0,\n",
              "       1, 0, 1, 1, 1, 0, 0, 0, 0, 0, 1, 0, 0, 0, 0, 1, 1, 0, 1, 0, 1, 0,\n",
              "       0, 1, 1, 0, 0, 1, 1, 1, 0, 0, 1, 0, 1, 0, 1, 0, 0, 0, 1, 1, 0, 1,\n",
              "       0, 1, 0, 0, 0, 1, 0, 0, 1, 0, 1, 1, 0, 0, 1, 0, 0, 1, 1, 0, 0, 0,\n",
              "       1, 0, 1, 0, 1, 0, 1, 1, 0, 0, 1, 1, 0, 1, 1, 0, 1, 0, 1, 1, 1, 1,\n",
              "       0, 0, 1, 0, 1, 1, 1, 0, 0, 1, 1, 1, 0, 1, 1, 1, 0, 0, 1, 0, 0, 0,\n",
              "       0, 0, 1, 1, 0, 1, 1, 1, 0, 1, 1, 0, 1, 1, 1, 1, 1, 0, 0, 0, 0, 1,\n",
              "       1, 1])"
            ]
          },
          "metadata": {
            "tags": []
          },
          "execution_count": 17
        }
      ]
    },
    {
      "cell_type": "markdown",
      "metadata": {
        "id": "Swj_TF-HPNNp"
      },
      "source": [
        "Complejizemos el modelo agregando nuevas features. En este caso agregaremos $x_2^2$"
      ]
    },
    {
      "cell_type": "code",
      "metadata": {
        "id": "QlRCXbUIHpTJ",
        "colab": {
          "base_uri": "https://localhost:8080/",
          "height": 203
        },
        "outputId": "c2715906-e4be-4101-da06-ec6c3fb35e59"
      },
      "source": [
        "X['x2_cuadrado'] = X['x2']**2\n",
        "X.head()"
      ],
      "execution_count": null,
      "outputs": [
        {
          "output_type": "execute_result",
          "data": {
            "text/html": [
              "<div>\n",
              "<style scoped>\n",
              "    .dataframe tbody tr th:only-of-type {\n",
              "        vertical-align: middle;\n",
              "    }\n",
              "\n",
              "    .dataframe tbody tr th {\n",
              "        vertical-align: top;\n",
              "    }\n",
              "\n",
              "    .dataframe thead th {\n",
              "        text-align: right;\n",
              "    }\n",
              "</style>\n",
              "<table border=\"1\" class=\"dataframe\">\n",
              "  <thead>\n",
              "    <tr style=\"text-align: right;\">\n",
              "      <th></th>\n",
              "      <th>x1</th>\n",
              "      <th>x2</th>\n",
              "      <th>x1_cuadrado</th>\n",
              "      <th>x2_cuadrado</th>\n",
              "    </tr>\n",
              "  </thead>\n",
              "  <tbody>\n",
              "    <tr>\n",
              "      <th>0</th>\n",
              "      <td>-1.189053</td>\n",
              "      <td>-0.648235</td>\n",
              "      <td>1.413846</td>\n",
              "      <td>0.420209</td>\n",
              "    </tr>\n",
              "    <tr>\n",
              "      <th>1</th>\n",
              "      <td>-1.368230</td>\n",
              "      <td>-0.072432</td>\n",
              "      <td>1.872054</td>\n",
              "      <td>0.005246</td>\n",
              "    </tr>\n",
              "    <tr>\n",
              "      <th>2</th>\n",
              "      <td>-1.876199</td>\n",
              "      <td>0.345642</td>\n",
              "      <td>3.520122</td>\n",
              "      <td>0.119468</td>\n",
              "    </tr>\n",
              "    <tr>\n",
              "      <th>3</th>\n",
              "      <td>0.018895</td>\n",
              "      <td>2.690086</td>\n",
              "      <td>0.000357</td>\n",
              "      <td>7.236562</td>\n",
              "    </tr>\n",
              "    <tr>\n",
              "      <th>4</th>\n",
              "      <td>-1.383127</td>\n",
              "      <td>1.197926</td>\n",
              "      <td>1.913041</td>\n",
              "      <td>1.435027</td>\n",
              "    </tr>\n",
              "  </tbody>\n",
              "</table>\n",
              "</div>"
            ],
            "text/plain": [
              "         x1        x2  x1_cuadrado  x2_cuadrado\n",
              "0 -1.189053 -0.648235     1.413846     0.420209\n",
              "1 -1.368230 -0.072432     1.872054     0.005246\n",
              "2 -1.876199  0.345642     3.520122     0.119468\n",
              "3  0.018895  2.690086     0.000357     7.236562\n",
              "4 -1.383127  1.197926     1.913041     1.435027"
            ]
          },
          "metadata": {
            "tags": []
          },
          "execution_count": 38
        }
      ]
    },
    {
      "cell_type": "markdown",
      "metadata": {
        "id": "H-4497iHPVcp"
      },
      "source": [
        "Volvemos a entrenar el modelo"
      ]
    },
    {
      "cell_type": "code",
      "metadata": {
        "id": "soNt_RcUHpTn",
        "colab": {
          "base_uri": "https://localhost:8080/",
          "height": 105
        },
        "outputId": "234773e1-e1d9-4792-a49f-d5d426316ae9"
      },
      "source": [
        "lr.fit(X,y)"
      ],
      "execution_count": null,
      "outputs": [
        {
          "output_type": "execute_result",
          "data": {
            "text/plain": [
              "LogisticRegression(C=1.0, class_weight=None, dual=False, fit_intercept=True,\n",
              "                   intercept_scaling=1, l1_ratio=None, max_iter=100,\n",
              "                   multi_class='warn', n_jobs=None, penalty='none',\n",
              "                   random_state=None, solver='saga', tol=0.0001, verbose=0,\n",
              "                   warm_start=False)"
            ]
          },
          "metadata": {
            "tags": []
          },
          "execution_count": 39
        }
      ]
    },
    {
      "cell_type": "code",
      "metadata": {
        "id": "xMkndeekHpTz",
        "colab": {
          "base_uri": "https://localhost:8080/",
          "height": 34
        },
        "outputId": "649f085f-d092-4b85-b2f5-0da8df549190"
      },
      "source": [
        "lr.coef_"
      ],
      "execution_count": null,
      "outputs": [
        {
          "output_type": "execute_result",
          "data": {
            "text/plain": [
              "array([[ 0.13948644,  2.23162538, -0.41774386, -0.31555362]])"
            ]
          },
          "metadata": {
            "tags": []
          },
          "execution_count": 40
        }
      ]
    },
    {
      "cell_type": "markdown",
      "metadata": {
        "id": "HHaTyPIdPaZw"
      },
      "source": [
        "Veamos cómo cambió el umbral de decisión."
      ]
    },
    {
      "cell_type": "code",
      "metadata": {
        "id": "UyCSmuOeF-Ex",
        "colab": {
          "base_uri": "https://localhost:8080/",
          "height": 449
        },
        "outputId": "fb566030-df44-4b5b-af36-7ef03f2d7026"
      },
      "source": [
        "plt.figure(figsize=(7,7))\n",
        "x1 = np.linspace(X['x1'].min(), X['x1'].max(), 20)\n",
        "x2 = np.linspace(X['x2'].min(), X['x2'].max(), 20)\n",
        "x1, x2 = np.meshgrid(x1,x2)\n",
        "F = lr.coef_[0][0]*x1+ lr.coef_[0][1]*x2 + lr.coef_[0][2]*x1**2 + lr.coef_[0][3]*x2**2 + lr.intercept_\n",
        "plt.contour(x1,x2,F,[0],colors= 'r')\n",
        "plt.scatter(X['x1'], X['x2'], c = y)"
      ],
      "execution_count": null,
      "outputs": [
        {
          "output_type": "execute_result",
          "data": {
            "text/plain": [
              "<matplotlib.collections.PathCollection at 0x7fe829287828>"
            ]
          },
          "metadata": {
            "tags": []
          },
          "execution_count": 41
        },
        {
          "output_type": "display_data",
          "data": {
            "image/png": "[encoded data removed]",
            "text/plain": [
              "<Figure size 504x504 with 1 Axes>"
            ]
          },
          "metadata": {
            "tags": []
          }
        }
      ]
    }
  ]
}