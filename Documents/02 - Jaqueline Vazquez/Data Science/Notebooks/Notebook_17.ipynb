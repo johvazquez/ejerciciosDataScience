{
  "cells": [
    {
      "cell_type": "markdown",
      "metadata": {
        "id": "kEubG5v7uC0p"
      },
      "source": [
        "# Programa Ingenias+ Data Science\n",
        "\n"
      ]
    },
    {
      "cell_type": "code",
      "execution_count": null,
      "metadata": {
        "id": "fOVIqVJAuC0s"
      },
      "outputs": [],
      "source": [
        "import emoji"
      ]
    },
    {
      "cell_type": "markdown",
      "metadata": {
        "id": "AIgYtSQNuC0u"
      },
      "source": [
        "Recordemos que un proyecto de data science tiene varias etapas:\n",
        "\n",
        "1. Recolección de Datos\n",
        "2. Exploración y Procesamiento de los datos\n",
        "3. Modelado\n",
        "4. Puesta en Producción\n",
        "\n",
        "En clases anteriores, trabajamos con el dataset `StudentPerformace`. Pudimos observar el tipo de datos que teniamos y le hiciemos algunas transformaciones."
      ]
    },
    {
      "cell_type": "markdown",
      "metadata": {
        "id": "Lo4zlkjeuC0v"
      },
      "source": [
        "Llego la hora de utilizar los conceptos de aprendizaje supervisado para hacer predicciones sobre alguna variable en el dataset.\n",
        "\n",
        "Para poder ajustar modelos de Machine Learning, la herramienta más sencilla y más utilizada es `scikit-learn`. Esta librería es muy utilizada ya que contiene funciones desarrolladas para la mayoría de los modelos de machine learning. Además `Scikit-learn` tienen una amplia y muy buena [documentación](https://scikit-learn.org/stable/)."
      ]
    },
    {
      "cell_type": "markdown",
      "metadata": {
        "id": "rz-TAE9tuC0v"
      },
      "source": [
        "<font size=5> 🚀 👩🏽‍💻 Machine Learning: Aprendizaje Supervisado 📣</font>"
      ]
    },
    {
      "cell_type": "code",
      "execution_count": null,
      "metadata": {
        "id": "_9wlwX_XuC0w"
      },
      "outputs": [],
      "source": [
        "import pandas as pd\n",
        "import numpy as np\n",
        "import matplotlib.pyplot as plt\n",
        "import seaborn as sns\n",
        "import matplotlib.cm as cm"
      ]
    },
    {
      "cell_type": "code",
      "execution_count": null,
      "metadata": {
        "id": "OYt8n2nzuC0x"
      },
      "outputs": [],
      "source": [
        "import os"
      ]
    },
    {
      "cell_type": "code",
      "execution_count": null,
      "metadata": {
        "id": "IKz8vvdOuC0x",
        "outputId": "4aa02f96-ab35-486b-e8d0-8ed96947035c"
      },
      "outputs": [
        {
          "data": {
            "text/plain": [
              "'/Users/mariainzaugarat/MujeresDS/Febrero 2021'"
            ]
          },
          "execution_count": 4,
          "metadata": {},
          "output_type": "execute_result"
        }
      ],
      "source": [
        "os.getcwd()"
      ]
    },
    {
      "cell_type": "markdown",
      "metadata": {
        "id": "pHEEM5tPuC0z"
      },
      "source": [
        "Primero, vamos a leer los datos limpios y procesados."
      ]
    },
    {
      "cell_type": "code",
      "execution_count": null,
      "metadata": {
        "id": "oN52IWtouC0z"
      },
      "outputs": [],
      "source": [
        "# Leemos nuevamente los datos de los estudiantes\n",
        "students = pd.read_csv('estudiantes_limpio.csv')"
      ]
    },
    {
      "cell_type": "code",
      "execution_count": null,
      "metadata": {
        "id": "TuWKWl5XuC00",
        "outputId": "ce6d20c4-ff19-4791-e519-5c67158dee7f"
      },
      "outputs": [
        {
          "data": {
            "text/html": [
              "<div>\n",
              "<style scoped>\n",
              "    .dataframe tbody tr th:only-of-type {\n",
              "        vertical-align: middle;\n",
              "    }\n",
              "\n",
              "    .dataframe tbody tr th {\n",
              "        vertical-align: top;\n",
              "    }\n",
              "\n",
              "    .dataframe thead th {\n",
              "        text-align: right;\n",
              "    }\n",
              "</style>\n",
              "<table border=\"1\" class=\"dataframe\">\n",
              "  <thead>\n",
              "    <tr style=\"text-align: right;\">\n",
              "      <th></th>\n",
              "      <th>race/ethnicity</th>\n",
              "      <th>lunch</th>\n",
              "      <th>test preparation course</th>\n",
              "      <th>math score</th>\n",
              "      <th>reading score</th>\n",
              "      <th>writing score</th>\n",
              "      <th>english score</th>\n",
              "      <th>female</th>\n",
              "      <th>male</th>\n",
              "      <th>associate's degree</th>\n",
              "      <th>bachelor's degree</th>\n",
              "      <th>high school</th>\n",
              "      <th>master's degree</th>\n",
              "      <th>some college</th>\n",
              "      <th>some high school</th>\n",
              "    </tr>\n",
              "  </thead>\n",
              "  <tbody>\n",
              "    <tr>\n",
              "      <th>0</th>\n",
              "      <td>2</td>\n",
              "      <td>1</td>\n",
              "      <td>1</td>\n",
              "      <td>56.338028</td>\n",
              "      <td>90</td>\n",
              "      <td>88</td>\n",
              "      <td>89.0</td>\n",
              "      <td>1</td>\n",
              "      <td>0</td>\n",
              "      <td>0.0</td>\n",
              "      <td>0.0</td>\n",
              "      <td>0.0</td>\n",
              "      <td>0.0</td>\n",
              "      <td>1.0</td>\n",
              "      <td>0.0</td>\n",
              "    </tr>\n",
              "    <tr>\n",
              "      <th>1</th>\n",
              "      <td>1</td>\n",
              "      <td>1</td>\n",
              "      <td>0</td>\n",
              "      <td>85.915493</td>\n",
              "      <td>95</td>\n",
              "      <td>93</td>\n",
              "      <td>94.0</td>\n",
              "      <td>1</td>\n",
              "      <td>0</td>\n",
              "      <td>0.0</td>\n",
              "      <td>0.0</td>\n",
              "      <td>0.0</td>\n",
              "      <td>1.0</td>\n",
              "      <td>0.0</td>\n",
              "      <td>0.0</td>\n",
              "    </tr>\n",
              "    <tr>\n",
              "      <th>2</th>\n",
              "      <td>0</td>\n",
              "      <td>0</td>\n",
              "      <td>0</td>\n",
              "      <td>25.352113</td>\n",
              "      <td>57</td>\n",
              "      <td>44</td>\n",
              "      <td>50.5</td>\n",
              "      <td>0</td>\n",
              "      <td>1</td>\n",
              "      <td>1.0</td>\n",
              "      <td>0.0</td>\n",
              "      <td>0.0</td>\n",
              "      <td>0.0</td>\n",
              "      <td>0.0</td>\n",
              "      <td>0.0</td>\n",
              "    </tr>\n",
              "    <tr>\n",
              "      <th>3</th>\n",
              "      <td>2</td>\n",
              "      <td>1</td>\n",
              "      <td>0</td>\n",
              "      <td>66.197183</td>\n",
              "      <td>78</td>\n",
              "      <td>75</td>\n",
              "      <td>76.5</td>\n",
              "      <td>0</td>\n",
              "      <td>1</td>\n",
              "      <td>0.0</td>\n",
              "      <td>0.0</td>\n",
              "      <td>0.0</td>\n",
              "      <td>0.0</td>\n",
              "      <td>1.0</td>\n",
              "      <td>0.0</td>\n",
              "    </tr>\n",
              "    <tr>\n",
              "      <th>4</th>\n",
              "      <td>1</td>\n",
              "      <td>1</td>\n",
              "      <td>0</td>\n",
              "      <td>59.154930</td>\n",
              "      <td>83</td>\n",
              "      <td>78</td>\n",
              "      <td>80.5</td>\n",
              "      <td>1</td>\n",
              "      <td>0</td>\n",
              "      <td>1.0</td>\n",
              "      <td>0.0</td>\n",
              "      <td>0.0</td>\n",
              "      <td>0.0</td>\n",
              "      <td>0.0</td>\n",
              "      <td>0.0</td>\n",
              "    </tr>\n",
              "  </tbody>\n",
              "</table>\n",
              "</div>"
            ],
            "text/plain": [
              "   race/ethnicity  lunch  test preparation course  math score  reading score  \\\n",
              "0               2      1                        1   56.338028             90   \n",
              "1               1      1                        0   85.915493             95   \n",
              "2               0      0                        0   25.352113             57   \n",
              "3               2      1                        0   66.197183             78   \n",
              "4               1      1                        0   59.154930             83   \n",
              "\n",
              "   writing score  english score  female  male  associate's degree  \\\n",
              "0             88           89.0       1     0                 0.0   \n",
              "1             93           94.0       1     0                 0.0   \n",
              "2             44           50.5       0     1                 1.0   \n",
              "3             75           76.5       0     1                 0.0   \n",
              "4             78           80.5       1     0                 1.0   \n",
              "\n",
              "   bachelor's degree  high school  master's degree  some college  \\\n",
              "0                0.0          0.0              0.0           1.0   \n",
              "1                0.0          0.0              1.0           0.0   \n",
              "2                0.0          0.0              0.0           0.0   \n",
              "3                0.0          0.0              0.0           1.0   \n",
              "4                0.0          0.0              0.0           0.0   \n",
              "\n",
              "   some high school  \n",
              "0               0.0  \n",
              "1               0.0  \n",
              "2               0.0  \n",
              "3               0.0  \n",
              "4               0.0  "
            ]
          },
          "execution_count": 6,
          "metadata": {},
          "output_type": "execute_result"
        }
      ],
      "source": [
        "students.head()"
      ]
    },
    {
      "cell_type": "markdown",
      "metadata": {
        "id": "dZFnijxnuC00"
      },
      "source": [
        "Antes que nada, chequeemos nuevamente que eliminamos todos los valores faltantes."
      ]
    },
    {
      "cell_type": "code",
      "execution_count": null,
      "metadata": {
        "id": "kW8DVWhXuC00",
        "outputId": "a1db58d9-6d3d-48f5-a4da-0fcd3004058f"
      },
      "outputs": [
        {
          "data": {
            "text/plain": [
              "race/ethnicity             0\n",
              "lunch                      0\n",
              "test preparation course    0\n",
              "math score                 0\n",
              "reading score              0\n",
              "writing score              0\n",
              "english score              0\n",
              "female                     0\n",
              "male                       0\n",
              "associate's degree         0\n",
              "bachelor's degree          0\n",
              "high school                0\n",
              "master's degree            0\n",
              "some college               0\n",
              "some high school           0\n",
              "dtype: int64"
            ]
          },
          "execution_count": 7,
          "metadata": {},
          "output_type": "execute_result"
        }
      ],
      "source": [
        "students.isnull().sum()"
      ]
    },
    {
      "cell_type": "markdown",
      "metadata": {
        "id": "3PmzlWQSuC01"
      },
      "source": [
        "Ahora tenemos que decidir que variable o variables vamos a predecir. Esto quiere decir que tenemos que elegir cual va a ser la variable que al predecirla conteste la pregunta que nos hicimos de los datos."
      ]
    },
    {
      "cell_type": "markdown",
      "metadata": {
        "id": "6SQnjukYuC01"
      },
      "source": [
        "Lo que queremos saber es:\n",
        "\n",
        "1. ¿Qué puntaje final obtendra un estudiante?\n",
        "2. Dado un estudiante, ¿aprobara o no el examen?\n",
        "\n",
        "**_¿Qué tipo de problemas estamos tratando de resolver?_**"
      ]
    },
    {
      "cell_type": "markdown",
      "metadata": {
        "id": "J_bbxhPTuC02"
      },
      "source": [
        "Para contestar estas preguntas vamos a obtener dos nuevas variables:\n",
        "\n",
        "1. El puntaje final: Lo obtendremos promediando los tres puntajes (matematica, lectura y escritura)\n",
        "2. Aprobado: Una etiqueta que me permita saber si cada estudiante del dataset aprobo el examen (puntaje final >= 60) o no lo aprobo (puntaje final < 60)."
      ]
    },
    {
      "cell_type": "markdown",
      "metadata": {
        "id": "j7_8szOZuC1F"
      },
      "source": [
        "## 🟢 🟣 🟡 Clasificación"
      ]
    },
    {
      "cell_type": "markdown",
      "metadata": {
        "id": "HkAFCT_3uC1F"
      },
      "source": [
        "Contestaremos ahora la pregunta 2. Este problema es un problema de clasificación (_¿Por qué?_)\n",
        "\n",
        "Lo primero que veremos es si tenemos un desbalance de clases. Es muy importante ver que no tenemos una clase minoritaria, ya que esto afectaria el algoritmo. En nuestro caso, que trabajamos con una clasificación binaria, tener un desbalance de clases implica que tenemos menos del 10% de nuestros datos que pertenecen a una de las clases."
      ]
    },
    {
      "cell_type": "code",
      "execution_count": null,
      "metadata": {
        "id": "OqIfCLv1uC1F"
      },
      "outputs": [],
      "source": [
        "students['aprobado'] = students['puntaje_final'].apply(lambda x: 0 if x < 60 else 1)"
      ]
    },
    {
      "cell_type": "code",
      "execution_count": null,
      "metadata": {
        "id": "U6Auri3xuC1F",
        "outputId": "f21fd1ef-e580-453e-f985-7f9c15b56c05"
      },
      "outputs": [
        {
          "data": {
            "text/html": [
              "<div>\n",
              "<style scoped>\n",
              "    .dataframe tbody tr th:only-of-type {\n",
              "        vertical-align: middle;\n",
              "    }\n",
              "\n",
              "    .dataframe tbody tr th {\n",
              "        vertical-align: top;\n",
              "    }\n",
              "\n",
              "    .dataframe thead th {\n",
              "        text-align: right;\n",
              "    }\n",
              "</style>\n",
              "<table border=\"1\" class=\"dataframe\">\n",
              "  <thead>\n",
              "    <tr style=\"text-align: right;\">\n",
              "      <th></th>\n",
              "      <th>race/ethnicity</th>\n",
              "      <th>lunch</th>\n",
              "      <th>test preparation course</th>\n",
              "      <th>math score</th>\n",
              "      <th>reading score</th>\n",
              "      <th>writing score</th>\n",
              "      <th>english score</th>\n",
              "      <th>female</th>\n",
              "      <th>male</th>\n",
              "      <th>associate's degree</th>\n",
              "      <th>bachelor's degree</th>\n",
              "      <th>high school</th>\n",
              "      <th>master's degree</th>\n",
              "      <th>some college</th>\n",
              "      <th>some high school</th>\n",
              "      <th>puntaje_final</th>\n",
              "      <th>aprobado</th>\n",
              "    </tr>\n",
              "  </thead>\n",
              "  <tbody>\n",
              "    <tr>\n",
              "      <th>0</th>\n",
              "      <td>2</td>\n",
              "      <td>1</td>\n",
              "      <td>1</td>\n",
              "      <td>56.338028</td>\n",
              "      <td>90</td>\n",
              "      <td>88</td>\n",
              "      <td>89.0</td>\n",
              "      <td>1</td>\n",
              "      <td>0</td>\n",
              "      <td>0.0</td>\n",
              "      <td>0.0</td>\n",
              "      <td>0.0</td>\n",
              "      <td>0.0</td>\n",
              "      <td>1.0</td>\n",
              "      <td>0.0</td>\n",
              "      <td>78.112676</td>\n",
              "      <td>1</td>\n",
              "    </tr>\n",
              "    <tr>\n",
              "      <th>1</th>\n",
              "      <td>1</td>\n",
              "      <td>1</td>\n",
              "      <td>0</td>\n",
              "      <td>85.915493</td>\n",
              "      <td>95</td>\n",
              "      <td>93</td>\n",
              "      <td>94.0</td>\n",
              "      <td>1</td>\n",
              "      <td>0</td>\n",
              "      <td>0.0</td>\n",
              "      <td>0.0</td>\n",
              "      <td>0.0</td>\n",
              "      <td>1.0</td>\n",
              "      <td>0.0</td>\n",
              "      <td>0.0</td>\n",
              "      <td>91.305164</td>\n",
              "      <td>1</td>\n",
              "    </tr>\n",
              "    <tr>\n",
              "      <th>2</th>\n",
              "      <td>0</td>\n",
              "      <td>0</td>\n",
              "      <td>0</td>\n",
              "      <td>25.352113</td>\n",
              "      <td>57</td>\n",
              "      <td>44</td>\n",
              "      <td>50.5</td>\n",
              "      <td>0</td>\n",
              "      <td>1</td>\n",
              "      <td>1.0</td>\n",
              "      <td>0.0</td>\n",
              "      <td>0.0</td>\n",
              "      <td>0.0</td>\n",
              "      <td>0.0</td>\n",
              "      <td>0.0</td>\n",
              "      <td>42.117371</td>\n",
              "      <td>0</td>\n",
              "    </tr>\n",
              "    <tr>\n",
              "      <th>3</th>\n",
              "      <td>2</td>\n",
              "      <td>1</td>\n",
              "      <td>0</td>\n",
              "      <td>66.197183</td>\n",
              "      <td>78</td>\n",
              "      <td>75</td>\n",
              "      <td>76.5</td>\n",
              "      <td>0</td>\n",
              "      <td>1</td>\n",
              "      <td>0.0</td>\n",
              "      <td>0.0</td>\n",
              "      <td>0.0</td>\n",
              "      <td>0.0</td>\n",
              "      <td>1.0</td>\n",
              "      <td>0.0</td>\n",
              "      <td>73.065728</td>\n",
              "      <td>1</td>\n",
              "    </tr>\n",
              "    <tr>\n",
              "      <th>4</th>\n",
              "      <td>1</td>\n",
              "      <td>1</td>\n",
              "      <td>0</td>\n",
              "      <td>59.154930</td>\n",
              "      <td>83</td>\n",
              "      <td>78</td>\n",
              "      <td>80.5</td>\n",
              "      <td>1</td>\n",
              "      <td>0</td>\n",
              "      <td>1.0</td>\n",
              "      <td>0.0</td>\n",
              "      <td>0.0</td>\n",
              "      <td>0.0</td>\n",
              "      <td>0.0</td>\n",
              "      <td>0.0</td>\n",
              "      <td>73.384977</td>\n",
              "      <td>1</td>\n",
              "    </tr>\n",
              "  </tbody>\n",
              "</table>\n",
              "</div>"
            ],
            "text/plain": [
              "   race/ethnicity  lunch  test preparation course  math score  reading score  \\\n",
              "0               2      1                        1   56.338028             90   \n",
              "1               1      1                        0   85.915493             95   \n",
              "2               0      0                        0   25.352113             57   \n",
              "3               2      1                        0   66.197183             78   \n",
              "4               1      1                        0   59.154930             83   \n",
              "\n",
              "   writing score  english score  female  male  associate's degree  \\\n",
              "0             88           89.0       1     0                 0.0   \n",
              "1             93           94.0       1     0                 0.0   \n",
              "2             44           50.5       0     1                 1.0   \n",
              "3             75           76.5       0     1                 0.0   \n",
              "4             78           80.5       1     0                 1.0   \n",
              "\n",
              "   bachelor's degree  high school  master's degree  some college  \\\n",
              "0                0.0          0.0              0.0           1.0   \n",
              "1                0.0          0.0              1.0           0.0   \n",
              "2                0.0          0.0              0.0           0.0   \n",
              "3                0.0          0.0              0.0           1.0   \n",
              "4                0.0          0.0              0.0           0.0   \n",
              "\n",
              "   some high school  puntaje_final  aprobado  \n",
              "0               0.0      78.112676         1  \n",
              "1               0.0      91.305164         1  \n",
              "2               0.0      42.117371         0  \n",
              "3               0.0      73.065728         1  \n",
              "4               0.0      73.384977         1  "
            ]
          },
          "execution_count": 53,
          "metadata": {},
          "output_type": "execute_result"
        }
      ],
      "source": [
        "students.head()"
      ]
    },
    {
      "cell_type": "code",
      "execution_count": null,
      "metadata": {
        "id": "uaQ3thhtuC1G",
        "outputId": "343e398e-4c53-4401-f19a-a6d6895fbfdc"
      },
      "outputs": [
        {
          "data": {
            "image/png": "[encoded data removed]",
            "text/plain": [
              "<Figure size 432x288 with 1 Axes>"
            ]
          },
          "metadata": {
            "needs_background": "light"
          },
          "output_type": "display_data"
        }
      ],
      "source": [
        "sns.countplot(x=students['aprobado'], palette='Set2')\n",
        "sns.despine()"
      ]
    },
    {
      "cell_type": "code",
      "execution_count": null,
      "metadata": {
        "id": "y4vfL2vEuC1G",
        "outputId": "0316b2dd-b7bb-4206-841f-a1b522a2ef2e"
      },
      "outputs": [
        {
          "data": {
            "text/plain": [
              "1    60.602911\n",
              "0    39.397089\n",
              "Name: aprobado, dtype: float64"
            ]
          },
          "execution_count": 55,
          "metadata": {},
          "output_type": "execute_result"
        }
      ],
      "source": [
        "students['aprobado'].value_counts() / students['aprobado'].size * 100"
      ]
    },
    {
      "cell_type": "markdown",
      "metadata": {
        "id": "dxmkQ4U2uC1G"
      },
      "source": [
        "Como vemos que no tenemos un desbalance, podemos continuar."
      ]
    },
    {
      "cell_type": "markdown",
      "metadata": {
        "id": "lxnxFG8RuC1G"
      },
      "source": [
        "#### Seleccion de target (y) y variables (X)"
      ]
    },
    {
      "cell_type": "markdown",
      "metadata": {
        "id": "DTI9j4nauC1G"
      },
      "source": [
        "Ahora seleccionaremos las variables o features que deseemos usar como variable independientes y la variable a predecir.\n",
        "\n",
        "Usaremos todas las variables menos aquellas que fueron usadas para calcular el puntaje final. Debemos también asegurarnos de no incluir las variables a predecir. Como variable a predecir usaremos `aprobado`."
      ]
    },
    {
      "cell_type": "code",
      "execution_count": null,
      "metadata": {
        "id": "RSGiAQjtuC1H"
      },
      "outputs": [],
      "source": [
        "xc = students.drop(['math score', 'reading score', 'writing score', 'english score', 'puntaje_final', 'aprobado'],\n",
        "                  axis=1)"
      ]
    },
    {
      "cell_type": "code",
      "execution_count": null,
      "metadata": {
        "id": "uJRPvl2OuC1H"
      },
      "outputs": [],
      "source": [
        "yc = students['aprobado']"
      ]
    },
    {
      "cell_type": "code",
      "execution_count": null,
      "metadata": {
        "id": "RwvMJhn6uC1H"
      },
      "outputs": [],
      "source": [
        "xc, yc = np.array(xc), np.array(yc)"
      ]
    },
    {
      "cell_type": "markdown",
      "metadata": {
        "id": "OYAowkjluC1H"
      },
      "source": [
        "#### Separando Train / Test"
      ]
    },
    {
      "cell_type": "markdown",
      "metadata": {
        "id": "3M5kNTOguC1H"
      },
      "source": [
        "Separamos nuevamente el dataset en entrenamiento y testeo o evaluación."
      ]
    },
    {
      "cell_type": "code",
      "execution_count": null,
      "metadata": {
        "id": "81Pbevj4uC1H"
      },
      "outputs": [],
      "source": [
        "X_train_c, X_test_c, y_train_c, y_test_c = train_test_split(xc, yc, test_size=0.2,\n",
        "                                                    random_state=42)"
      ]
    },
    {
      "cell_type": "markdown",
      "metadata": {
        "id": "Hni6O3PeuC1H"
      },
      "source": [
        "### Clasificador kNN"
      ]
    },
    {
      "cell_type": "markdown",
      "metadata": {
        "id": "MiwcJYwD7q24"
      },
      "source": [
        "### Clasificador kNN"
      ]
    },
    {
      "cell_type": "markdown",
      "metadata": {
        "id": "gezydJYq7q3A"
      },
      "source": [
        "Para realizar la clasificación utilizaremos el algoritmo de los k-vecinos más cercanos."
      ]
    },
    {
      "cell_type": "code",
      "execution_count": null,
      "metadata": {
        "id": "ZILc-WOa7q3A"
      },
      "outputs": [],
      "source": [
        "from sklearn.neighbors import KNeighborsClassifier"
      ]
    },
    {
      "cell_type": "code",
      "execution_count": null,
      "metadata": {
        "id": "hsiJe_r07q3A"
      },
      "outputs": [],
      "source": [
        "# metricas\n",
        "from sklearn.metrics import accuracy_score"
      ]
    },
    {
      "cell_type": "code",
      "execution_count": null,
      "metadata": {
        "id": "vDkqQ27X7q3A"
      },
      "outputs": [],
      "source": [
        "knn = KNeighborsClassifier()"
      ]
    },
    {
      "cell_type": "code",
      "execution_count": null,
      "metadata": {
        "id": "W9WxAt4E7q3B"
      },
      "outputs": [],
      "source": [
        "# Entrenamos el modelo\n",
        "knn.fit(X_train_c, y_train_c);"
      ]
    },
    {
      "cell_type": "code",
      "execution_count": null,
      "metadata": {
        "id": "eag6WsUt7q3B"
      },
      "outputs": [],
      "source": [
        "# Predecimos\n",
        "predicciones_cla = knn.predict(X_test_c)"
      ]
    },
    {
      "cell_type": "code",
      "execution_count": null,
      "metadata": {
        "outputId": "cafd3528-11aa-4688-894c-89621441b283",
        "id": "LJkrfxG77q3B"
      },
      "outputs": [
        {
          "name": "stdout",
          "output_type": "stream",
          "text": [
            "71.52%\n"
          ]
        }
      ],
      "source": [
        "accuracy = accuracy_score(y_train_c, predicciones_cla)*100\n",
        "print(f'{round(accuracy, 2)}%')"
      ]
    },
    {
      "cell_type": "markdown",
      "source": [
        "### Random Forest"
      ],
      "metadata": {
        "id": "GhC2J87M7yV0"
      }
    },
    {
      "cell_type": "markdown",
      "metadata": {
        "id": "nZVPm1OLuC1H"
      },
      "source": [
        "Ahora utilizaremos Random Forest, pero en su versión Clasificacion."
      ]
    },
    {
      "cell_type": "code",
      "execution_count": null,
      "metadata": {
        "id": "qh9R97VduC1I"
      },
      "outputs": [],
      "source": [
        "from sklearn.ensemble import RandomForestClassifier"
      ]
    },
    {
      "cell_type": "code",
      "execution_count": null,
      "metadata": {
        "id": "UR417dgBuC1I"
      },
      "outputs": [],
      "source": [
        "rf_cla = RandomForestClassifier()"
      ]
    },
    {
      "cell_type": "code",
      "execution_count": null,
      "metadata": {
        "id": "SGc1a-1luC1I"
      },
      "outputs": [],
      "source": [
        "# Entrenamos el modelo\n",
        "rf_cla.fit(X_train_c, y_train_c);"
      ]
    },
    {
      "cell_type": "code",
      "execution_count": null,
      "metadata": {
        "id": "0M8J3wRbuC1I"
      },
      "outputs": [],
      "source": [
        "# Predecimos\n",
        "predicciones_rf = rf_cla.predict(X_test_c)"
      ]
    },
    {
      "cell_type": "code",
      "execution_count": null,
      "metadata": {
        "id": "l6Uwma9GuC1I",
        "outputId": "cafd3528-11aa-4688-894c-89621441b283"
      },
      "outputs": [
        {
          "name": "stdout",
          "output_type": "stream",
          "text": [
            "71.52%\n"
          ]
        }
      ],
      "source": [
        "accuracy = accuracy_score(y_train_c, predicciones_rf)*100\n",
        "print(f'{round(accuracy, 2)}%')"
      ]
    }
  ],
  "metadata": {
    "kernelspec": {
      "display_name": "Python 3 (ipykernel)",
      "language": "python",
      "name": "python3"
    },
    "language_info": {
      "codemirror_mode": {
        "name": "ipython",
        "version": 3
      },
      "file_extension": ".py",
      "mimetype": "text/x-python",
      "name": "python",
      "nbconvert_exporter": "python",
      "pygments_lexer": "ipython3",
      "version": "3.9.6"
    },
    "colab": {
      "provenance": []
    }
  },
  "nbformat": 4,
  "nbformat_minor": 0
}