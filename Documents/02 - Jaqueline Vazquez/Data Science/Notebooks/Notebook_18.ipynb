{
  "cells": [
    {
      "cell_type": "markdown",
      "metadata": {
        "id": "hAipadortrs1"
      },
      "source": [
        "\n",
        "# Programa Ingenia+ Data Science"
      ]
    },
    {
      "cell_type": "markdown",
      "metadata": {
        "id": "h2Fw5rW4trs6"
      },
      "source": [
        "Recordemos que un proyecto de data science tiene varias etapas:\n",
        "\n",
        "1. Recolección de Datos\n",
        "2. Exploración y Procesamiento de los datos\n",
        "3. Modelado\n",
        "4. Puesta en Producción\n",
        "\n",
        "En clases anteriores, trabajamos con el dataset `StudentPerformace`. Pudimos observar el tipo de datos que teniamos y le hiciemos algunas transformaciones."
      ]
    },
    {
      "cell_type": "markdown",
      "metadata": {
        "id": "e82i9xLWtrs8"
      },
      "source": [
        "<font size=5> 🚀 👩🏽‍💻 Machine Learning: Aprendizaje Supervisado 📣</font>"
      ]
    },
    {
      "cell_type": "code",
      "execution_count": null,
      "metadata": {
        "id": "kq0OfMBEtrs8"
      },
      "outputs": [],
      "source": [
        "import pandas as pd\n",
        "import numpy as np\n",
        "import matplotlib.pyplot as plt\n",
        "import seaborn as sns\n",
        "import matplotlib.cm as cm"
      ]
    },
    {
      "cell_type": "code",
      "execution_count": null,
      "metadata": {
        "id": "yIm3SGfUtrtF"
      },
      "outputs": [],
      "source": [
        "# Importamos la librearia para separar el dataset.\n",
        "from sklearn.model_selection import train_test_split"
      ]
    },
    {
      "cell_type": "code",
      "execution_count": null,
      "metadata": {
        "id": "9oSXXy4strtG"
      },
      "outputs": [],
      "source": [
        "from sklearn.ensemble import RandomForestRegressor"
      ]
    },
    {
      "cell_type": "code",
      "execution_count": null,
      "metadata": {
        "id": "ZrABtqLAtrtG"
      },
      "outputs": [],
      "source": [
        "from sklearn.metrics import mean_absolute_error"
      ]
    },
    {
      "cell_type": "code",
      "execution_count": null,
      "metadata": {
        "id": "qh9R97VduC1I"
      },
      "outputs": [],
      "source": [
        "from sklearn.neighbors import KNeighborsClassifier"
      ]
    },
    {
      "cell_type": "code",
      "execution_count": null,
      "metadata": {
        "id": "5INo2AI_trs_"
      },
      "outputs": [],
      "source": [
        "# Leemos nuevamente los datos de los estudiantes\n",
        "students = pd.read_csv('estudiantes_limpio.csv')"
      ]
    },
    {
      "cell_type": "code",
      "execution_count": null,
      "metadata": {
        "id": "SIJoXs9btrtC"
      },
      "outputs": [],
      "source": [
        "students['puntaje_final'] = (students['math score'] + students['reading score'] + students['writing score']) / 3"
      ]
    },
    {
      "cell_type": "markdown",
      "metadata": {
        "id": "mYW1nWOQtrtH"
      },
      "source": [
        "## Evaluación del modelo de regresión"
      ]
    },
    {
      "cell_type": "code",
      "execution_count": null,
      "metadata": {
        "id": "n26RPfDktrtD"
      },
      "outputs": [],
      "source": [
        "# Elimino aquellas variables que no quiero incluir en el modelo y las guardo en x.\n",
        "x = students.drop(['math score', 'reading score', 'writing score', 'english score', 'puntaje_final'],\n",
        "                  axis=1)"
      ]
    },
    {
      "cell_type": "code",
      "execution_count": null,
      "metadata": {
        "id": "hsAHmeoqtrtD"
      },
      "outputs": [],
      "source": [
        "lista_atributos = x.columns"
      ]
    },
    {
      "cell_type": "code",
      "execution_count": null,
      "metadata": {
        "id": "lBf0JdxUtrtE"
      },
      "outputs": [],
      "source": [
        "# Ahora selecciono las etiquetas y las guardo en y.\n",
        "y = students['puntaje_final']"
      ]
    },
    {
      "cell_type": "code",
      "execution_count": null,
      "metadata": {
        "id": "3Ewo1kUBtrtE"
      },
      "outputs": [],
      "source": [
        "x, y = np.array(x), np.array(y)"
      ]
    },
    {
      "cell_type": "code",
      "execution_count": null,
      "metadata": {
        "id": "AdXer8lCtrtF"
      },
      "outputs": [],
      "source": [
        "X_train, X_test, y_train, y_test = train_test_split(x, y, test_size=0.2,\n",
        "                                                    random_state=42)"
      ]
    },
    {
      "cell_type": "code",
      "execution_count": null,
      "metadata": {
        "id": "5L1GE5zDtrtH"
      },
      "outputs": [],
      "source": [
        "# Inicializo el modelo\n",
        "regresor = RandomForestRegressor(criterion='mae', random_state=42)"
      ]
    },
    {
      "cell_type": "code",
      "execution_count": null,
      "metadata": {
        "id": "A1HE79HntrtH"
      },
      "outputs": [],
      "source": [
        "# Entreno el modelo\n",
        "regresor.fit(X_train, y_train);"
      ]
    },
    {
      "cell_type": "code",
      "execution_count": null,
      "metadata": {
        "id": "8pQdilCwtrtH"
      },
      "outputs": [],
      "source": [
        "regresor.get_params()"
      ]
    },
    {
      "cell_type": "markdown",
      "metadata": {
        "id": "QRnG61KltrtH"
      },
      "source": [
        "Ahora evaluaremos el modelo. Primero, hacemos predicciones para el set de evaluación y luego lo comparamos con los valores reales."
      ]
    },
    {
      "cell_type": "code",
      "execution_count": null,
      "metadata": {
        "id": "od_0uGDKtrtH"
      },
      "outputs": [],
      "source": [
        "# Predigo los valores para el set de testeo\n",
        "y_pred = regresor.predict(X_test)"
      ]
    },
    {
      "cell_type": "code",
      "execution_count": null,
      "metadata": {
        "id": "HBJlPxRctrtH"
      },
      "outputs": [],
      "source": [
        "# Calculo el error medio absoluto\n",
        "mean_absolute_error(y_test, y_pred)"
      ]
    },
    {
      "cell_type": "code",
      "execution_count": null,
      "metadata": {
        "id": "R2cJAcGGtrtI"
      },
      "outputs": [],
      "source": [
        "# Calculo el error porcentual medio promedio\n",
        "np.mean((np.abs(y_pred - y_test)/y_test)*100)"
      ]
    },
    {
      "cell_type": "code",
      "execution_count": null,
      "metadata": {
        "id": "5_3atrJ_trtI"
      },
      "outputs": [],
      "source": [
        "# Predigo los valores para el set de training\n",
        "y_pred_train = regresor.predict(X_train)"
      ]
    },
    {
      "cell_type": "code",
      "execution_count": null,
      "metadata": {
        "id": "e48sjFHAtrtI"
      },
      "outputs": [],
      "source": [
        "mean_absolute_error(y_train, y_pred_train)"
      ]
    },
    {
      "cell_type": "code",
      "execution_count": null,
      "metadata": {
        "id": "61cgp-oGtrtI"
      },
      "outputs": [],
      "source": [
        "# Calculo el error porcentual medio promedio para el entrenamiento\n",
        "np.mean((np.abs(y_train - y_pred_train)/y_train)*100)"
      ]
    },
    {
      "cell_type": "markdown",
      "metadata": {
        "id": "aHnMaULytrtI"
      },
      "source": [
        "Obtenemos la importancia de cada feature usando `feature_importances_`."
      ]
    },
    {
      "cell_type": "code",
      "execution_count": null,
      "metadata": {
        "id": "o6XSCBojtrtI"
      },
      "outputs": [],
      "source": [
        "for x, y in list(zip(lista_atributos,regresor.feature_importances_)):\n",
        "    print(f'Atributo: {x}, Importancia: {y}')"
      ]
    },
    {
      "cell_type": "code",
      "execution_count": null,
      "metadata": {
        "id": "Rir7bdMRtrtJ"
      },
      "outputs": [],
      "source": [
        "np.mean(y_train)"
      ]
    },
    {
      "cell_type": "markdown",
      "metadata": {
        "id": "_RPXEAERtrtJ"
      },
      "source": [
        "**¿Podemos aceptar un modelo que prediga con un 20% de error?** ¿Qué podemos hacer ahora para mejorar nuestro modelo?"
      ]
    },
    {
      "cell_type": "markdown",
      "metadata": {
        "id": "ifBbium6trtK"
      },
      "source": [
        "## Buscando el 'mejor' modelo (Regresión)"
      ]
    },
    {
      "cell_type": "markdown",
      "metadata": {
        "id": "in1b_cJItrtK"
      },
      "source": [
        "Lo primero que podemos hacer es tratar de optimizar los parameteros del Random Forest. Para eso podemos revisar en la documentación que parametros se pueden [optimizar](https://scikit-learn.org/stable/modules/generated/sklearn.ensemble.RandomForestRegressor.html)."
      ]
    },
    {
      "cell_type": "markdown",
      "metadata": {
        "id": "y1l5y2H0trtK"
      },
      "source": [
        "De manera de hacer una búsqueda, utilizaremos la función [GridSearchCV](https://scikit-learn.org/stable/modules/generated/sklearn.model_selection.GridSearchCV.html)."
      ]
    },
    {
      "cell_type": "markdown",
      "metadata": {
        "id": "IdipS65PtrtJ"
      },
      "source": [
        "Recordemos que utilizamos un algoritmo de regresión, por lo tanto, vamos a usar los error para poder evaluar el desempeño de nuestro modelo. Primero creemos unas funciones que nos permitiran obtener los errores facilmente y graficar los resultados."
      ]
    },
    {
      "cell_type": "code",
      "execution_count": null,
      "metadata": {
        "id": "u-BvioqAtrtJ"
      },
      "outputs": [],
      "source": [
        "def evaluation(y_test, predictions):\n",
        "    \"\"\"\n",
        "    Funcion que devuelve el error absoluto medio y el error porcentual absoluto medio.\n",
        "\n",
        "    :param y_test: valores reales\n",
        "    :param predictions: valores predichos\n",
        "\n",
        "    :return: Devuelve el error absoluto medio y el error porcentual absoluto medio.\n",
        "    \"\"\"\n",
        "    # Calcula mae\n",
        "    mae = mean_absolute_error(y_test, predictions)\n",
        "    #calculate mape\n",
        "    mape = np.mean((np.abs(y_test - predictions)/y_test)*100)\n",
        "    #print calculated values\n",
        "    print(f\"El error absoluto medio para el modelo es {round(mae, 2)}\")\n",
        "    print(f\"El error porcentual absoluto medio para el modelo es {round(mape, 2)}\")"
      ]
    },
    {
      "cell_type": "code",
      "execution_count": null,
      "metadata": {
        "id": "aqamgIKstrtJ"
      },
      "outputs": [],
      "source": [
        "def graph_real_pred(y_test, predictions, color):\n",
        "    \"\"\"\n",
        "    Funcion que grafica los valores reales vs. predichos\n",
        "    :param y_test: valores reales\n",
        "    :param predictions: valores predichos\n",
        "    :param color: color para el plot.\n",
        "\n",
        "    :return: Scatterplot mostrando la relacion entre el valor real y el predicho\n",
        "    \"\"\"\n",
        "    plt.scatter(y_test, predictions, c=color, s=10)\n",
        "    plt.gca().spines['top'].set_visible(False)\n",
        "    plt.gca().spines['bottom'].set_visible(False)\n",
        "    plt.gca().spines['left'].set_visible(False)\n",
        "    plt.gca().spines['right'].set_visible(False)\n",
        "    plt.xlabel('Real', size=15, labelpad=1)\n",
        "    plt.ylabel('Predicted', size=15, labelpad=1)\n",
        "    plt.show()"
      ]
    },
    {
      "cell_type": "code",
      "execution_count": null,
      "metadata": {
        "id": "77wu4Y6ttrtJ"
      },
      "outputs": [],
      "source": [
        "def feature_importance(model, feature_list):\n",
        "    \"\"\"\n",
        "    Function that gets and plots the feature importance\n",
        "    for the given model\n",
        "    :param model: the model to evaluaate\n",
        "    :param feature_list: a list of features contained in the model\n",
        "\n",
        "    :returns a plot with feature importance\n",
        "    \"\"\"\n",
        "    # Obtiene la lista de importancias\n",
        "    importances = list(model.feature_importances_)\n",
        "    # Junta los nombres de los atributos y las importancias\n",
        "    feature_importances = [(feature, round(importance, 2)) for feature, importance in zip(feature_list, importances)]\n",
        "    # Ordena por orden de importancia\n",
        "    feature_importances = sorted(feature_importances, key = lambda x: x[1], reverse = True)\n",
        "    # Print la lista de importancias\n",
        "    [print('Variable: {} Importance: {}'.format(*pair)) for pair in feature_importances];\n",
        "    # Colores\n",
        "    colors = cm.rainbow(np.linspace(0, 1, len(feature_list)))\n",
        "\n",
        "    # Caracteristicas en orden de importancia\n",
        "    characteristics = [x[0] for x in feature_importances]\n",
        "    # Obtiene las importancias\n",
        "    importances_plot = [x[1] for x in feature_importances]\n",
        "    # Grafica un bar plot\n",
        "    plt.bar(characteristics, importances_plot, color=colors)\n",
        "    # Personalizamos el grafico\n",
        "    plt.xticks(list(range(len(characteristics))), characteristics, rotation = 90)\n",
        "    plt.gca().spines['top'].set_visible(False)\n",
        "    plt.gca().spines['bottom'].set_visible(False)\n",
        "    plt.gca().spines['left'].set_visible(False)\n",
        "    plt.gca().spines['right'].set_visible(False)\n",
        "    plt.gcf().subplots_adjust(bottom=0.3);"
      ]
    },
    {
      "cell_type": "code",
      "execution_count": null,
      "metadata": {
        "id": "T72rl1yytrtK"
      },
      "outputs": [],
      "source": [
        "from sklearn.model_selection import GridSearchCV"
      ]
    },
    {
      "cell_type": "code",
      "execution_count": null,
      "metadata": {
        "id": "fIMcNdG9trtK"
      },
      "outputs": [],
      "source": [
        "# Valores para los parametros a optimizar\n",
        "param_grid_rf = {\n",
        "    'criterion': ['mae'],\n",
        "    'n_estimators': [70, 80, 90, 100, 120],\n",
        "    'max_features': ['log2','sqrt'],\n",
        "    'max_depth': [1, 3, 5, 10, 20, 50],\n",
        "    'min_samples_leaf': [1, 3, 5, 10, 20, 50]\n",
        "}"
      ]
    },
    {
      "cell_type": "markdown",
      "metadata": {
        "id": "0Jc56nSwtrtK"
      },
      "source": [
        "```python\n",
        "modelo 1: mae, 70, log2, 1, 1 --> CV=5\n",
        "modelo 2: mae, 80, log2, 1, 1\n",
        "```"
      ]
    },
    {
      "cell_type": "code",
      "execution_count": null,
      "metadata": {
        "id": "IoVfHWpntrtK"
      },
      "outputs": [],
      "source": [
        "# Inicializamos un modelo\n",
        "grid_regresor = RandomForestRegressor(random_state=42)"
      ]
    },
    {
      "cell_type": "code",
      "execution_count": null,
      "metadata": {
        "id": "IVXc7XzjtrtK"
      },
      "outputs": [],
      "source": [
        "# Creamos la busqueda\n",
        "rf_search = GridSearchCV(estimator=grid_regresor, param_grid=param_grid_rf,\n",
        "                         cv=5, scoring='neg_mean_absolute_error', verbose=2, n_jobs=-1)"
      ]
    },
    {
      "cell_type": "code",
      "execution_count": null,
      "metadata": {
        "id": "f4R2pZ9ytrtL"
      },
      "outputs": [],
      "source": [
        "# Corremos el gridsearch con una validación usando 3 folds.\n",
        "rf_search.fit(X_train, y_train)"
      ]
    },
    {
      "cell_type": "markdown",
      "metadata": {
        "id": "sQVKYKpDtrtL"
      },
      "source": [
        "**¿Cuál es nuestro mejor estimador?**"
      ]
    },
    {
      "cell_type": "code",
      "execution_count": null,
      "metadata": {
        "id": "tvsVsxNntrtL"
      },
      "outputs": [],
      "source": [
        "rf_search.best_estimator_"
      ]
    },
    {
      "cell_type": "code",
      "execution_count": null,
      "metadata": {
        "id": "XjYGh8PMtrtL"
      },
      "outputs": [],
      "source": [
        "rf_search.best_params_"
      ]
    },
    {
      "cell_type": "code",
      "execution_count": null,
      "metadata": {
        "id": "RvNmbXcztrtL"
      },
      "outputs": [],
      "source": [
        "rf_search.best_score_"
      ]
    },
    {
      "cell_type": "code",
      "execution_count": null,
      "metadata": {
        "id": "b69YREF_trtL"
      },
      "outputs": [],
      "source": [
        "# Asignamos el mejor estimador a mejor_regresor\n",
        "mejor_regresor = RandomForestRegressor(criterion='mae', n_estimators=70, max_depth=10, max_features='log2', min_samples_leaf=10)"
      ]
    },
    {
      "cell_type": "code",
      "execution_count": null,
      "metadata": {
        "id": "DZmCj0tltrtL"
      },
      "outputs": [],
      "source": [
        "# Entrenamos el modelo\n",
        "mejor_regresor.fit(X_train, y_train)"
      ]
    },
    {
      "cell_type": "code",
      "execution_count": null,
      "metadata": {
        "id": "Ib-JR31dtrtM"
      },
      "outputs": [],
      "source": [
        "# Hacemos la prediccion para el test de evaluación\n",
        "predicciones = mejor_regresor.predict(X_test)"
      ]
    },
    {
      "cell_type": "code",
      "execution_count": null,
      "metadata": {
        "id": "3Ikp4hPstrtM"
      },
      "outputs": [],
      "source": [
        "# Error\n",
        "evaluation(y_test, predicciones)"
      ]
    },
    {
      "cell_type": "code",
      "execution_count": null,
      "metadata": {
        "id": "ShDDZrpXtrtM"
      },
      "outputs": [],
      "source": [
        "# Correlacion\n",
        "graph_real_pred(y_test, predicciones, color='#E67E22')"
      ]
    },
    {
      "cell_type": "code",
      "execution_count": null,
      "metadata": {
        "id": "nWm0ud5-trtM"
      },
      "outputs": [],
      "source": [
        "# Importancia de cada feature\n",
        "feature_importance(mejor_regresor, lista_atributos)"
      ]
    },
    {
      "cell_type": "markdown",
      "source": [
        "## Evaluacion de un modelo de Clasificación"
      ],
      "metadata": {
        "id": "uqRlN187COSX"
      }
    },
    {
      "cell_type": "code",
      "execution_count": null,
      "metadata": {
        "id": "Gc8xM-O_uC1I"
      },
      "outputs": [],
      "source": [
        "# metricas\n",
        "from sklearn.metrics import (\n",
        "    accuracy_score,\n",
        "    confusion_matrix,\n",
        "    precision_score,\n",
        "    recall_score,\n",
        "    f1_score\n",
        ")"
      ]
    },
    {
      "cell_type": "code",
      "source": [
        "students['aprobado'] = students['puntaje_final'].apply(lambda x: 0 if x < 60 else 1)"
      ],
      "metadata": {
        "id": "NpUJb0VcCNUY"
      },
      "execution_count": null,
      "outputs": []
    },
    {
      "cell_type": "code",
      "execution_count": null,
      "metadata": {
        "id": "RSGiAQjtuC1H"
      },
      "outputs": [],
      "source": [
        "xc = students.drop(['math score', 'reading score', 'writing score', 'english score', 'puntaje_final', 'aprobado'],\n",
        "                  axis=1)"
      ]
    },
    {
      "cell_type": "code",
      "execution_count": null,
      "metadata": {
        "id": "uJRPvl2OuC1H"
      },
      "outputs": [],
      "source": [
        "yc = students['aprobado']"
      ]
    },
    {
      "cell_type": "code",
      "execution_count": null,
      "metadata": {
        "id": "RwvMJhn6uC1H"
      },
      "outputs": [],
      "source": [
        "xc, yc = np.array(xc), np.array(yc)"
      ]
    },
    {
      "cell_type": "code",
      "source": [
        "X_train_c, X_test_c, y_train_c, y_test_c = train_test_split(xc, yc, test_size=0.2,\n",
        "                                                    random_state=42)"
      ],
      "metadata": {
        "id": "mXBt1YyUCZNF"
      },
      "execution_count": null,
      "outputs": []
    },
    {
      "cell_type": "code",
      "execution_count": null,
      "metadata": {
        "id": "UR417dgBuC1I"
      },
      "outputs": [],
      "source": [
        "knn = KNeighborsClassifier()"
      ]
    },
    {
      "cell_type": "code",
      "execution_count": null,
      "metadata": {
        "id": "SGc1a-1luC1I"
      },
      "outputs": [],
      "source": [
        "# Entrenamos el modelo\n",
        "knn.fit(X_train_c, y_train_c);"
      ]
    },
    {
      "cell_type": "code",
      "execution_count": null,
      "metadata": {
        "id": "0M8J3wRbuC1I"
      },
      "outputs": [],
      "source": [
        "# Predecimos\n",
        "predicciones_cla = knn.predict(X_test_c)"
      ]
    },
    {
      "cell_type": "code",
      "execution_count": null,
      "metadata": {
        "id": "m0LxAQBmuC1I"
      },
      "outputs": [],
      "source": [
        "predicciones_train = knn.predict(X_train_c)"
      ]
    },
    {
      "cell_type": "code",
      "execution_count": null,
      "metadata": {
        "id": "l6Uwma9GuC1I"
      },
      "outputs": [],
      "source": [
        "accuracy = accuracy_score(y_train_c, predicciones_train)*100\n",
        "print(f'{round(accuracy, 2)}%')"
      ]
    },
    {
      "cell_type": "code",
      "execution_count": null,
      "metadata": {
        "id": "3vRO4QDfuC1J"
      },
      "outputs": [],
      "source": [
        "accuracy = accuracy_score(y_test_c, predicciones_cla)*100\n",
        "print(f'{round(accuracy, 2)}%')"
      ]
    },
    {
      "cell_type": "markdown",
      "metadata": {
        "id": "-XL2SXFGuC1L"
      },
      "source": [
        "**Metricas**\n",
        "\n",
        "Matriz de confusión:\n",
        "\n",
        "True Negative (TN)  |  False positive (FP)   \n",
        "= = = = = = = = = = = = = = = = = = = = =       \n",
        "False negative (FN) | True positive (TP)  \n"
      ]
    },
    {
      "cell_type": "code",
      "execution_count": null,
      "metadata": {
        "id": "vfIuQbrXuC1L"
      },
      "outputs": [],
      "source": [
        "plt.figure()\n",
        "random_confusion = confusion_matrix(y_test_c, new_predictions)\n",
        "sns.heatmap(random_confusion, cmap=\"YlGnBu\",annot=True);"
      ]
    },
    {
      "cell_type": "code",
      "execution_count": null,
      "metadata": {
        "id": "1wR0NCmkuC1M"
      },
      "outputs": [],
      "source": [
        "print(f\"Accuracy: {accuracy_score(y_test_c, predicciones_cla)*100 :.2f}%\")\n",
        "print(f\"Precision: {precision_score(y_test_c, predicciones_cla)*100 :.2f}%\")\n",
        "print(f\"Recall: {recall_score(y_test_c, predicciones_cla)*100 :.2f}%\")\n",
        "print(f\"F1 score: {f1_score(y_test_c, predicciones_cla)*100 :.2f}%\")"
      ]
    },
    {
      "cell_type": "markdown",
      "source": [
        "## Buscando el 'mejor' modelo (Clasificación)"
      ],
      "metadata": {
        "id": "VFwTV6DcCxnS"
      }
    },
    {
      "cell_type": "markdown",
      "metadata": {
        "id": "34sDKv4iuC1J"
      },
      "source": [
        "Ahora vamos a optimizar los parameteros del clasificador kNN. Para eso podemos revisar en la documentación que parametros se pueden [optimizar](https://scikit-learn.org/stable/modules/generated/sklearn.neighbors.KNeighborsClassifier.html)."
      ]
    },
    {
      "cell_type": "markdown",
      "metadata": {
        "id": "18mmPTSLuC1J"
      },
      "source": [
        "Vamos a buscar el mejor k:"
      ]
    },
    {
      "cell_type": "code",
      "execution_count": null,
      "metadata": {
        "id": "l80u1M-SuC1J"
      },
      "outputs": [],
      "source": [
        "####\n",
        "ACC_train = []\n",
        "ACC_test = []\n",
        "vecinos = [1, 3, 5, 10, 15, 20, 25, 30]\n",
        "for n in vecinos:\n",
        "    clf = KNeighborsClassifier(n_neighbors=n)\n",
        "    clf.fit(X_train_c, y_train_c)\n",
        "    y_train_pred = clf.predict(X_train_c)\n",
        "    train_acc = accuracy_score(y_train_c, y_train_pred)\n",
        "    ACC_train.append(train_acc)\n",
        "    y_test_pred = clf.predict(X_test_c)\n",
        "    test_acc = accuracy_score(y_test_c, y_test_pred)\n",
        "    ACC_test.append(test_acc)"
      ]
    },
    {
      "cell_type": "code",
      "execution_count": null,
      "metadata": {
        "id": "0tLr91aHuC1J"
      },
      "outputs": [],
      "source": [
        "plt.plot(vecinos,ACC_train,'o-',label='train', color='#DCE775')\n",
        "plt.plot(vecinos,ACC_test,'o-',label='test', color='#EC407A')\n",
        "plt.legend()"
      ]
    },
    {
      "cell_type": "code",
      "execution_count": null,
      "metadata": {
        "id": "Qz9GFTKGuC1K"
      },
      "outputs": [],
      "source": [
        "# Valores para los parametros a optimizar\n",
        "param_grid_vec = {\n",
        "    'n_neighbors': [18, 20, 22],\n",
        "    'weights': ['uniform','distance'],\n",
        "    'metric': ['euclidean', 'manhattan'],\n",
        "}"
      ]
    },
    {
      "cell_type": "code",
      "execution_count": null,
      "metadata": {
        "id": "WYiIXlcAuC1K"
      },
      "outputs": [],
      "source": [
        "knn_search = KNeighborsClassifier()"
      ]
    },
    {
      "cell_type": "code",
      "execution_count": null,
      "metadata": {
        "id": "kBtzR4CFuC1K"
      },
      "outputs": [],
      "source": [
        "vecinos_search = GridSearchCV(estimator=knn_search, param_grid=param_grid_vec,\n",
        "                         cv=3, verbose=2, n_jobs=-1)"
      ]
    },
    {
      "cell_type": "code",
      "execution_count": null,
      "metadata": {
        "id": "3Uf8RGNKuC1K"
      },
      "outputs": [],
      "source": [
        "vecinos_search.fit(X_train_c, y_train_c)"
      ]
    },
    {
      "cell_type": "markdown",
      "metadata": {
        "id": "fQ3gruc4uC1K"
      },
      "source": [
        "**¿Cuál es nuestro mejor estimador?**"
      ]
    },
    {
      "cell_type": "code",
      "execution_count": null,
      "metadata": {
        "id": "0z3kKFnLuC1K"
      },
      "outputs": [],
      "source": [
        "vecinos_search.best_estimator_"
      ]
    },
    {
      "cell_type": "code",
      "execution_count": null,
      "metadata": {
        "id": "yt6T6aozuC1L"
      },
      "outputs": [],
      "source": [
        "vecinos_search.best_score_"
      ]
    },
    {
      "cell_type": "code",
      "execution_count": null,
      "metadata": {
        "id": "nK9qHxmyuC1L"
      },
      "outputs": [],
      "source": [
        "knn_best = vecinos_search.best_estimator_"
      ]
    },
    {
      "cell_type": "code",
      "execution_count": null,
      "metadata": {
        "id": "T7itI4OsuC1L"
      },
      "outputs": [],
      "source": [
        "knn_best.fit(X_train_c, y_train_c)"
      ]
    },
    {
      "cell_type": "code",
      "execution_count": null,
      "metadata": {
        "id": "IkLAnDQZuC1L"
      },
      "outputs": [],
      "source": [
        "new_predictions = knn_best.predict(X_test_c)"
      ]
    },
    {
      "cell_type": "code",
      "execution_count": null,
      "metadata": {
        "id": "Zwu0I4IEC5Ed"
      },
      "outputs": [],
      "source": [
        "plt.figure()\n",
        "random_confusion = confusion_matrix(y_test_c, new_predictions)\n",
        "sns.heatmap(random_confusion, cmap=\"YlGnBu\",annot=True);"
      ]
    },
    {
      "cell_type": "code",
      "execution_count": null,
      "metadata": {
        "id": "2thRbqSpC5Ed"
      },
      "outputs": [],
      "source": [
        "print(f\"Accuracy: {accuracy_score(y_test_c, new_predictions)*100 :.2f}%\")\n",
        "print(f\"Precision: {precision_score(y_test_c, new_predictions)*100 :.2f}%\")\n",
        "print(f\"Recall: {recall_score(y_test_c, new_predictions)*100 :.2f}%\")\n",
        "print(f\"F1 score: {f1_score(y_test_c, new_predictions)*100 :.2f}%\")"
      ]
    }
  ],
  "metadata": {
    "kernelspec": {
      "display_name": "Python 3 (ipykernel)",
      "language": "python",
      "name": "python3"
    },
    "language_info": {
      "codemirror_mode": {
        "name": "ipython",
        "version": 3
      },
      "file_extension": ".py",
      "mimetype": "text/x-python",
      "name": "python",
      "nbconvert_exporter": "python",
      "pygments_lexer": "ipython3",
      "version": "3.9.6"
    },
    "colab": {
      "provenance": []
    }
  },
  "nbformat": 4,
  "nbformat_minor": 0
}