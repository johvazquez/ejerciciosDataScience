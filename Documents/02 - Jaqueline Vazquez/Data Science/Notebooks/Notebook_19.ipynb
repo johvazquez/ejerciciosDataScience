{
  "cells": [
    {
      "cell_type": "markdown",
      "metadata": {
        "id": "5iOjkg8AfYfu"
      },
      "source": [
        "# Programa Ingenias+ Data Science"
      ]
    },
    {
      "cell_type": "markdown",
      "metadata": {
        "id": "Qlz9pW98fYf0"
      },
      "source": [
        "## ✏️ Ejercitación: Aprendizaje Supervisado"
      ]
    },
    {
      "cell_type": "markdown",
      "metadata": {
        "id": "vLh1SwdnfYf1"
      },
      "source": [
        "Esta notebook les permitiria integrar y ejercitar los conceptos de Pandas 🐼 , Analisis Exploratorio, Procesamiento de datos 📊 y aprendizaje automatico que aprendimos hasta ahora.\n",
        "\n",
        "En este caso, vamos a trabajar con dos dataset nuevos. El primer dataset contiene sobre [cancer de mamá](https://archive.ics.uci.edu/ml/datasets/Breast+Cancer) y es adecuado para problemas de clasificación (**Este notebook**). El segundo dataset contiene datos sobre [venta de autos](https://www.kaggle.com/sanskrutipanda/car-pricing-prediction) y es adecuado para problemas de regresión (**Proxima Clase**).\n",
        "\n",
        "El objetivo de este projecto es ajustar modelos de regresión y clasificación. Luego mediante las metricas que hemos estudiados, elegir aquel que mejor desempeño tuvo (para cada tipo de problema).\n",
        "\n",
        "Como son datasets nuevos y no los conocemos, debemos comenzar nuestro análisis desde zero. Eso significa que debes realizar un análisis exploratorio y el correspondiente procesamiento y transformación de los datos. El análisis exploratorio te permitira hacerte preguntas sobre los datos y poder luego, elegir que modelos es posible ajustar según que variable deseas predecir y las caracteristicas de las variables independendientes.\n",
        "\n",
        "En la Notebook se sugieren dos algoritmos en cada caso. Sin embargo, pueden elegir otros. La idea es que piensen porque esos algoritmos serían utiles en nuestro caso. Y que ventaja tiene usar cada uno. A su vez, realicen la evaluación de los modelos y decidan porque elegirian uno sobre el otro."
      ]
    },
    {
      "cell_type": "markdown",
      "metadata": {
        "id": "iaH2IIaXfYf2"
      },
      "source": [
        "### 🚀 👩🏽‍💻 Aprendizaje Supervisado 📣"
      ]
    },
    {
      "cell_type": "markdown",
      "metadata": {
        "id": "wee_-5gRfYf2"
      },
      "source": [
        "### 1) Clasificación 🟢 🟣 🟡"
      ]
    },
    {
      "cell_type": "markdown",
      "metadata": {
        "id": "CCnT6nubfYf3"
      },
      "source": [
        "### 🔬 Análisis Exploratorio 🎉"
      ]
    },
    {
      "cell_type": "code",
      "execution_count": null,
      "metadata": {
        "id": "SjXr7Q_TfYf3"
      },
      "outputs": [],
      "source": []
    },
    {
      "cell_type": "code",
      "execution_count": null,
      "metadata": {
        "id": "U6_qHVFYfYf4"
      },
      "outputs": [],
      "source": []
    },
    {
      "cell_type": "code",
      "execution_count": null,
      "metadata": {
        "id": "qIHzBO0BfYf4"
      },
      "outputs": [],
      "source": []
    },
    {
      "cell_type": "code",
      "execution_count": null,
      "metadata": {
        "id": "A_pCGrgbfYf5"
      },
      "outputs": [],
      "source": []
    },
    {
      "cell_type": "markdown",
      "metadata": {
        "id": "zLW3hmYEfYf5"
      },
      "source": [
        "### 🛠 Procesamiento y transformación de datos 🔧"
      ]
    },
    {
      "cell_type": "code",
      "execution_count": null,
      "metadata": {
        "id": "J2qpoBwGfYf5"
      },
      "outputs": [],
      "source": []
    },
    {
      "cell_type": "code",
      "execution_count": null,
      "metadata": {
        "id": "XJxiJOU-fYf6"
      },
      "outputs": [],
      "source": []
    },
    {
      "cell_type": "code",
      "execution_count": null,
      "metadata": {
        "id": "c1waN5GgfYf6"
      },
      "outputs": [],
      "source": []
    },
    {
      "cell_type": "code",
      "execution_count": null,
      "metadata": {
        "id": "xM6mxPCHfYf6"
      },
      "outputs": [],
      "source": []
    },
    {
      "cell_type": "markdown",
      "metadata": {
        "id": "BWDsZj7vfYf6"
      },
      "source": [
        "#### Seleccion de target (y) y variables (X)"
      ]
    },
    {
      "cell_type": "code",
      "execution_count": null,
      "metadata": {
        "id": "S6FiSjZUfYf7"
      },
      "outputs": [],
      "source": []
    },
    {
      "cell_type": "code",
      "execution_count": null,
      "metadata": {
        "id": "FumHE9iHfYf7"
      },
      "outputs": [],
      "source": []
    },
    {
      "cell_type": "markdown",
      "metadata": {
        "id": "48jWXvAyfYf7"
      },
      "source": [
        "#### Separando Train / Test"
      ]
    },
    {
      "cell_type": "code",
      "execution_count": null,
      "metadata": {
        "id": "NVyl_p73fYf8"
      },
      "outputs": [],
      "source": []
    },
    {
      "cell_type": "code",
      "execution_count": null,
      "metadata": {
        "id": "dHAthAzRfYf8"
      },
      "outputs": [],
      "source": []
    },
    {
      "cell_type": "code",
      "execution_count": null,
      "metadata": {
        "id": "E9rMUrXtfYf8"
      },
      "outputs": [],
      "source": []
    },
    {
      "cell_type": "code",
      "execution_count": null,
      "metadata": {
        "id": "lydwcdY6fYf8"
      },
      "outputs": [],
      "source": []
    },
    {
      "cell_type": "markdown",
      "metadata": {
        "id": "Y4LEtYRvfYf8"
      },
      "source": [
        "#### Clasificador KNN"
      ]
    },
    {
      "cell_type": "code",
      "execution_count": null,
      "metadata": {
        "id": "14VvCLkTfYf9"
      },
      "outputs": [],
      "source": []
    },
    {
      "cell_type": "code",
      "execution_count": null,
      "metadata": {
        "id": "pjEnVfqnfYf9"
      },
      "outputs": [],
      "source": []
    },
    {
      "cell_type": "code",
      "execution_count": null,
      "metadata": {
        "id": "9Hm_3zk4fYf9"
      },
      "outputs": [],
      "source": []
    },
    {
      "cell_type": "markdown",
      "metadata": {
        "id": "PqDK8_azfYf9"
      },
      "source": [
        "#### Clasificador RandomForest"
      ]
    },
    {
      "cell_type": "code",
      "execution_count": null,
      "metadata": {
        "id": "n4236cO3fYf9"
      },
      "outputs": [],
      "source": []
    },
    {
      "cell_type": "code",
      "execution_count": null,
      "metadata": {
        "id": "qHv9nDLlfYf9"
      },
      "outputs": [],
      "source": []
    },
    {
      "cell_type": "markdown",
      "metadata": {
        "id": "77TZm8vZfYgB"
      },
      "source": [
        "#### Evaluación de los modelos"
      ]
    },
    {
      "cell_type": "code",
      "execution_count": null,
      "metadata": {
        "id": "AVAQeQfdfYgC"
      },
      "outputs": [],
      "source": []
    },
    {
      "cell_type": "code",
      "execution_count": null,
      "metadata": {
        "id": "3T3GpVrXfYgC"
      },
      "outputs": [],
      "source": []
    },
    {
      "cell_type": "code",
      "execution_count": null,
      "metadata": {
        "id": "-DJvO5gzfYgC"
      },
      "outputs": [],
      "source": []
    },
    {
      "cell_type": "code",
      "execution_count": null,
      "metadata": {
        "id": "LjRI3-wRfYgC"
      },
      "outputs": [],
      "source": []
    }
  ],
  "metadata": {
    "kernelspec": {
      "display_name": "Python 3 (ipykernel)",
      "language": "python",
      "name": "python3"
    },
    "language_info": {
      "codemirror_mode": {
        "name": "ipython",
        "version": 3
      },
      "file_extension": ".py",
      "mimetype": "text/x-python",
      "name": "python",
      "nbconvert_exporter": "python",
      "pygments_lexer": "ipython3",
      "version": "3.9.6"
    },
    "colab": {
      "provenance": [],
      "collapsed_sections": [
        "BWDsZj7vfYf6",
        "48jWXvAyfYf7",
        "Y4LEtYRvfYf8",
        "PqDK8_azfYf9",
        "77TZm8vZfYgB"
      ]
    }
  },
  "nbformat": 4,
  "nbformat_minor": 0
}