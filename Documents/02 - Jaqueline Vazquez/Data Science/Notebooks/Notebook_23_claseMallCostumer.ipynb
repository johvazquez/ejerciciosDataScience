{
  "cells": [
    {
      "cell_type": "markdown",
      "metadata": {
        "id": "XgqGztFaCFzN"
      },
      "source": [
        "# Programa Ingenias+ Data Science"
      ]
    },
    {
      "cell_type": "markdown",
      "metadata": {
        "id": "SZYvntAwCFzP"
      },
      "source": [
        "## ✏️ Ejercitación: Aprendizaje No Supervisado"
      ]
    },
    {
      "cell_type": "markdown",
      "metadata": {
        "id": "SW-Zj8kqCFzQ"
      },
      "source": [
        "Esta notebook les permitiria ejercitar los conceptos de aprendizaje automatico no supervisado que hemos aprendimos.\n",
        "\n",
        "En este caso, vamos a trabajar con el dataset que usamos anteriormente relativos a [clientes de un centro comercial](https://www.kaggle.com/akram24/mall-customers) y que luego de procesar, guardamos oportunamente.\n",
        "\n",
        "El objetivo de este proyecto es ajustar modelos de aprendizaje no supervisado. Luego, realicen la evaluación de los modelos y decidan porque elegirian uno sobre el otro."
      ]
    },
    {
      "cell_type": "code",
      "execution_count": 18,
      "metadata": {},
      "outputs": [],
      "source": [
        "import numpy as np\n",
        "import matplotlib.pyplot as plt\n",
        "import seaborn as sns\n",
        "import pandas as pd\n",
        "from sklearn.cluster import KMeans\n",
        "from sklearn.preprocessing import StandardScaler\n",
        "\n",
        "#ignorar warning para que quede mejor el notebook\n",
        "import warnings\n",
        "warnings.filterwarnings('ignore')\n",
        "\n"
      ]
    },
    {
      "cell_type": "code",
      "execution_count": 19,
      "metadata": {},
      "outputs": [],
      "source": [
        "\n",
        "import os\n",
        "\n",
        "directorio_actual = os.getcwd()\n",
        "df = pd.read_csv(os.path.join(directorio_actual, 'Mall_Customers.csv'), low_memory=False)"
      ]
    },
    {
      "cell_type": "code",
      "execution_count": 20,
      "metadata": {},
      "outputs": [
        {
          "data": {
            "text/html": [
              "<div>\n",
              "<style scoped>\n",
              "    .dataframe tbody tr th:only-of-type {\n",
              "        vertical-align: middle;\n",
              "    }\n",
              "\n",
              "    .dataframe tbody tr th {\n",
              "        vertical-align: top;\n",
              "    }\n",
              "\n",
              "    .dataframe thead th {\n",
              "        text-align: right;\n",
              "    }\n",
              "</style>\n",
              "<table border=\"1\" class=\"dataframe\">\n",
              "  <thead>\n",
              "    <tr style=\"text-align: right;\">\n",
              "      <th></th>\n",
              "      <th>CustomerID</th>\n",
              "      <th>Genre</th>\n",
              "      <th>Age</th>\n",
              "      <th>Annual Income (k$)</th>\n",
              "      <th>Spending Score (1-100)</th>\n",
              "    </tr>\n",
              "  </thead>\n",
              "  <tbody>\n",
              "    <tr>\n",
              "      <th>0</th>\n",
              "      <td>1</td>\n",
              "      <td>Male</td>\n",
              "      <td>19</td>\n",
              "      <td>15</td>\n",
              "      <td>39</td>\n",
              "    </tr>\n",
              "    <tr>\n",
              "      <th>1</th>\n",
              "      <td>2</td>\n",
              "      <td>Male</td>\n",
              "      <td>21</td>\n",
              "      <td>15</td>\n",
              "      <td>81</td>\n",
              "    </tr>\n",
              "    <tr>\n",
              "      <th>2</th>\n",
              "      <td>3</td>\n",
              "      <td>Female</td>\n",
              "      <td>20</td>\n",
              "      <td>16</td>\n",
              "      <td>6</td>\n",
              "    </tr>\n",
              "    <tr>\n",
              "      <th>3</th>\n",
              "      <td>4</td>\n",
              "      <td>Female</td>\n",
              "      <td>23</td>\n",
              "      <td>16</td>\n",
              "      <td>77</td>\n",
              "    </tr>\n",
              "    <tr>\n",
              "      <th>4</th>\n",
              "      <td>5</td>\n",
              "      <td>Female</td>\n",
              "      <td>31</td>\n",
              "      <td>17</td>\n",
              "      <td>40</td>\n",
              "    </tr>\n",
              "  </tbody>\n",
              "</table>\n",
              "</div>"
            ],
            "text/plain": [
              "   CustomerID   Genre  Age  Annual Income (k$)  Spending Score (1-100)\n",
              "0           1    Male   19                  15                      39\n",
              "1           2    Male   21                  15                      81\n",
              "2           3  Female   20                  16                       6\n",
              "3           4  Female   23                  16                      77\n",
              "4           5  Female   31                  17                      40"
            ]
          },
          "execution_count": 20,
          "metadata": {},
          "output_type": "execute_result"
        }
      ],
      "source": [
        "df.head()"
      ]
    },
    {
      "cell_type": "markdown",
      "metadata": {
        "id": "nwbpL0bNCFzQ"
      },
      "source": [
        "### 🚀 👩🏽‍💻 Aprendizaje No Supervisado 📣"
      ]
    },
    {
      "cell_type": "markdown",
      "metadata": {
        "id": "R6gXBBLzCFzR"
      },
      "source": [
        "## Clustering: Kmeans 🧩"
      ]
    },
    {
      "cell_type": "markdown",
      "metadata": {
        "id": "tcxcfzaFCFzR"
      },
      "source": [
        "Si aún no lo hicieron, pueden realizar una exploración de los datos para poder visualizar la distribución de las variables y la correlación entre ellas.\n",
        "\n",
        "Esto es porque para poder aplicar K-means, los datos deben cumplir ciertos requerimientos:\n",
        "\n",
        "- **Forma de los clusters**: La varianza de la distribución es esferica. Lo que significa que los clusters tienen una forma esferica. Lo que significa que si las variables tienen varianzas similares y siguen una distribución normal, es más factible que este supuesto se cumpla.\n",
        "- **Tamaño de los clusters**: Todos los clusters deben tener el mismo numero (o muy similar) de observaciones\n",
        "- **Relación entre las variables**: Existe poca o ninguna correlación entre las variables."
      ]
    },
    {
      "cell_type": "markdown",
      "metadata": {
        "id": "hOuPR3EYCFzR"
      },
      "source": [
        "#### Crea tres modelos usando k=2, k=6, k=9"
      ]
    },
    {
      "cell_type": "markdown",
      "metadata": {
        "id": "RtV6yr1mCFzR"
      },
      "source": [
        "¿Crees que el resultado es satisfactorio?"
      ]
    },
    {
      "cell_type": "code",
      "execution_count": null,
      "metadata": {
        "id": "fzEebeSGCFzS"
      },
      "outputs": [],
      "source": []
    },
    {
      "cell_type": "code",
      "execution_count": null,
      "metadata": {
        "id": "E1AERkCrCFzS"
      },
      "outputs": [],
      "source": []
    },
    {
      "cell_type": "markdown",
      "metadata": {
        "id": "j0VF5At9CFzS"
      },
      "source": [
        "#### Metodos para elegir K\n",
        "\n",
        "Aplica los métodos que conoces y elige el k que mejor se ajusta a los datos."
      ]
    },
    {
      "cell_type": "code",
      "execution_count": null,
      "metadata": {
        "id": "01wAq87MCFzT"
      },
      "outputs": [],
      "source": []
    },
    {
      "cell_type": "code",
      "execution_count": null,
      "metadata": {
        "id": "krzqR-78CFzT"
      },
      "outputs": [],
      "source": []
    },
    {
      "cell_type": "markdown",
      "metadata": {
        "id": "-tW13VwiCFzT"
      },
      "source": [
        "#### Ajusta el modelo usando el K seleccionado"
      ]
    },
    {
      "cell_type": "code",
      "execution_count": null,
      "metadata": {
        "id": "cmBGLu_3CFzT"
      },
      "outputs": [],
      "source": []
    },
    {
      "cell_type": "code",
      "execution_count": null,
      "metadata": {
        "id": "jQv1ueUDCFzT"
      },
      "outputs": [],
      "source": []
    },
    {
      "cell_type": "markdown",
      "metadata": {
        "id": "iEgpD_VwCFzT"
      },
      "source": [
        "#### Gráfica el resultado"
      ]
    },
    {
      "cell_type": "code",
      "execution_count": null,
      "metadata": {
        "id": "IYTT8uGkTIn5"
      },
      "outputs": [],
      "source": []
    },
    {
      "cell_type": "code",
      "execution_count": null,
      "metadata": {
        "id": "Ddj6erTYCFzU"
      },
      "outputs": [],
      "source": []
    },
    {
      "cell_type": "code",
      "execution_count": null,
      "metadata": {
        "id": "dhNbD4zICFzU"
      },
      "outputs": [],
      "source": []
    },
    {
      "cell_type": "code",
      "execution_count": null,
      "metadata": {
        "id": "hAaFiMSECFzU"
      },
      "outputs": [],
      "source": []
    },
    {
      "cell_type": "markdown",
      "metadata": {
        "id": "DTZSldIBTJQP"
      },
      "source": [
        "### Reducción de la dimensionalidad"
      ]
    },
    {
      "cell_type": "markdown",
      "metadata": {
        "id": "kW48OYj8TeHa"
      },
      "source": [
        "Prueba ahora reduciendo la dimensionalidad y ajustando K-means nuevamente."
      ]
    },
    {
      "cell_type": "code",
      "execution_count": null,
      "metadata": {
        "id": "PSV-kUxGTdmC"
      },
      "outputs": [],
      "source": []
    },
    {
      "cell_type": "code",
      "execution_count": null,
      "metadata": {
        "id": "qZ-BYOW3TNkB"
      },
      "outputs": [],
      "source": []
    },
    {
      "cell_type": "code",
      "execution_count": null,
      "metadata": {
        "id": "5v1sBmV8TNrT"
      },
      "outputs": [],
      "source": []
    },
    {
      "cell_type": "code",
      "execution_count": null,
      "metadata": {
        "id": "mzfyDHkRTNuu"
      },
      "outputs": [],
      "source": []
    },
    {
      "cell_type": "markdown",
      "metadata": {
        "id": "KRXCSLFWTU3v"
      },
      "source": [
        "## Clustering: DBSCAN 🧩"
      ]
    },
    {
      "cell_type": "markdown",
      "metadata": {
        "id": "_T_duUk4Th4y"
      },
      "source": [
        "¿Y si comparamos con ajustar un modelo de DBSCAN?"
      ]
    },
    {
      "cell_type": "code",
      "execution_count": null,
      "metadata": {
        "id": "Yi0J1hKsTn5a"
      },
      "outputs": [],
      "source": []
    },
    {
      "cell_type": "code",
      "execution_count": null,
      "metadata": {
        "id": "HqLMIdGxTn7f"
      },
      "outputs": [],
      "source": []
    },
    {
      "cell_type": "code",
      "execution_count": null,
      "metadata": {
        "id": "32HJz8NLTn-F"
      },
      "outputs": [],
      "source": []
    },
    {
      "cell_type": "code",
      "execution_count": null,
      "metadata": {
        "id": "Y4uYsWVpToA9"
      },
      "outputs": [],
      "source": []
    },
    {
      "cell_type": "markdown",
      "metadata": {
        "id": "Xna1YkXRTh9t"
      },
      "source": [
        "¿Qué opinan? ¿Qué modelo arrojo mejores resultados de clustering?"
      ]
    }
  ],
  "metadata": {
    "colab": {
      "provenance": []
    },
    "kernelspec": {
      "display_name": "Python 3 (ipykernel)",
      "language": "python",
      "name": "python3"
    },
    "language_info": {
      "codemirror_mode": {
        "name": "ipython",
        "version": 3
      },
      "file_extension": ".py",
      "mimetype": "text/x-python",
      "name": "python",
      "nbconvert_exporter": "python",
      "pygments_lexer": "ipython3",
      "version": "3.12.0"
    }
  },
  "nbformat": 4,
  "nbformat_minor": 0
}
