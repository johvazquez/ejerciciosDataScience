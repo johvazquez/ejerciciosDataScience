{
  "cells": [
    {
      "cell_type": "markdown",
      "metadata": {
        "id": "fUZUxG1CfJKo"
      },
      "source": [
        "# Programa Ingenias+ Data Science"
      ]
    },
    {
      "cell_type": "markdown",
      "metadata": {
        "id": "ZfnZX-ohfJOA"
      },
      "source": [
        "## Clase 2: Funciones y Estructuras de control"
      ]
    },
    {
      "cell_type": "markdown",
      "metadata": {
        "id": "2x9qTs74fJOx"
      },
      "source": [
        "## EJERCICIOS"
      ]
    },
    {
      "cell_type": "markdown",
      "metadata": {
        "id": "KG9ZCYugfJOx"
      },
      "source": [
        "Vamos a poner en practica ahora todo lo que vimos:"
      ]
    },
    {
      "cell_type": "markdown",
      "metadata": {
        "id": "-x2byZQ8fJOx"
      },
      "source": [
        "- Escribi una función que tome dos números enteros y calcule su división, devolviendo si la división es exacta o no."
      ]
    },
    {
      "cell_type": "code",
      "execution_count": 1,
      "metadata": {
        "id": "7vslfcCNfJOy"
      },
      "outputs": [],
      "source": [
        "def division(num1, num2):\n",
        "    if num2 == 0:\n",
        "        return \"No se puede dividir por cero.\"\n",
        "    \n",
        "    resultado = num1 / num2\n",
        "    if resultado.is_integer():\n",
        "        return f\"La división es exacta. El resultado es {int(resultado)}.\"\n",
        "    else:\n",
        "        return f\"La división no es exacta. El resultado es {resultado}.\""
      ]
    },
    {
      "cell_type": "code",
      "execution_count": 2,
      "metadata": {
        "id": "8OqSS2zmfJOz"
      },
      "outputs": [
        {
          "data": {
            "text/plain": [
              "'La división es exacta. El resultado es 2.'"
            ]
          },
          "execution_count": 2,
          "metadata": {},
          "output_type": "execute_result"
        }
      ],
      "source": [
        "division(4, 2)"
      ]
    },
    {
      "cell_type": "code",
      "execution_count": 3,
      "metadata": {
        "id": "7lgngWV4fJO1"
      },
      "outputs": [
        {
          "data": {
            "text/plain": [
              "'La división no es exacta. El resultado es 2.3333333333333335.'"
            ]
          },
          "execution_count": 3,
          "metadata": {},
          "output_type": "execute_result"
        }
      ],
      "source": [
        "division(7, 3)"
      ]
    },
    {
      "cell_type": "markdown",
      "metadata": {
        "id": "-e0DATp4fJO3"
      },
      "source": [
        "- Escribi una función que tome un año y devuelva si es bisiesto o no."
      ]
    },
    {
      "cell_type": "code",
      "execution_count": 4,
      "metadata": {
        "id": "xUetTz2jfJO3"
      },
      "outputs": [],
      "source": [
        "def bisiesto(a):\n",
        "    if (a % 4 == 0 and a % 100 != 0) or (a % 400 == 0):\n",
        "        return True \n",
        "    else:\n",
        "        return False\n"
      ]
    },
    {
      "cell_type": "code",
      "execution_count": 5,
      "metadata": {
        "id": "ONRDSQgVfJO4"
      },
      "outputs": [
        {
          "data": {
            "text/plain": [
              "True"
            ]
          },
          "execution_count": 5,
          "metadata": {},
          "output_type": "execute_result"
        }
      ],
      "source": [
        "bisiesto(2012)"
      ]
    },
    {
      "cell_type": "code",
      "execution_count": 6,
      "metadata": {
        "id": "ov_XeD1WfJO5"
      },
      "outputs": [
        {
          "data": {
            "text/plain": [
              "False"
            ]
          },
          "execution_count": 6,
          "metadata": {},
          "output_type": "execute_result"
        }
      ],
      "source": [
        "bisiesto(2017)"
      ]
    },
    {
      "cell_type": "markdown",
      "metadata": {
        "id": "urIjk2uPfJO7"
      },
      "source": [
        "- Escribi una función que tome los coeficientes de una ecuación de primer grado (a x + b = 0) y devuelva la solución."
      ]
    },
    {
      "cell_type": "code",
      "execution_count": 7,
      "metadata": {
        "id": "MIqaoDZqfJO7"
      },
      "outputs": [],
      "source": [
        "def solucion(a, b):\n",
        "    if a == 0:\n",
        "        if b == 0:\n",
        "            return \"Infinitas soluciones (la ecuación es una identidad)\"\n",
        "        else:\n",
        "            return \"No tiene solución (la ecuación es inconsistente)\"\n",
        "    else:\n",
        "        x = -b / a\n",
        "        return x"
      ]
    },
    {
      "cell_type": "code",
      "execution_count": 8,
      "metadata": {
        "id": "YljqjJuTfJO8"
      },
      "outputs": [
        {
          "data": {
            "text/plain": [
              "-2.0"
            ]
          },
          "execution_count": 8,
          "metadata": {},
          "output_type": "execute_result"
        }
      ],
      "source": [
        "solucion(2, 4)"
      ]
    },
    {
      "cell_type": "code",
      "execution_count": 9,
      "metadata": {
        "id": "mIe9eoP5fJO_"
      },
      "outputs": [
        {
          "data": {
            "text/plain": [
              "-1.6666666666666667"
            ]
          },
          "execution_count": 9,
          "metadata": {},
          "output_type": "execute_result"
        }
      ],
      "source": [
        "solucion(3, 5)"
      ]
    },
    {
      "cell_type": "code",
      "execution_count": 10,
      "metadata": {
        "id": "djuJakLUfJPB"
      },
      "outputs": [
        {
          "data": {
            "text/plain": [
              "0.0"
            ]
          },
          "execution_count": 10,
          "metadata": {},
          "output_type": "execute_result"
        }
      ],
      "source": [
        "solucion(2, 0)"
      ]
    },
    {
      "cell_type": "markdown",
      "metadata": {
        "id": "Xx7VliisfJPF"
      },
      "source": [
        "- Escribi una función que simule un juego en el que dos jugadores tiran un dado. El que saque el valor más alto, gana. Si la puntuación coincide, empatan."
      ]
    },
    {
      "cell_type": "code",
      "execution_count": 13,
      "metadata": {
        "id": "LCrq4FUPfJPF"
      },
      "outputs": [],
      "source": [
        "import random\n",
        "def juego(jugador1, jugador2):\n",
        "    dado = [1, 2, 3, 4, 5, 6]  # Valores posibles del dado\n",
        "\n",
        "    tirada_jugador1 = random.choice(dado)\n",
        "    tirada_jugador2 = random.choice(dado)\n",
        "\n",
        "    print(f\"{jugador1} tiró un {tirada_jugador1}\")\n",
        "    print(f\"{jugador2} tiró un {tirada_jugador2}\")\n",
        "\n",
        "    if tirada_jugador1 > tirada_jugador2:\n",
        "        return f\"{jugador1} gana\"\n",
        "    elif tirada_jugador2 > tirada_jugador1:\n",
        "        return f\"{jugador2} gana\"\n",
        "    else:\n",
        "        return \"Empate\""
      ]
    },
    {
      "cell_type": "code",
      "execution_count": 14,
      "metadata": {
        "id": "H89mIbuEfJPH"
      },
      "outputs": [
        {
          "name": "stdout",
          "output_type": "stream",
          "text": [
            "343 tiró un 1\n",
            "545 tiró un 5\n"
          ]
        },
        {
          "data": {
            "text/plain": [
              "'545 gana'"
            ]
          },
          "execution_count": 14,
          "metadata": {},
          "output_type": "execute_result"
        }
      ],
      "source": [
        "juego(343, 545)"
      ]
    },
    {
      "cell_type": "markdown",
      "metadata": {
        "id": "7Q28d5YdfJPJ"
      },
      "source": [
        "- Escribi una función que tome dos números enteros y devuelva qué número es pares y cuál impar."
      ]
    },
    {
      "cell_type": "code",
      "execution_count": 15,
      "metadata": {
        "id": "VhDwji65fJPJ"
      },
      "outputs": [],
      "source": [
        "def par_impar(a, b):\n",
        "    if a % 2 == 0 and b % 2 != 0:\n",
        "        return f\"{a} es par y {b} es impar.\"\n",
        "    elif a % 2 != 0 and b % 2 == 0:\n",
        "        return f\"{a} es impar y {b} es par.\"\n",
        "    elif a % 2 == 0 and b % 2 == 0:\n",
        "        return f\"Ambos números, {a} y {b}, son pares.\"\n",
        "    else:\n",
        "        return f\"Ambos números, {a} y {b}, son impares.\""
      ]
    },
    {
      "cell_type": "code",
      "execution_count": 16,
      "metadata": {
        "id": "VRuaAWzsfJPK"
      },
      "outputs": [
        {
          "data": {
            "text/plain": [
              "'4 es par y 5 es impar.'"
            ]
          },
          "execution_count": 16,
          "metadata": {},
          "output_type": "execute_result"
        }
      ],
      "source": [
        "par_impar(4, 5)"
      ]
    },
    {
      "cell_type": "code",
      "execution_count": 17,
      "metadata": {
        "id": "caJU7DCSfJPM"
      },
      "outputs": [
        {
          "data": {
            "text/plain": [
              "'Ambos números, 4 y 10, son pares.'"
            ]
          },
          "execution_count": 17,
          "metadata": {},
          "output_type": "execute_result"
        }
      ],
      "source": [
        "par_impar(4, 10)"
      ]
    },
    {
      "cell_type": "markdown",
      "metadata": {
        "id": "nuyiy5nKfJPN"
      },
      "source": [
        "- Escribi una función que tome una lista de números y calcule su suma."
      ]
    },
    {
      "cell_type": "code",
      "execution_count": 18,
      "metadata": {
        "id": "JmMLvO3WfJPN"
      },
      "outputs": [],
      "source": [
        "def par_impar(a, b):\n",
        "    if a % 2 == 0 and b % 2 != 0:\n",
        "        return f\"{a} es par y {b} es impar.\"\n",
        "    elif a % 2 != 0 and b % 2 == 0:\n",
        "        return f\"{a} es impar y {b} es par.\"\n",
        "    elif a % 2 == 0 and b % 2 == 0:\n",
        "        return f\"Ambos números, {a} y {b}, son pares.\"\n",
        "    else:\n",
        "        return f\"Ambos números, {a} y {b}, son impares.\"\n"
      ]
    },
    {
      "cell_type": "code",
      "execution_count": 20,
      "metadata": {
        "id": "05ANj-TsfJPP"
      },
      "outputs": [
        {
          "name": "stdout",
          "output_type": "stream",
          "text": [
            "La suma de los números en la lista es: 34\n"
          ]
        }
      ],
      "source": [
        "def suma_numeros(lista):\n",
        "    suma = sum(lista)\n",
        "    return suma\n",
        "numeros = [1, 4, 5, 7, 8, 9]\n",
        "resultado = suma_numeros(numeros)\n",
        "print(f\"La suma de los números en la lista es: {resultado}\")\n"
      ]
    },
    {
      "cell_type": "markdown",
      "metadata": {
        "id": "xOFXV3tnfJPR"
      },
      "source": [
        "- Escribi una función que tome dos palabras y diga si riman o no. Si coinciden las tres últimas letras debe devolver que riman. Si coinciden sólo las dos últimas tiene que decir que riman algo y si no, que no riman."
      ]
    },
    {
      "cell_type": "code",
      "execution_count": 21,
      "metadata": {
        "id": "hPKmJVrAfJPR"
      },
      "outputs": [],
      "source": [
        "def riman(palabra1, palabra2):\n",
        "    if palabra1[-3:] == palabra2[-3:]:\n",
        "        return \"Riman\"\n",
        "    elif palabra1[-2:] == palabra2[-2:]:\n",
        "        return \"Riman algo\"\n",
        "    else:\n",
        "        return \"No riman\"\n"
      ]
    },
    {
      "cell_type": "code",
      "execution_count": 22,
      "metadata": {
        "id": "8UZO4wYZfJPT"
      },
      "outputs": [
        {
          "data": {
            "text/plain": [
              "'Riman'"
            ]
          },
          "execution_count": 22,
          "metadata": {},
          "output_type": "execute_result"
        }
      ],
      "source": [
        "riman('hola', 'cacerola')"
      ]
    },
    {
      "cell_type": "code",
      "execution_count": 23,
      "metadata": {
        "id": "FwYgQ00nfJPU"
      },
      "outputs": [
        {
          "data": {
            "text/plain": [
              "'No riman'"
            ]
          },
          "execution_count": 23,
          "metadata": {},
          "output_type": "execute_result"
        }
      ],
      "source": [
        "riman('jirafa', 'roja')"
      ]
    },
    {
      "cell_type": "code",
      "execution_count": 24,
      "metadata": {
        "id": "rtz4a7zefJPX"
      },
      "outputs": [
        {
          "data": {
            "text/plain": [
              "'Riman algo'"
            ]
          },
          "execution_count": 24,
          "metadata": {},
          "output_type": "execute_result"
        }
      ],
      "source": [
        "riman('computadora', 'cabecera')"
      ]
    },
    {
      "cell_type": "markdown",
      "metadata": {
        "id": "0yxZUZHmfJPZ"
      },
      "source": [
        "- Escribi una función para convertir temperatura de grados celsius a fahrenheit (Formula : F = C * 9/5 + 32)"
      ]
    },
    {
      "cell_type": "code",
      "execution_count": 25,
      "metadata": {
        "id": "1d8jR5L9fJPZ"
      },
      "outputs": [],
      "source": [
        "def celsius_a_fahrenheit(celsius):\n",
        "    fahrenheit = celsius * 9/5 + 32\n",
        "    return fahrenheit\n",
        "\n"
      ]
    },
    {
      "cell_type": "code",
      "execution_count": 26,
      "metadata": {
        "id": "velR3kdDfJPa"
      },
      "outputs": [
        {
          "name": "stdout",
          "output_type": "stream",
          "text": [
            "24 grados Celsius equivalen a 75.2 grados Fahrenheit\n"
          ]
        }
      ],
      "source": [
        "temperatura_celsius = 24\n",
        "temperatura_fahrenheit = celsius_a_fahrenheit(temperatura_celsius)\n",
        "print(f\"{temperatura_celsius} grados Celsius equivalen a {temperatura_fahrenheit} grados Fahrenheit\")"
      ]
    },
    {
      "cell_type": "markdown",
      "metadata": {
        "id": "OXCTEla-fJPb"
      },
      "source": [
        "- Escribi una función que devuelva la serie de Fibonacci entre 0 y 50."
      ]
    },
    {
      "cell_type": "code",
      "execution_count": 28,
      "metadata": {
        "id": "lJTvAwsFfJPb"
      },
      "outputs": [],
      "source": [
        "def fibo():\n",
        "    a, b = 0, 1\n",
        "    fibonacci_series = [a]\n",
        "    \n",
        "    while b <= 50:\n",
        "        fibonacci_series.append(b)\n",
        "        a, b = b, a + b\n",
        "    \n",
        "    return fibonacci_series"
      ]
    },
    {
      "cell_type": "code",
      "execution_count": 29,
      "metadata": {
        "id": "R8X2RFUefJPd"
      },
      "outputs": [
        {
          "data": {
            "text/plain": [
              "[0, 1, 1, 2, 3, 5, 8, 13, 21, 34]"
            ]
          },
          "execution_count": 29,
          "metadata": {},
          "output_type": "execute_result"
        }
      ],
      "source": [
        "fibo()"
      ]
    },
    {
      "cell_type": "markdown",
      "metadata": {
        "id": "oLq0uXoIfJPe"
      },
      "source": [
        "**Para seguir practicando chequea este sitio web con [ejercicios](https://projecteuler.net/archives).**"
      ]
    }
  ],
  "metadata": {
    "colab": {
      "provenance": []
    },
    "kernelspec": {
      "display_name": "Python 3",
      "language": "python",
      "name": "python3"
    },
    "language_info": {
      "codemirror_mode": {
        "name": "ipython",
        "version": 3
      },
      "file_extension": ".py",
      "mimetype": "text/x-python",
      "name": "python",
      "nbconvert_exporter": "python",
      "pygments_lexer": "ipython3",
      "version": "3.12.0"
    }
  },
  "nbformat": 4,
  "nbformat_minor": 0
}
