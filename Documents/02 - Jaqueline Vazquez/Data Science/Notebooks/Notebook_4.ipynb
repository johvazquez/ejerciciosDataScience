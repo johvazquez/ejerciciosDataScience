{
  "cells": [
    {
      "cell_type": "markdown",
      "metadata": {
        "id": "Gp2WddtV9IwG"
      },
      "source": [
        "# Programa Ingenias+ Data Science"
      ]
    },
    {
      "cell_type": "markdown",
      "metadata": {
        "id": "H4M1yVbf9IwH"
      },
      "source": [
        "Como dijimos en clases anteriores, Python tiene implementadas muchas librerias para poder trabajar con datos. En la clase de hoy trabajaremos con una de ellas: `Numpy`."
      ]
    },
    {
      "cell_type": "markdown",
      "metadata": {
        "id": "GdTT8WeL9IwI"
      },
      "source": [
        "Antes de comenzar, vamos a hablar un poco de esta libreria.\n",
        "\n",
        "**Numpy** es una librería optimizada para realizar cálculos numéricos con vectores y matrices. A diferencia de otros lenguajes de programación, Python no posee en su estructura central la figura de matrices. Eso quiere decir que para poder trabajar con esta estructura de datos deberiamos trabajar con listas de listas. NumPy introduce el concepto de arrays o matrices."
      ]
    },
    {
      "cell_type": "markdown",
      "metadata": {
        "id": "qWkq3EHK9IwK"
      },
      "source": [
        "Al ser de código abierto, `numpy` posee una documentación muy amplia que es **SIEMPRE RECOMENDABLE** consultar."
      ]
    },
    {
      "cell_type": "markdown",
      "metadata": {
        "id": "nxe3KLUO9IwL"
      },
      "source": [
        "- [Documentacion NumPy](https://devdocs.io/numpy/)"
      ]
    },
    {
      "cell_type": "markdown",
      "metadata": {
        "id": "l1Ay3nSs9IwN"
      },
      "source": [
        "## Clase 4: Introduccion a NumPy"
      ]
    },
    {
      "cell_type": "markdown",
      "metadata": {
        "id": "1SOPXukc9IwO"
      },
      "source": [
        "NumPy no pertenece al _core_ de Python y es por eso que debemos importarlo para poder usarlo."
      ]
    },
    {
      "cell_type": "markdown",
      "metadata": {
        "id": "D9O1UmgD9IwP"
      },
      "source": [
        "Para importar una libreria en Python se usa la siguiente sintaxis:\n",
        "    \n",
        "`import libreria as alias`\n",
        "\n",
        "Para importar una funcion en particular de un modulo o libreria, utilizamos la sintaxis:\n",
        "    \n",
        "`from libreria import funcion`"
      ]
    },
    {
      "cell_type": "markdown",
      "metadata": {
        "id": "i9dlKZ1v9IwP"
      },
      "source": [
        "Como convencion, cuando se importa `numpy` se le asigna el alias `np`. Pero esto no es obligatorio, solo me facilita muchas veces la escritura del codigo."
      ]
    },
    {
      "cell_type": "code",
      "execution_count": 1,
      "metadata": {
        "id": "bILSO0jr9IwQ"
      },
      "outputs": [],
      "source": [
        "#Importar numpy\n",
        "import numpy as np"
      ]
    },
    {
      "cell_type": "markdown",
      "metadata": {
        "id": "ksBsqePu9IwU"
      },
      "source": [
        "De ahora en mas para utilizar una función de Numpy solo tengo que usar `np` y luego llamar función. Por ejemplo, si quiero llamar la función `.mean()`, debo escribir: `np.mean()`."
      ]
    },
    {
      "cell_type": "markdown",
      "metadata": {
        "id": "VepZgbG69IwV"
      },
      "source": [
        "Comenzemos a ver que funciones se pueden utilizar en NumPy."
      ]
    },
    {
      "cell_type": "markdown",
      "metadata": {
        "id": "bA7MFSiS9IwV"
      },
      "source": [
        "- `.array()`"
      ]
    },
    {
      "cell_type": "markdown",
      "metadata": {
        "id": "FnPfh-Qa9IwW"
      },
      "source": [
        "Esta función me permite crear un array. Es posible crear arrays a partir de listas."
      ]
    },
    {
      "cell_type": "code",
      "execution_count": 2,
      "metadata": {
        "id": "gr5IX5Zn9IwX"
      },
      "outputs": [],
      "source": [
        "#creo un array\n",
        "arr = np.array([10, 11, 12, 13, 14, 15, 16, 17, 18, 19])"
      ]
    },
    {
      "cell_type": "code",
      "execution_count": 3,
      "metadata": {
        "colab": {
          "base_uri": "https://localhost:8080/",
          "height": 35
        },
        "id": "CJGrumM49Iwa",
        "outputId": "dabce801-c5a9-4b7c-815d-9c9c1f58e662"
      },
      "outputs": [
        {
          "name": "stdout",
          "output_type": "stream",
          "text": [
            "[ 45 123  89   3  45   2  99  56  34  10]\n"
          ]
        }
      ],
      "source": [
        "#crea una lista llamada mi_lista que contenga 10 numeros\n",
        "\n",
        "mi_lista = [45,123,89,3,45,2,99,56,34,10]\n",
        "\n",
        "#Ahora transforma tu lista en un array usando np.array y asignalo a la variable mi_array\n",
        "\n",
        "mi_array = np.array(mi_lista)\n",
        "#Imprimi mi_array\n",
        "print(mi_array)"
      ]
    },
    {
      "cell_type": "markdown",
      "metadata": {
        "id": "pkmckzMD9Iwc"
      },
      "source": [
        "Podemos usar `type` para obtener el tipo de estructura de datos que estamos trabajando."
      ]
    },
    {
      "cell_type": "code",
      "execution_count": 4,
      "metadata": {
        "colab": {
          "base_uri": "https://localhost:8080/",
          "height": 35
        },
        "id": "W60TBE9t9Iwd",
        "outputId": "aa19df8e-3432-4484-9364-efd949423378"
      },
      "outputs": [
        {
          "data": {
            "text/plain": [
              "numpy.ndarray"
            ]
          },
          "execution_count": 4,
          "metadata": {},
          "output_type": "execute_result"
        }
      ],
      "source": [
        "#Aplica type sobre mi_array para mostrar que tipo de estructura de datos es\n",
        "type(mi_array)\n"
      ]
    },
    {
      "cell_type": "markdown",
      "metadata": {
        "id": "EbksvAhu9Iwg"
      },
      "source": [
        "Los arrays y las listas se comportan diferente frente operaciones matematicas con números."
      ]
    },
    {
      "cell_type": "code",
      "execution_count": 5,
      "metadata": {
        "colab": {
          "base_uri": "https://localhost:8080/",
          "height": 171
        },
        "id": "ieN2Van39Iwh",
        "outputId": "104e0ea5-e7a9-4c98-aa3a-f0f572e06cf1"
      },
      "outputs": [
        {
          "ename": "TypeError",
          "evalue": "can only concatenate list (not \"int\") to list",
          "output_type": "error",
          "traceback": [
            "\u001b[1;31m---------------------------------------------------------------------------\u001b[0m",
            "\u001b[1;31mTypeError\u001b[0m                                 Traceback (most recent call last)",
            "\u001b[1;32mc:\\Users\\jvazquez1\\Documents\\02 - Jaqueline Vazquez\\Data Science\\Notebooks\\Notebook_4.ipynb Cell 20\u001b[0m line \u001b[0;36m2\n\u001b[0;32m      <a href='vscode-notebook-cell:/c%3A/Users/jvazquez1/Documents/02%20-%20Jaqueline%20Vazquez/Data%20Science/Notebooks/Notebook_4.ipynb#X25sZmlsZQ%3D%3D?line=0'>1</a>\u001b[0m \u001b[39m#Corre el siguiente codigo\u001b[39;00m\n\u001b[1;32m----> <a href='vscode-notebook-cell:/c%3A/Users/jvazquez1/Documents/02%20-%20Jaqueline%20Vazquez/Data%20Science/Notebooks/Notebook_4.ipynb#X25sZmlsZQ%3D%3D?line=1'>2</a>\u001b[0m \u001b[39mprint\u001b[39m(mi_lista \u001b[39m+\u001b[39;49m \u001b[39m2\u001b[39;49m)\n",
            "\u001b[1;31mTypeError\u001b[0m: can only concatenate list (not \"int\") to list"
          ]
        }
      ],
      "source": [
        "#Corre el siguiente codigo\n",
        "print(mi_lista + 2)"
      ]
    },
    {
      "cell_type": "markdown",
      "metadata": {
        "id": "nYV_cab39Iwl"
      },
      "source": [
        "No es posible sumar un numero a cada uno de los elementos de una lista. Sin embargo, esto funciona distinto en Numpy."
      ]
    },
    {
      "cell_type": "code",
      "execution_count": 6,
      "metadata": {
        "colab": {
          "base_uri": "https://localhost:8080/",
          "height": 35
        },
        "id": "PleL40BL9Iwl",
        "outputId": "f590947a-a8cf-4654-c77f-7bbeaacf5d48"
      },
      "outputs": [
        {
          "name": "stdout",
          "output_type": "stream",
          "text": [
            "[47, 125, 91, 5, 47, 4, 101, 58, 36, 12]\n"
          ]
        }
      ],
      "source": [
        "#Suma 2 a cada elemento de mi_array\n",
        "mi_lista2 = [i + 2 for i in mi_lista]\n",
        "\n",
        "print(mi_lista2)"
      ]
    },
    {
      "cell_type": "markdown",
      "metadata": {
        "id": "B5fXUiPh9Iwo"
      },
      "source": [
        "El comportamiento tambien es distinto para la operacion de multiplicacion."
      ]
    },
    {
      "cell_type": "code",
      "execution_count": 7,
      "metadata": {
        "colab": {
          "base_uri": "https://localhost:8080/",
          "height": 35
        },
        "id": "Xv_O7QVH9Iwo",
        "outputId": "3377ec2e-6b42-4920-b5f2-baa99ca2c0e9"
      },
      "outputs": [
        {
          "name": "stdout",
          "output_type": "stream",
          "text": [
            "[45, 123, 89, 3, 45, 2, 99, 56, 34, 10, 45, 123, 89, 3, 45, 2, 99, 56, 34, 10]\n"
          ]
        }
      ],
      "source": [
        "#Corre el siguiente codigo y fijate que pasa\n",
        "print(mi_lista * 2)"
      ]
    },
    {
      "cell_type": "code",
      "execution_count": 8,
      "metadata": {
        "colab": {
          "base_uri": "https://localhost:8080/",
          "height": 35
        },
        "id": "B9rBbXW59Iwr",
        "outputId": "1f099b8e-7895-40a1-9c99-da5b2b5e111d"
      },
      "outputs": [
        {
          "name": "stdout",
          "output_type": "stream",
          "text": [
            "[90, 246, 178, 6, 90, 4, 198, 112, 68, 20]\n"
          ]
        }
      ],
      "source": [
        "#Ahora multiplica por dos cada elemento de mi_array\n",
        "\n",
        "mi_lista3 =  [i * 2 for i in mi_lista]\n",
        "\n",
        "print(mi_lista3)"
      ]
    },
    {
      "cell_type": "markdown",
      "metadata": {
        "id": "EuWM5oic9Iwt"
      },
      "source": [
        "Los arrays y las listas se comportan diferente frente a operaciones con otros arrays/listas"
      ]
    },
    {
      "cell_type": "code",
      "execution_count": 9,
      "metadata": {
        "colab": {
          "base_uri": "https://localhost:8080/",
          "height": 214
        },
        "id": "GQ505ALF9Iwt",
        "outputId": "1f50ffa6-f6c1-405a-b2f3-17daaab4adb7"
      },
      "outputs": [],
      "source": [
        "#Corre el siguiente codigo\n",
        "lista1 = [1, 2, 3, 4, 5]\n",
        "lista2 = [5, 4, 3, 2, 1]\n",
        "\n",
        "arr1 = np.array(lista1)\n",
        "arr2 = np.array(lista2)"
      ]
    },
    {
      "cell_type": "code",
      "execution_count": 10,
      "metadata": {
        "colab": {
          "base_uri": "https://localhost:8080/",
          "height": 35
        },
        "id": "CFhhBc0r9Iww",
        "outputId": "dab69bd5-f3c6-474e-edc9-22f5ac43ad9f"
      },
      "outputs": [
        {
          "data": {
            "text/plain": [
              "[1, 2, 3, 4, 5, 5, 4, 3, 2, 1]"
            ]
          },
          "execution_count": 10,
          "metadata": {},
          "output_type": "execute_result"
        }
      ],
      "source": [
        "#Concatena las dos listas\n",
        "lista1 + lista2"
      ]
    },
    {
      "cell_type": "code",
      "execution_count": 10,
      "metadata": {
        "colab": {
          "base_uri": "https://localhost:8080/",
          "height": 34
        },
        "id": "xCz2gztf9Iwy",
        "outputId": "f7985ebb-dd04-4437-c77d-9e20188589f9"
      },
      "outputs": [
        {
          "name": "stdout",
          "output_type": "stream",
          "text": [
            "[10  4  6  8]\n"
          ]
        }
      ],
      "source": [
        "#Suma los elementos de los dos arrays\n",
        "\n",
        "#lista3 = []\n",
        "#for i in lista1:\n",
        "#  for j in lista2:\n",
        "#    lista3.append(i + j)\n",
        "#print(lista3)\n",
        "lista1 = [1,2,3,4]\n",
        "lista2 = [9,2,3,4]\n",
        "\n",
        "array1 = np.array(lista1)\n",
        "array2 = np.array(lista2)\n",
        "\n",
        "print(array1 + array2)"
      ]
    },
    {
      "cell_type": "code",
      "execution_count": null,
      "metadata": {
        "id": "RtdR2N8W9Iw0"
      },
      "outputs": [],
      "source": [
        "#Multiplica los elementos de cada arreglo\n"
      ]
    },
    {
      "cell_type": "code",
      "execution_count": null,
      "metadata": {
        "id": "NSIEt1ni9Iw2"
      },
      "outputs": [],
      "source": [
        "#Resta los dos arrays\n"
      ]
    },
    {
      "cell_type": "code",
      "execution_count": null,
      "metadata": {
        "id": "rfU5a4JT9Iw5"
      },
      "outputs": [],
      "source": [
        "#Dividi los dos arrays\n"
      ]
    },
    {
      "cell_type": "code",
      "execution_count": null,
      "metadata": {
        "id": "vsK1bh2t9Iw_"
      },
      "outputs": [],
      "source": [
        "#Eleva el array1 al array2\n"
      ]
    },
    {
      "cell_type": "markdown",
      "metadata": {
        "id": "xHrtSrCs9IxC"
      },
      "source": [
        "Para acceder a los elementos de los arrays de una dimension se utilizan los indices como las listas."
      ]
    },
    {
      "cell_type": "code",
      "execution_count": 12,
      "metadata": {
        "colab": {
          "base_uri": "https://localhost:8080/",
          "height": 35
        },
        "id": "_AlcV5K09IxC",
        "outputId": "353a19a8-2afe-4f7d-c8a2-c7842b434d1d"
      },
      "outputs": [
        {
          "name": "stdout",
          "output_type": "stream",
          "text": [
            "1 1\n"
          ]
        }
      ],
      "source": [
        "#Corre el siguiente codigo\n",
        "print(lista1[0], arr1[0])"
      ]
    },
    {
      "cell_type": "code",
      "execution_count": 13,
      "metadata": {
        "colab": {
          "base_uri": "https://localhost:8080/",
          "height": 35
        },
        "id": "rKRYd4OK9IxG",
        "outputId": "a8d59b8d-5ca8-47da-aae2-182a7cc47b8f"
      },
      "outputs": [
        {
          "name": "stdout",
          "output_type": "stream",
          "text": [
            "3 3\n"
          ]
        }
      ],
      "source": [
        "#Obtene el 3er elemento de arr1\n",
        "print(lista1[2], arr1[2])"
      ]
    },
    {
      "cell_type": "code",
      "execution_count": 14,
      "metadata": {
        "colab": {
          "base_uri": "https://localhost:8080/",
          "height": 35
        },
        "id": "HihzUNA09IxI",
        "outputId": "93ad4111-8210-4fdd-c24f-633d5efe1657"
      },
      "outputs": [
        {
          "ename": "IndexError",
          "evalue": "list index out of range",
          "output_type": "error",
          "traceback": [
            "\u001b[1;31m---------------------------------------------------------------------------\u001b[0m",
            "\u001b[1;31mIndexError\u001b[0m                                Traceback (most recent call last)",
            "\u001b[1;32mc:\\Users\\jvazquez1\\Documents\\02 - Jaqueline Vazquez\\Data Science\\Notebooks\\Notebook_4.ipynb Cell 37\u001b[0m line \u001b[0;36m2\n\u001b[0;32m      <a href='vscode-notebook-cell:/c%3A/Users/jvazquez1/Documents/02%20-%20Jaqueline%20Vazquez/Data%20Science/Notebooks/Notebook_4.ipynb#X51sZmlsZQ%3D%3D?line=0'>1</a>\u001b[0m \u001b[39m#Obtene el 5to elemento de arr2\u001b[39;00m\n\u001b[1;32m----> <a href='vscode-notebook-cell:/c%3A/Users/jvazquez1/Documents/02%20-%20Jaqueline%20Vazquez/Data%20Science/Notebooks/Notebook_4.ipynb#X51sZmlsZQ%3D%3D?line=1'>2</a>\u001b[0m \u001b[39mprint\u001b[39m (lista2[\u001b[39m4\u001b[39;49m], arr2[\u001b[39m4\u001b[39m])\n",
            "\u001b[1;31mIndexError\u001b[0m: list index out of range"
          ]
        }
      ],
      "source": [
        "#Obtene el 5to elemento de arr2\n",
        "print (lista2[4], arr2[4])"
      ]
    },
    {
      "cell_type": "code",
      "execution_count": null,
      "metadata": {
        "id": "4uvf6wfu9IxL"
      },
      "outputs": [],
      "source": [
        "#Obtene el ultimo elemento de arr1\n"
      ]
    },
    {
      "cell_type": "markdown",
      "metadata": {
        "id": "Mavn6y_Q9IxN"
      },
      "source": [
        "Asi tambien obtenemos una porción del array de la misma manera que obtenemos una parte de una lista. A su vez podemos reasignar nuevos valores a una porción del array."
      ]
    },
    {
      "cell_type": "code",
      "execution_count": 15,
      "metadata": {
        "id": "FBjVCpWo9IxN"
      },
      "outputs": [
        {
          "ename": "ValueError",
          "evalue": "could not broadcast input array from shape (3,) into shape (2,)",
          "output_type": "error",
          "traceback": [
            "\u001b[1;31m---------------------------------------------------------------------------\u001b[0m",
            "\u001b[1;31mValueError\u001b[0m                                Traceback (most recent call last)",
            "\u001b[1;32mc:\\Users\\jvazquez1\\Documents\\02 - Jaqueline Vazquez\\Data Science\\Notebooks\\Notebook_4.ipynb Cell 40\u001b[0m line \u001b[0;36m2\n\u001b[0;32m      <a href='vscode-notebook-cell:/c%3A/Users/jvazquez1/Documents/02%20-%20Jaqueline%20Vazquez/Data%20Science/Notebooks/Notebook_4.ipynb#X54sZmlsZQ%3D%3D?line=0'>1</a>\u001b[0m \u001b[39m#Corre el siguiente codigo\u001b[39;00m\n\u001b[1;32m----> <a href='vscode-notebook-cell:/c%3A/Users/jvazquez1/Documents/02%20-%20Jaqueline%20Vazquez/Data%20Science/Notebooks/Notebook_4.ipynb#X54sZmlsZQ%3D%3D?line=1'>2</a>\u001b[0m array1[\u001b[39m2\u001b[39;49m:\u001b[39m5\u001b[39;49m] \u001b[39m=\u001b[39m [\u001b[39m22\u001b[39m, \u001b[39m23\u001b[39m, \u001b[39m24\u001b[39m]\n",
            "\u001b[1;31mValueError\u001b[0m: could not broadcast input array from shape (3,) into shape (2,)"
          ]
        }
      ],
      "source": [
        "#Corre el siguiente codigo\n",
        "array1[2:5] = [22, 23, 24]"
      ]
    },
    {
      "cell_type": "code",
      "execution_count": 16,
      "metadata": {
        "colab": {
          "base_uri": "https://localhost:8080/",
          "height": 35
        },
        "id": "9F9vBgU69IxP",
        "outputId": "80e51f83-8de1-4f3e-ce23-5dc4253c6fb1"
      },
      "outputs": [
        {
          "name": "stdout",
          "output_type": "stream",
          "text": [
            "[1 2 3 4 5]\n"
          ]
        }
      ],
      "source": [
        "#Imprimi el arr1\n",
        "print(arr1)"
      ]
    },
    {
      "cell_type": "markdown",
      "metadata": {
        "id": "89rDeEhV9IxR"
      },
      "source": [
        "## Arreglos multidimensionales"
      ]
    },
    {
      "cell_type": "markdown",
      "metadata": {
        "id": "CRUXEDm49IxR"
      },
      "source": [
        "Las listas son cadenas unidimensionales de elementos. Los arreglos pueden ser multidimensionales. Para comprender mejor que son, miremos el siguiente ejemplo:"
      ]
    },
    {
      "cell_type": "code",
      "execution_count": 17,
      "metadata": {
        "colab": {
          "base_uri": "https://localhost:8080/",
          "height": 54
        },
        "id": "kuzYsFb99IxS",
        "outputId": "ab419e62-20a7-4bc6-afef-056ff74b6658"
      },
      "outputs": [
        {
          "data": {
            "text/plain": [
              "array([[0, 1, 3],\n",
              "       [3, 4, 5]])"
            ]
          },
          "execution_count": 17,
          "metadata": {},
          "output_type": "execute_result"
        }
      ],
      "source": [
        "#Corre el siguiente codigo\n",
        "lista = [[0, 1, 3], [3, 4, 5]]\n",
        "arr2d = np.array(lista)\n",
        "arr2d"
      ]
    },
    {
      "cell_type": "code",
      "execution_count": 18,
      "metadata": {
        "colab": {
          "base_uri": "https://localhost:8080/",
          "height": 35
        },
        "id": "oNqrJJbi9IxU",
        "outputId": "b3a6590c-1b3e-4026-d0e8-0aa0e64a6d5b"
      },
      "outputs": [
        {
          "name": "stdout",
          "output_type": "stream",
          "text": [
            "2\n"
          ]
        }
      ],
      "source": [
        "#Veamos cuantas dimensiones tiene el array\n",
        "print(arr2d.ndim)"
      ]
    },
    {
      "cell_type": "code",
      "execution_count": 19,
      "metadata": {
        "colab": {
          "base_uri": "https://localhost:8080/",
          "height": 35
        },
        "id": "Vj0qCMcu9IxW",
        "outputId": "c6cdf506-d1dd-4b1c-f89e-9a5a39f474ab"
      },
      "outputs": [
        {
          "name": "stdout",
          "output_type": "stream",
          "text": [
            "6\n"
          ]
        }
      ],
      "source": [
        "#Veamos cuantos elementos tiene el array\n",
        "print(arr2d.size)"
      ]
    },
    {
      "cell_type": "code",
      "execution_count": 20,
      "metadata": {
        "colab": {
          "base_uri": "https://localhost:8080/",
          "height": 72
        },
        "id": "VFKyjgth9IxY",
        "outputId": "b44f4854-2ea3-4156-b2cf-2b7af4553bf1"
      },
      "outputs": [
        {
          "data": {
            "text/plain": [
              "array([[[ 2,  4,  6],\n",
              "        [ 1,  3,  5],\n",
              "        [ 8, 10, 12]]])"
            ]
          },
          "execution_count": 20,
          "metadata": {},
          "output_type": "execute_result"
        }
      ],
      "source": [
        "#Arma ahora un array de 3 dimensiones.\n",
        "coso = [[[2,4,6],[1,3,5],[8,10,12]]]\n",
        "arr3d = np.array(coso)\n",
        "arr3d"
      ]
    },
    {
      "cell_type": "code",
      "execution_count": 21,
      "metadata": {
        "colab": {
          "base_uri": "https://localhost:8080/",
          "height": 35
        },
        "id": "wfHd2SMX9Ixa",
        "outputId": "c7dbe0a4-749e-4345-c457-c8f37e6b1001"
      },
      "outputs": [
        {
          "name": "stdout",
          "output_type": "stream",
          "text": [
            "3\n"
          ]
        }
      ],
      "source": [
        "#Chequea usando ndim que efectivamente tenga tres dimensiones\n",
        "print(arr3d.ndim)"
      ]
    },
    {
      "cell_type": "markdown",
      "metadata": {
        "id": "fmEhCwq49Ixb"
      },
      "source": [
        "**¿Como accedemos entonces a un array de mas de una dimension?**"
      ]
    },
    {
      "cell_type": "code",
      "execution_count": 22,
      "metadata": {
        "id": "-9c0rOTg9Ixc"
      },
      "outputs": [],
      "source": [
        "#definamos un nuevo array\n",
        "lista2 = [[0, 1, 3], [3, 4, 5], [9, 10, 4], [2, 5, 6]]\n",
        "nuevo_array = np.array(lista2)"
      ]
    },
    {
      "cell_type": "markdown",
      "metadata": {
        "id": "Hi_zFded9Ixd"
      },
      "source": [
        "¿Cuantas dimensiones tiene el array `nuevo_array`? Comprobalo usando `ndim`."
      ]
    },
    {
      "cell_type": "code",
      "execution_count": 23,
      "metadata": {
        "colab": {
          "base_uri": "https://localhost:8080/",
          "height": 35
        },
        "id": "HL6EzD_p9Ixe",
        "outputId": "036c5f3a-c558-4c3d-e0e6-3906c1d26101"
      },
      "outputs": [
        {
          "name": "stdout",
          "output_type": "stream",
          "text": [
            "2\n"
          ]
        }
      ],
      "source": [
        "#Dimensiones de nuevo_array\n",
        "print(nuevo_array.ndim)"
      ]
    },
    {
      "cell_type": "code",
      "execution_count": 24,
      "metadata": {
        "colab": {
          "base_uri": "https://localhost:8080/",
          "height": 90
        },
        "id": "gbYdjAsA9Ixg",
        "outputId": "3ba3c9a1-b0a0-45fd-cd41-7f99dd022668"
      },
      "outputs": [
        {
          "name": "stdout",
          "output_type": "stream",
          "text": [
            "[[ 0  1  3]\n",
            " [ 3  4  5]\n",
            " [ 9 10  4]\n",
            " [ 2  5  6]]\n"
          ]
        }
      ],
      "source": [
        "#Mostra nuevo_array\n",
        "print(nuevo_array)"
      ]
    },
    {
      "cell_type": "markdown",
      "metadata": {
        "id": "BRDLHnGA9Ixj"
      },
      "source": [
        "Si para un array de 1 dimension, usabamos un indice, para un array de n dimensiones tenemos que usar n indices. En el caso de 2 dimensiones, usaremos 2 indices. El primero indica la fila y el segundo la columna."
      ]
    },
    {
      "cell_type": "code",
      "execution_count": 25,
      "metadata": {
        "colab": {
          "base_uri": "https://localhost:8080/",
          "height": 35
        },
        "id": "gR50Ev219Ixk",
        "outputId": "c34bec0c-baf4-4819-8ab9-9c2eaa3ad86e"
      },
      "outputs": [
        {
          "name": "stdout",
          "output_type": "stream",
          "text": [
            "1\n"
          ]
        }
      ],
      "source": [
        "#Corre el siguiente codigo\n",
        "print(nuevo_array[0, 1])"
      ]
    },
    {
      "cell_type": "code",
      "execution_count": 26,
      "metadata": {
        "colab": {
          "base_uri": "https://localhost:8080/",
          "height": 35
        },
        "id": "Vlrqe2DZ9Ixo",
        "outputId": "dd4a59d0-d490-45cf-e757-abc97c0737ae"
      },
      "outputs": [
        {
          "name": "stdout",
          "output_type": "stream",
          "text": [
            "5\n"
          ]
        }
      ],
      "source": [
        "#Accede al tercer elemento de la segunda fila de nuevo_array\n",
        "print(nuevo_array[1,2])"
      ]
    },
    {
      "cell_type": "code",
      "execution_count": null,
      "metadata": {
        "id": "mOKyEl6H9Ixq",
        "outputId": "089c22d9-26a9-435f-dd36-eb202666d653"
      },
      "outputs": [
        {
          "name": "stdout",
          "output_type": "stream",
          "text": [
            "1\n"
          ]
        }
      ],
      "source": [
        "#Accede al tercer elemento de la segunda fila de nuevo_array\n"
      ]
    },
    {
      "cell_type": "code",
      "execution_count": 27,
      "metadata": {
        "colab": {
          "base_uri": "https://localhost:8080/",
          "height": 35
        },
        "id": "A9jsjXoK9Ixs",
        "outputId": "8bc1dac0-7465-4531-da8d-b7c22de30c02"
      },
      "outputs": [
        {
          "name": "stdout",
          "output_type": "stream",
          "text": [
            "6\n"
          ]
        }
      ],
      "source": [
        "#Accede al cuarto elemento de la segunda columna de nuevo_array\n",
        "print(nuevo_array[3,2])"
      ]
    },
    {
      "cell_type": "code",
      "execution_count": 28,
      "metadata": {
        "colab": {
          "base_uri": "https://localhost:8080/",
          "height": 35
        },
        "id": "sGc4P3E19Ixt",
        "outputId": "8cf2b797-0fc6-4a2f-f56b-9c9a7a96a2fc"
      },
      "outputs": [
        {
          "data": {
            "text/plain": [
              "array([ 1,  4, 10,  5])"
            ]
          },
          "execution_count": 28,
          "metadata": {},
          "output_type": "execute_result"
        }
      ],
      "source": [
        "#Accedo a toda la segunda columna\n",
        "nuevo_array[:, 1]"
      ]
    },
    {
      "cell_type": "code",
      "execution_count": null,
      "metadata": {
        "colab": {
          "base_uri": "https://localhost:8080/",
          "height": 35
        },
        "id": "1pxpVLmO9Ixw",
        "outputId": "f6452e8b-0b7b-4710-d150-81df9cf858eb"
      },
      "outputs": [
        {
          "name": "stdout",
          "output_type": "stream",
          "text": [
            "[3 5 4 6]\n"
          ]
        }
      ],
      "source": [
        "#Accede a un subarray que vaya desde el segundo elemento de la\n",
        "#primer columna hasta el cuarto elemento de la tercer\n",
        "#columna de nuevo_array\n",
        "print(nuevo_array[: , 2])"
      ]
    },
    {
      "cell_type": "code",
      "execution_count": null,
      "metadata": {
        "id": "p9fDidG99Ixy",
        "outputId": "133c6246-ab61-4b9b-e08f-504817412398"
      },
      "outputs": [
        {
          "data": {
            "text/plain": [
              "array([[ 3,  4],\n",
              "       [ 9, 10],\n",
              "       [ 2,  5]])"
            ]
          },
          "execution_count": 25,
          "metadata": {
            "tags": []
          },
          "output_type": "execute_result"
        }
      ],
      "source": [
        "#Accede a un subarray que vaya desde el primer elemento de la\n",
        "#segunda fila hasta el segundo elemento de la cuarta\n",
        "#fila de nuevo_array\n"
      ]
    },
    {
      "cell_type": "markdown",
      "metadata": {
        "id": "YpXEjKk09Ix0"
      },
      "source": [
        "## Creación de arreglos"
      ]
    },
    {
      "cell_type": "markdown",
      "metadata": {
        "id": "tD-27Se19Ix1"
      },
      "source": [
        "- **np.zeros(shape, dtype, order)**: Crea un array con todos ceros en sus posiciones"
      ]
    },
    {
      "cell_type": "code",
      "execution_count": 29,
      "metadata": {
        "colab": {
          "base_uri": "https://localhost:8080/",
          "height": 108
        },
        "id": "Kcdzl_U-9Ix2",
        "outputId": "74627cf8-ba56-49f3-d3c6-2d7bd9404da6"
      },
      "outputs": [
        {
          "name": "stdout",
          "output_type": "stream",
          "text": [
            "[[[0. 0.]\n",
            "  [0. 0.]]\n",
            "\n",
            " [[0. 0.]\n",
            "  [0. 0.]]]\n"
          ]
        }
      ],
      "source": [
        "#Corre el siguiente codigo\n",
        "print(np.zeros((2, 2, 2)))"
      ]
    },
    {
      "cell_type": "markdown",
      "metadata": {
        "id": "Pbfo4SMN9Ix4"
      },
      "source": [
        "- **np.ones(shape, dtype, order)**: Crea un array con todos unos en sus posiciones"
      ]
    },
    {
      "cell_type": "code",
      "execution_count": 30,
      "metadata": {
        "colab": {
          "base_uri": "https://localhost:8080/",
          "height": 35
        },
        "id": "XHnqDg3F9Ix5",
        "outputId": "ffcabc83-82a9-45ab-f61a-d1e2b76b880f"
      },
      "outputs": [
        {
          "name": "stdout",
          "output_type": "stream",
          "text": [
            "[1. 1. 1. 1. 1. 1. 1. 1. 1. 1.]\n"
          ]
        }
      ],
      "source": [
        "#Corre el siguiente codigo\n",
        "print(np.ones(10))"
      ]
    },
    {
      "cell_type": "markdown",
      "metadata": {
        "id": "CYwoyqUz9Ix7"
      },
      "source": [
        "- **np.random.rand(d0, d1, ..., dn)**: Genera un array con valores al azar con una distribución `[0, 1)` y segun las dimensiones pasada como argumento."
      ]
    },
    {
      "cell_type": "code",
      "execution_count": 31,
      "metadata": {
        "colab": {
          "base_uri": "https://localhost:8080/",
          "height": 54
        },
        "id": "WZL0bOTF9Ix7",
        "outputId": "cfc04536-2479-43d1-9511-21fbeded382b"
      },
      "outputs": [
        {
          "name": "stdout",
          "output_type": "stream",
          "text": [
            "[-1.71242736 -0.8226573   0.3233034  -0.93726476  0.0925039  -1.07546593\n",
            "  0.5825233   1.02969641  0.3155011  -0.1284734 ]\n"
          ]
        }
      ],
      "source": [
        "#Genera un array con valores al azar\n",
        "print(np.random.randn(10))"
      ]
    },
    {
      "cell_type": "markdown",
      "metadata": {
        "id": "uL9DAYO-9Ix8"
      },
      "source": [
        "- **np.random.randint(low, high, size)**: Devuelve un array con enteros al azar. Cuando se especifica un solo entero como argumento este entero es entendido como el mayor valor que ese numero random puede tomar. Si se pasan dos, uno es el menor valor y el otro es el mayor valor. Con size se le puede decir que dimensiones tiene el array. Si no le paso ningun valor, devolvera solo un numero entero."
      ]
    },
    {
      "cell_type": "code",
      "execution_count": 32,
      "metadata": {
        "colab": {
          "base_uri": "https://localhost:8080/",
          "height": 35
        },
        "id": "KeLDVrWI9Ix9",
        "outputId": "8be96694-619c-4e15-e073-f39488ec64bb"
      },
      "outputs": [
        {
          "data": {
            "text/plain": [
              "1"
            ]
          },
          "execution_count": 32,
          "metadata": {},
          "output_type": "execute_result"
        }
      ],
      "source": [
        "#Genera un array con enteros al azar\n",
        "np.random.randint(5)"
      ]
    },
    {
      "cell_type": "markdown",
      "metadata": {
        "id": "vnNsy9gw9Ix_"
      },
      "source": [
        "- **np.arange([start, ]stop, [step, ])**: Devuelve numero simetricamente distribuidos segun los valores datos. El primer valor es el comienzo, el segundo el final y el tercero representa cada cuanto queremos esos valores."
      ]
    },
    {
      "cell_type": "code",
      "execution_count": 33,
      "metadata": {
        "colab": {
          "base_uri": "https://localhost:8080/",
          "height": 35
        },
        "id": "vOuXCx4D9Ix_",
        "outputId": "a42efbe9-c7ee-4e15-f19a-7bdc53c970a2"
      },
      "outputs": [
        {
          "data": {
            "text/plain": [
              "array([ 2,  4,  6,  8, 10, 12, 14])"
            ]
          },
          "execution_count": 33,
          "metadata": {},
          "output_type": "execute_result"
        }
      ],
      "source": [
        "#Corre esta linea de codigo y comprende como funciona np.arange\n",
        "np.arange(2, 16, 2)"
      ]
    },
    {
      "cell_type": "markdown",
      "metadata": {
        "id": "ad8MpgsK9IyB"
      },
      "source": [
        "## Funciones estadisticas"
      ]
    },
    {
      "cell_type": "markdown",
      "metadata": {
        "id": "hkKe1XHu9IyB"
      },
      "source": [
        "NumPy nos facilita varias funciones que nos permitiran obtener algunos parametros estadisticos de nuestros arrays. Veamos cuales son estas funciones."
      ]
    },
    {
      "cell_type": "code",
      "execution_count": 34,
      "metadata": {
        "colab": {
          "base_uri": "https://localhost:8080/",
          "height": 90
        },
        "id": "nXp_uV3j9IyC",
        "outputId": "201a2643-14db-431f-f1bf-03c7719b2bdb"
      },
      "outputs": [
        {
          "name": "stdout",
          "output_type": "stream",
          "text": [
            "[[ 0  1  3]\n",
            " [ 3  4  5]\n",
            " [ 9 10  4]\n",
            " [ 2  5  6]]\n"
          ]
        }
      ],
      "source": [
        "#Volvamos a ver como era nuestro array nuevo_array\n",
        "print(nuevo_array)"
      ]
    },
    {
      "cell_type": "markdown",
      "metadata": {
        "id": "2Pn6RQZU9IyE"
      },
      "source": [
        "- `np.mean()`: Media o Promedio."
      ]
    },
    {
      "cell_type": "code",
      "execution_count": 35,
      "metadata": {
        "colab": {
          "base_uri": "https://localhost:8080/",
          "height": 35
        },
        "id": "nRBJGUd39IyF",
        "outputId": "ab3d2761-c5fc-4ee0-a384-94546ea0b00b"
      },
      "outputs": [
        {
          "data": {
            "text/plain": [
              "4.333333333333333"
            ]
          },
          "execution_count": 35,
          "metadata": {},
          "output_type": "execute_result"
        }
      ],
      "source": [
        "#usa la funcion mean para obtener el promedio de los valores en nuevo_array\n",
        "np.mean(nuevo_array)"
      ]
    },
    {
      "cell_type": "markdown",
      "metadata": {
        "id": "Zc1r1TvP9IyG"
      },
      "source": [
        "- `np.var()`: Devuelve la dispersión de los valores alrededor de la media"
      ]
    },
    {
      "cell_type": "code",
      "execution_count": 36,
      "metadata": {
        "colab": {
          "base_uri": "https://localhost:8080/",
          "height": 35
        },
        "id": "WJGJTzY89IyI",
        "outputId": "94b49571-8cfa-457b-ddbb-57be1a6b7e61"
      },
      "outputs": [
        {
          "data": {
            "text/plain": [
              "8.055555555555557"
            ]
          },
          "execution_count": 36,
          "metadata": {},
          "output_type": "execute_result"
        }
      ],
      "source": [
        "#usa la funcion var para obtener la varianza de los valores en nuevo_array\n",
        "np.var(nuevo_array)"
      ]
    },
    {
      "cell_type": "markdown",
      "metadata": {
        "id": "9eM5HfIk9IyK"
      },
      "source": [
        "- `np.sum()`: devuelve la suma de todos los valores en el array.\n",
        "- `np.min()`: devuelve el menor valor en el array\n",
        "- `np.max()`: devuelve el maximo valor en el array"
      ]
    },
    {
      "cell_type": "code",
      "execution_count": 37,
      "metadata": {
        "colab": {
          "base_uri": "https://localhost:8080/",
          "height": 35
        },
        "id": "MMaX3qaq9IyK",
        "outputId": "7e5c8814-5408-45ff-8c16-2629ee0289a1"
      },
      "outputs": [
        {
          "data": {
            "text/plain": [
              "10"
            ]
          },
          "execution_count": 37,
          "metadata": {},
          "output_type": "execute_result"
        }
      ],
      "source": [
        "#Muestra la suma de los valores en nuevo_array\n",
        "np.sum(nuevo_array)\n",
        "\n",
        "#Muestra el minimo y maximo valor en nuevo array\n",
        "\n",
        "np.min(nuevo_array)\n",
        "np.max(nuevo_array)"
      ]
    },
    {
      "cell_type": "code",
      "execution_count": null,
      "metadata": {
        "id": "G0NMKT609IyM"
      },
      "outputs": [],
      "source": []
    }
  ],
  "metadata": {
    "colab": {
      "provenance": []
    },
    "kernelspec": {
      "display_name": "Python 3",
      "language": "python",
      "name": "python3"
    },
    "language_info": {
      "codemirror_mode": {
        "name": "ipython",
        "version": 3
      },
      "file_extension": ".py",
      "mimetype": "text/x-python",
      "name": "python",
      "nbconvert_exporter": "python",
      "pygments_lexer": "ipython3",
      "version": "3.12.0"
    }
  },
  "nbformat": 4,
  "nbformat_minor": 0
}
