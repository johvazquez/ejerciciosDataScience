{
  "cells": [
    {
      "cell_type": "markdown",
      "metadata": {
        "id": "Gp2WddtV9IwG"
      },
      "source": [
        "# Programa Ingenias+ Data Science"
      ]
    },
    {
      "cell_type": "markdown",
      "metadata": {
        "id": "H4M1yVbf9IwH"
      },
      "source": [
        "Como dijimos en clases anteriores, Python tiene implementadas muchas librerias para poder trabajar con datos. En la clase de hoy trabajaremos con una de ellas: `Numpy`."
      ]
    },
    {
      "cell_type": "markdown",
      "metadata": {
        "id": "GdTT8WeL9IwI"
      },
      "source": [
        "Antes de comenzar, vamos a hablar un poco de esta libreria o modulo.\n",
        "\n",
        "**Numpy** es una librería optimizada para realizar cálculos numéricos con vectores y matrices. A diferencia de otros lenguajes de programación, Python no posee en su estructura central la figura de matrices. Eso quiere decir que para poder trabajar con esta estructura de datos deberiamos trabajar con listas de listas. NumPy introduce el concepto de arrays o matrices."
      ]
    },
    {
      "cell_type": "markdown",
      "metadata": {
        "id": "qWkq3EHK9IwK"
      },
      "source": [
        "Al ser de código abierto, `numpy` posee una documentación muy amplia que es **SIEMPRE RECOMENDABLE** consultar."
      ]
    },
    {
      "cell_type": "markdown",
      "metadata": {
        "id": "nxe3KLUO9IwL"
      },
      "source": [
        "- [Documentacion NumPy](https://devdocs.io/numpy/)"
      ]
    },
    {
      "cell_type": "markdown",
      "metadata": {
        "id": "l1Ay3nSs9IwN"
      },
      "source": [
        "## Clase 4: Introduccion a NumPy\n"
      ]
    },
    {
      "cell_type": "code",
      "execution_count": 1,
      "metadata": {},
      "outputs": [],
      "source": [
        "import numpy as np"
      ]
    },
    {
      "cell_type": "markdown",
      "metadata": {
        "id": "X03mviQS9IyL"
      },
      "source": [
        "# Ejercicios\n",
        "\n",
        "1. Crear un arreglo de ceros de longitud 12\n",
        "2. Crear un arreglo de longitud 10 con ceros en todas sus posiciones y un 10 en la posición número 5\n",
        "3. Crear un arreglo que tenga los números del 10 al 49\n",
        "4. Crear una arreglo 2d de shape (3, 3) que tenga los números del 0 al 8\n",
        "5. Crear un arreglo de números aleatorios de longitud 100 y obtener su media y varianza\n",
        "6. Calcular la media de un arreglo usando np.sum\n",
        "7. Calcular la varianza de un arreglo usando np.sum y np.mean\n",
        "8. Crear un array de números aleatorios usando np.random.randn.\n"
      ]
    },
    {
      "cell_type": "code",
      "execution_count": 2,
      "metadata": {
        "id": "G0NMKT609IyM"
      },
      "outputs": [
        {
          "name": "stdout",
          "output_type": "stream",
          "text": [
            "[0. 0. 0. 0. 0. 0. 0. 0. 0. 0. 0. 0.]\n"
          ]
        }
      ],
      "source": [
        "# Crear un arreglo de ceros de longitud 12\n",
        "arreglo_de_ceros = np.zeros(12)\n",
        "print(arreglo_de_ceros)"
      ]
    },
    {
      "cell_type": "code",
      "execution_count": 3,
      "metadata": {},
      "outputs": [
        {
          "name": "stdout",
          "output_type": "stream",
          "text": [
            "[ 0.  0.  0.  0. 10.  0.  0.  0.  0.  0.]\n"
          ]
        }
      ],
      "source": [
        "# Crear un arreglo de longitud 10 con ceros en todas las posiciones\n",
        "arreglo = np.zeros(10)\n",
        "\n",
        "# Asignar un valor de 10 en la posición número 5 (índice 4)\n",
        "arreglo[4] = 10\n",
        "\n",
        "print(arreglo)"
      ]
    },
    {
      "cell_type": "code",
      "execution_count": 4,
      "metadata": {},
      "outputs": [
        {
          "name": "stdout",
          "output_type": "stream",
          "text": [
            "[10 11 12 13 14 15 16 17 18 19 20 21 22 23 24 25 26 27 28 29 30 31 32 33\n",
            " 34 35 36 37 38 39 40 41 42 43 44 45 46 47 48 49]\n"
          ]
        }
      ],
      "source": [
        "# Crear un arreglo con los números del 10 al 49\n",
        "arreglo = np.arange(10, 50)\n",
        "\n",
        "print(arreglo)"
      ]
    },
    {
      "cell_type": "code",
      "execution_count": 5,
      "metadata": {},
      "outputs": [
        {
          "name": "stdout",
          "output_type": "stream",
          "text": [
            "[[0 1 2]\n",
            " [3 4 5]\n",
            " [6 7 8]]\n"
          ]
        }
      ],
      "source": [
        "# Crear un arreglo 2D de forma (3, 3) con los números del 0 al 8\n",
        "arreglo_2d = np.arange(9).reshape(3, 3)\n",
        "\n",
        "print(arreglo_2d)\n"
      ]
    },
    {
      "cell_type": "code",
      "execution_count": 6,
      "metadata": {},
      "outputs": [
        {
          "name": "stdout",
          "output_type": "stream",
          "text": [
            "Arreglo aleatorio: [0.59336944 0.02508555 0.3931666  0.40290621 0.71482483 0.08322257\n",
            " 0.16611485 0.17903856 0.31437777 0.8270255  0.17022076 0.90337286\n",
            " 0.88971431 0.21417876 0.58116879 0.15449359 0.90755637 0.34260717\n",
            " 0.15333376 0.33691912 0.70450466 0.77289267 0.7806222  0.79656555\n",
            " 0.95427245 0.32151766 0.8087028  0.8674189  0.12003134 0.69439529\n",
            " 0.30975187 0.5187028  0.77817925 0.04723171 0.6310991  0.79735261\n",
            " 0.6611023  0.09238516 0.7287219  0.2425902  0.36969214 0.74469813\n",
            " 0.32277772 0.69887683 0.64538006 0.64553793 0.01125423 0.85338925\n",
            " 0.49070631 0.40275044 0.47017422 0.64048445 0.32355266 0.98699887\n",
            " 0.29336123 0.50254838 0.68822066 0.66279102 0.38350695 0.55694152\n",
            " 0.47056503 0.2650849  0.94449583 0.65733879 0.54558895 0.31578386\n",
            " 0.19379183 0.64591917 0.28336223 0.00587184 0.1154103  0.81871269\n",
            " 0.55996152 0.56571937 0.25020142 0.67637273 0.65048882 0.09603853\n",
            " 0.50580559 0.97759726 0.31871924 0.86987952 0.61387973 0.0752459\n",
            " 0.08417445 0.71509706 0.89344031 0.23460551 0.21527196 0.92050591\n",
            " 0.46815941 0.44452221 0.11451933 0.67978253 0.71550757 0.54391356\n",
            " 0.62545736 0.98825336 0.2652848  0.78870436]\n",
            "Media: 0.5079341550941024\n",
            "Varianza: 0.07612626359721818\n"
          ]
        }
      ],
      "source": [
        "# Crear un arreglo de números aleatorios de longitud 100\n",
        "arreglo_aleatorio = np.random.rand(100)\n",
        "\n",
        "# Calcular la media y la varianza\n",
        "media = np.mean(arreglo_aleatorio)\n",
        "varianza = np.var(arreglo_aleatorio)\n",
        "\n",
        "print(\"Arreglo aleatorio:\", arreglo_aleatorio)\n",
        "print(\"Media:\", media)\n",
        "print(\"Varianza:\", varianza)"
      ]
    },
    {
      "cell_type": "code",
      "execution_count": 7,
      "metadata": {},
      "outputs": [
        {
          "name": "stdout",
          "output_type": "stream",
          "text": [
            "Arreglo: [1 2 3 4 5]\n",
            "Media: 3.0\n"
          ]
        }
      ],
      "source": [
        "# Crear un arreglo de ejemplo\n",
        "arreglo = np.array([1, 2, 3, 4, 5])\n",
        "\n",
        "# Calcular la media usando np.sum\n",
        "media = np.sum(arreglo) / len(arreglo)\n",
        "\n",
        "print(\"Arreglo:\", arreglo)\n",
        "print(\"Media:\", media)"
      ]
    },
    {
      "cell_type": "code",
      "execution_count": 8,
      "metadata": {},
      "outputs": [
        {
          "name": "stdout",
          "output_type": "stream",
          "text": [
            "Arreglo: [1 2 3 4 5]\n",
            "Media: 3.0\n",
            "Varianza: 2.0\n"
          ]
        }
      ],
      "source": [
        "# Crear un arreglo de ejemplo\n",
        "arreglo = np.array([1, 2, 3, 4, 5])\n",
        "\n",
        "# Calcular la media con np.mean\n",
        "media = np.mean(arreglo)\n",
        "\n",
        "# Calcular la varianza con np.sum y np.mean\n",
        "varianza = np.sum((arreglo - media) ** 2) / len(arreglo)\n",
        "\n",
        "print(\"Arreglo:\", arreglo)\n",
        "print(\"Media:\", media)\n",
        "print(\"Varianza:\", varianza)"
      ]
    },
    {
      "cell_type": "code",
      "execution_count": 9,
      "metadata": {},
      "outputs": [
        {
          "name": "stdout",
          "output_type": "stream",
          "text": [
            "Arreglo aleatorio: [ 0.87529792  0.66289023 -0.1951956   0.77221251 -0.30783058 -0.00595419\n",
            " -1.15831938 -0.64101477 -1.16912845  1.34081712]\n"
          ]
        }
      ],
      "source": [
        "\n",
        "# Crear un arreglo de números aleatorios utilizando np.random.randn\n",
        "arreglo_aleatorio = np.random.randn(10)\n",
        "\n",
        "print(\"Arreglo aleatorio:\", arreglo_aleatorio)"
      ]
    }
  ],
  "metadata": {
    "colab": {
      "provenance": []
    },
    "kernelspec": {
      "display_name": "Python 3",
      "language": "python",
      "name": "python3"
    },
    "language_info": {
      "codemirror_mode": {
        "name": "ipython",
        "version": 3
      },
      "file_extension": ".py",
      "mimetype": "text/x-python",
      "name": "python",
      "nbconvert_exporter": "python",
      "pygments_lexer": "ipython3",
      "version": "3.12.0"
    }
  },
  "nbformat": 4,
  "nbformat_minor": 0
}
