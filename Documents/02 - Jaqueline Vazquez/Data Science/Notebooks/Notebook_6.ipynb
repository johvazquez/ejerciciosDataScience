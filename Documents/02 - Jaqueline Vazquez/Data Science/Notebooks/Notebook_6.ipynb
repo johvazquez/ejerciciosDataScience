{
  "cells": [
    {
      "cell_type": "markdown",
      "metadata": {
        "id": "GKrDUvbgWOBg"
      },
      "source": [
        "# Programa Ingenias+ en Data Science\n",
        "\n",
        "Como dijimos en clases anteriores, Python tiene implementadas muchas librerias para poder trabajar con datos. En la clase de hoy trabajaremos con una de ellas: `Pandas`.\n",
        "\n",
        "Antes de comenzar, vamos a hablar un poco de esta libreria.\n",
        "\n",
        "**Pandas** es una libreria que es una extensión de NumPy. Basicamente al utilizar `pandas`, utilizo `numpy` por debajo. Esta orientada a la manipulación y análisis de datos debido a que ofrece estructuras de datos y operaciones para manipular tablas numéricas y series temporales.\n",
        "\n",
        "La estructura principal de `pandas` es el `DataFrame` que es muy similar a una tabla. Así también, contiene otra estrucutra denominada `Serie`.\n",
        "\n",
        "Al ser de código abierto, `pandas` posee una documentación muy amplia que es **SIEMPRE RECOMENDABLE** consultar.\n",
        "\n",
        "- [Documentacion Pandas](https://pandas.pydata.org/pandas-docs/stable/)"
      ]
    },
    {
      "cell_type": "markdown",
      "metadata": {
        "id": "pLZC2jafTfaE"
      },
      "source": [
        "## Clase 5: Pandas\n"
      ]
    },
    {
      "cell_type": "markdown",
      "metadata": {
        "id": "vdBZo3UdTfaF"
      },
      "source": [
        "Pandas es una gran ayuda para manejar nuestros dataset. En la clase de hoy, veremos algunos conceptos basicos de pandas y como leer datasets."
      ]
    },
    {
      "cell_type": "code",
      "execution_count": 1,
      "metadata": {
        "id": "JyrNIU11TfaG"
      },
      "outputs": [],
      "source": [
        "#importa numpy\n",
        "import numpy as np\n",
        "#importa pandas\n",
        "import pandas as pd"
      ]
    },
    {
      "cell_type": "code",
      "execution_count": 2,
      "metadata": {
        "id": "47Qu2qosPYgE"
      },
      "outputs": [],
      "source": [
        "serie = pd.Series(data = [1,2,3, 4, 6.7],\n",
        "          index=['primero', 'segundo' ,'tercero', 'cuarto', 'quinto'])"
      ]
    },
    {
      "cell_type": "code",
      "execution_count": 3,
      "metadata": {
        "id": "jB_Oyio7QCW6"
      },
      "outputs": [
        {
          "data": {
            "text/plain": [
              "pandas.core.series.Series"
            ]
          },
          "execution_count": 3,
          "metadata": {},
          "output_type": "execute_result"
        }
      ],
      "source": [
        "type(serie)"
      ]
    },
    {
      "cell_type": "code",
      "execution_count": 4,
      "metadata": {
        "id": "2-i7BRylQdxi"
      },
      "outputs": [
        {
          "data": {
            "text/plain": [
              "primero    1.0\n",
              "segundo    2.0\n",
              "tercero    3.0\n",
              "cuarto     4.0\n",
              "quinto     6.7\n",
              "dtype: float64"
            ]
          },
          "execution_count": 4,
          "metadata": {},
          "output_type": "execute_result"
        }
      ],
      "source": [
        "serie"
      ]
    },
    {
      "cell_type": "code",
      "execution_count": 5,
      "metadata": {
        "id": "wagDDwomQrXn"
      },
      "outputs": [
        {
          "ename": "AttributeError",
          "evalue": "'Series' object has no attribute 'columns'",
          "output_type": "error",
          "traceback": [
            "\u001b[1;31m---------------------------------------------------------------------------\u001b[0m",
            "\u001b[1;31mAttributeError\u001b[0m                            Traceback (most recent call last)",
            "\u001b[1;32m~\\AppData\\Local\\Temp\\ipykernel_12572\\2321078671.py\u001b[0m in \u001b[0;36m?\u001b[1;34m()\u001b[0m\n\u001b[1;32m----> 1\u001b[1;33m \u001b[0mserie\u001b[0m\u001b[1;33m.\u001b[0m\u001b[0mcolumns\u001b[0m\u001b[1;33m\u001b[0m\u001b[1;33m\u001b[0m\u001b[0m\n\u001b[0m",
            "\u001b[1;32mc:\\Users\\jvazquez1\\AppData\\Local\\Programs\\Python\\Python312\\Lib\\site-packages\\pandas\\core\\generic.py\u001b[0m in \u001b[0;36m?\u001b[1;34m(self, name)\u001b[0m\n\u001b[0;32m   6200\u001b[0m             \u001b[1;32mand\u001b[0m \u001b[0mname\u001b[0m \u001b[1;32mnot\u001b[0m \u001b[1;32min\u001b[0m \u001b[0mself\u001b[0m\u001b[1;33m.\u001b[0m\u001b[0m_accessors\u001b[0m\u001b[1;33m\u001b[0m\u001b[1;33m\u001b[0m\u001b[0m\n\u001b[0;32m   6201\u001b[0m             \u001b[1;32mand\u001b[0m \u001b[0mself\u001b[0m\u001b[1;33m.\u001b[0m\u001b[0m_info_axis\u001b[0m\u001b[1;33m.\u001b[0m\u001b[0m_can_hold_identifiers_and_holds_name\u001b[0m\u001b[1;33m(\u001b[0m\u001b[0mname\u001b[0m\u001b[1;33m)\u001b[0m\u001b[1;33m\u001b[0m\u001b[1;33m\u001b[0m\u001b[0m\n\u001b[0;32m   6202\u001b[0m         \u001b[1;33m)\u001b[0m\u001b[1;33m:\u001b[0m\u001b[1;33m\u001b[0m\u001b[1;33m\u001b[0m\u001b[0m\n\u001b[0;32m   6203\u001b[0m             \u001b[1;32mreturn\u001b[0m \u001b[0mself\u001b[0m\u001b[1;33m[\u001b[0m\u001b[0mname\u001b[0m\u001b[1;33m]\u001b[0m\u001b[1;33m\u001b[0m\u001b[1;33m\u001b[0m\u001b[0m\n\u001b[1;32m-> 6204\u001b[1;33m         \u001b[1;32mreturn\u001b[0m \u001b[0mobject\u001b[0m\u001b[1;33m.\u001b[0m\u001b[0m__getattribute__\u001b[0m\u001b[1;33m(\u001b[0m\u001b[0mself\u001b[0m\u001b[1;33m,\u001b[0m \u001b[0mname\u001b[0m\u001b[1;33m)\u001b[0m\u001b[1;33m\u001b[0m\u001b[1;33m\u001b[0m\u001b[0m\n\u001b[0m",
            "\u001b[1;31mAttributeError\u001b[0m: 'Series' object has no attribute 'columns'"
          ]
        }
      ],
      "source": [
        "serie.columns"
      ]
    },
    {
      "cell_type": "code",
      "execution_count": 6,
      "metadata": {
        "id": "goc_0t2DQJnH"
      },
      "outputs": [],
      "source": [
        "df = pd.DataFrame(data = [1,2,3, 4, 6.7],\n",
        "          index=['primero', 'segundo' ,'tercero', 'cuarto', 'quinto'])"
      ]
    },
    {
      "cell_type": "code",
      "execution_count": 7,
      "metadata": {
        "id": "Tc9a1wLNQmbz"
      },
      "outputs": [
        {
          "data": {
            "text/plain": [
              "Index(['primero', 'segundo', 'tercero', 'cuarto', 'quinto'], dtype='object')"
            ]
          },
          "execution_count": 7,
          "metadata": {},
          "output_type": "execute_result"
        }
      ],
      "source": [
        "df.index"
      ]
    },
    {
      "cell_type": "code",
      "execution_count": 8,
      "metadata": {
        "id": "DnbHIhYSQocK"
      },
      "outputs": [
        {
          "data": {
            "text/plain": [
              "RangeIndex(start=0, stop=1, step=1)"
            ]
          },
          "execution_count": 8,
          "metadata": {},
          "output_type": "execute_result"
        }
      ],
      "source": [
        "df.columns"
      ]
    },
    {
      "cell_type": "markdown",
      "metadata": {
        "id": "zbdeEmLVTfaJ"
      },
      "source": [
        "Pandas nos facilita con varias funciones para leer archivos. Entre ellas podemos encontrar:\n",
        "\n",
        "- `.read_csv()`: lee archivos `csv` como DataFrame\n",
        "- `.read_json()`: lee archivos `json` como DataFrame\n",
        "- `.read_excel()`: leer archivos `excel` como DataFrame\n",
        "\n",
        "Para conocer más funciones que ayuden a leer archivos, consulta [acá](https://pandas.pydata.org/pandas-docs/stable/user_guide/io.html)"
      ]
    },
    {
      "cell_type": "markdown",
      "metadata": {
        "id": "yKKzkBeRTfaJ"
      },
      "source": [
        "Nosotras vamos a usar [`.read_csv()`](https://pandas.pydata.org/pandas-docs/stable/reference/api/pandas.read_csv.html)."
      ]
    },
    {
      "cell_type": "markdown",
      "metadata": {
        "id": "m9WlZLjOTfaK"
      },
      "source": [
        "Los archivos `csv` son un tipo de documento en formato abierto sencillo para representar datos en forma de tabla, en las que las columnas se separan por comas (o punto y coma) y las filas por saltos de línea. Es uno de los formatos más utilizados en Data Science."
      ]
    },
    {
      "cell_type": "markdown",
      "metadata": {
        "id": "3QWQDMsITfaL"
      },
      "source": [
        "La sintaxis para poder leer un archivo csv es:\n",
        "    \n",
        "`df = pd.read_csv('nombredelarchivo.csv', delimiter=',')`\n",
        "\n",
        "Aunque muchas veces se omite el `delimiter` si el archivo esta separado por comas."
      ]
    },
    {
      "cell_type": "markdown",
      "metadata": {
        "id": "agdmW6i7TfaM"
      },
      "source": [
        "Vamos a trabajar con el archivo `StudentsPerformance.csv`. Es usual descargar el archivo `csv` en la misma carpeta en la que trabajas con el jupyter notebook. De esta manera, no tendras que especificar el path a tu archivo."
      ]
    },
    {
      "cell_type": "markdown",
      "metadata": {
        "id": "ncRdVaR1WODE"
      },
      "source": [
        "1) Lee el archivo csv `StudentsPerformace` usando `pandas`. Guardalo en una variable llamada `students`."
      ]
    },
    {
      "cell_type": "code",
      "execution_count": 9,
      "metadata": {
        "id": "2Uf4llCSWODQ"
      },
      "outputs": [],
      "source": [
        "df = pd.read_csv('StudentsPerformance.csv', delimiter=',')"
      ]
    },
    {
      "cell_type": "code",
      "execution_count": 10,
      "metadata": {
        "id": "aKeuEXj0TWj7"
      },
      "outputs": [
        {
          "data": {
            "text/html": [
              "<div>\n",
              "<style scoped>\n",
              "    .dataframe tbody tr th:only-of-type {\n",
              "        vertical-align: middle;\n",
              "    }\n",
              "\n",
              "    .dataframe tbody tr th {\n",
              "        vertical-align: top;\n",
              "    }\n",
              "\n",
              "    .dataframe thead th {\n",
              "        text-align: right;\n",
              "    }\n",
              "</style>\n",
              "<table border=\"1\" class=\"dataframe\">\n",
              "  <thead>\n",
              "    <tr style=\"text-align: right;\">\n",
              "      <th></th>\n",
              "      <th>Unnamed: 0</th>\n",
              "      <th>gender</th>\n",
              "      <th>race/ethnicity</th>\n",
              "      <th>parental level of education</th>\n",
              "      <th>lunch</th>\n",
              "      <th>test preparation course</th>\n",
              "      <th>math score</th>\n",
              "      <th>reading score</th>\n",
              "      <th>writing score</th>\n",
              "    </tr>\n",
              "  </thead>\n",
              "  <tbody>\n",
              "    <tr>\n",
              "      <th>0</th>\n",
              "      <td>0</td>\n",
              "      <td>female</td>\n",
              "      <td>group B</td>\n",
              "      <td>bachelor's degree</td>\n",
              "      <td>standard</td>\n",
              "      <td>none</td>\n",
              "      <td>7.2</td>\n",
              "      <td>72</td>\n",
              "      <td>74</td>\n",
              "    </tr>\n",
              "    <tr>\n",
              "      <th>1</th>\n",
              "      <td>1</td>\n",
              "      <td>female</td>\n",
              "      <td>group C</td>\n",
              "      <td>some college</td>\n",
              "      <td>standard</td>\n",
              "      <td>completed</td>\n",
              "      <td>6.9</td>\n",
              "      <td>90</td>\n",
              "      <td>88</td>\n",
              "    </tr>\n",
              "    <tr>\n",
              "      <th>2</th>\n",
              "      <td>2</td>\n",
              "      <td>female</td>\n",
              "      <td>group B</td>\n",
              "      <td>master's degree</td>\n",
              "      <td>standard</td>\n",
              "      <td>none</td>\n",
              "      <td>9.0</td>\n",
              "      <td>95</td>\n",
              "      <td>93</td>\n",
              "    </tr>\n",
              "    <tr>\n",
              "      <th>3</th>\n",
              "      <td>3</td>\n",
              "      <td>male</td>\n",
              "      <td>group A</td>\n",
              "      <td>associate's degree</td>\n",
              "      <td>free/reduced</td>\n",
              "      <td>none</td>\n",
              "      <td>4.7</td>\n",
              "      <td>57</td>\n",
              "      <td>44</td>\n",
              "    </tr>\n",
              "    <tr>\n",
              "      <th>4</th>\n",
              "      <td>4</td>\n",
              "      <td>male</td>\n",
              "      <td>group C</td>\n",
              "      <td>some college</td>\n",
              "      <td>standard</td>\n",
              "      <td>none</td>\n",
              "      <td>7.6</td>\n",
              "      <td>78</td>\n",
              "      <td>75</td>\n",
              "    </tr>\n",
              "    <tr>\n",
              "      <th>...</th>\n",
              "      <td>...</td>\n",
              "      <td>...</td>\n",
              "      <td>...</td>\n",
              "      <td>...</td>\n",
              "      <td>...</td>\n",
              "      <td>...</td>\n",
              "      <td>...</td>\n",
              "      <td>...</td>\n",
              "      <td>...</td>\n",
              "    </tr>\n",
              "    <tr>\n",
              "      <th>995</th>\n",
              "      <td>995</td>\n",
              "      <td>female</td>\n",
              "      <td>group E</td>\n",
              "      <td>master's degree</td>\n",
              "      <td>standard</td>\n",
              "      <td>completed</td>\n",
              "      <td>8.8</td>\n",
              "      <td>99</td>\n",
              "      <td>95</td>\n",
              "    </tr>\n",
              "    <tr>\n",
              "      <th>996</th>\n",
              "      <td>996</td>\n",
              "      <td>male</td>\n",
              "      <td>group C</td>\n",
              "      <td>high school</td>\n",
              "      <td>free/reduced</td>\n",
              "      <td>none</td>\n",
              "      <td>6.2</td>\n",
              "      <td>55</td>\n",
              "      <td>55</td>\n",
              "    </tr>\n",
              "    <tr>\n",
              "      <th>997</th>\n",
              "      <td>997</td>\n",
              "      <td>female</td>\n",
              "      <td>group C</td>\n",
              "      <td>high school</td>\n",
              "      <td>free/reduced</td>\n",
              "      <td>completed</td>\n",
              "      <td>5.9</td>\n",
              "      <td>71</td>\n",
              "      <td>65</td>\n",
              "    </tr>\n",
              "    <tr>\n",
              "      <th>998</th>\n",
              "      <td>998</td>\n",
              "      <td>female</td>\n",
              "      <td>group D</td>\n",
              "      <td>some college</td>\n",
              "      <td>standard</td>\n",
              "      <td>completed</td>\n",
              "      <td>6.8</td>\n",
              "      <td>78</td>\n",
              "      <td>77</td>\n",
              "    </tr>\n",
              "    <tr>\n",
              "      <th>999</th>\n",
              "      <td>999</td>\n",
              "      <td>female</td>\n",
              "      <td>group D</td>\n",
              "      <td>some college</td>\n",
              "      <td>free/reduced</td>\n",
              "      <td>none</td>\n",
              "      <td>7.7</td>\n",
              "      <td>86</td>\n",
              "      <td>86</td>\n",
              "    </tr>\n",
              "  </tbody>\n",
              "</table>\n",
              "<p>1000 rows × 9 columns</p>\n",
              "</div>"
            ],
            "text/plain": [
              "     Unnamed: 0  gender race/ethnicity parental level of education  \\\n",
              "0             0  female        group B           bachelor's degree   \n",
              "1             1  female        group C                some college   \n",
              "2             2  female        group B             master's degree   \n",
              "3             3    male        group A          associate's degree   \n",
              "4             4    male        group C                some college   \n",
              "..          ...     ...            ...                         ...   \n",
              "995         995  female        group E             master's degree   \n",
              "996         996    male        group C                 high school   \n",
              "997         997  female        group C                 high school   \n",
              "998         998  female        group D                some college   \n",
              "999         999  female        group D                some college   \n",
              "\n",
              "            lunch test preparation course  math score  reading score  \\\n",
              "0        standard                    none         7.2             72   \n",
              "1        standard               completed         6.9             90   \n",
              "2        standard                    none         9.0             95   \n",
              "3    free/reduced                    none         4.7             57   \n",
              "4        standard                    none         7.6             78   \n",
              "..            ...                     ...         ...            ...   \n",
              "995      standard               completed         8.8             99   \n",
              "996  free/reduced                    none         6.2             55   \n",
              "997  free/reduced               completed         5.9             71   \n",
              "998      standard               completed         6.8             78   \n",
              "999  free/reduced                    none         7.7             86   \n",
              "\n",
              "     writing score  \n",
              "0               74  \n",
              "1               88  \n",
              "2               93  \n",
              "3               44  \n",
              "4               75  \n",
              "..             ...  \n",
              "995             95  \n",
              "996             55  \n",
              "997             65  \n",
              "998             77  \n",
              "999             86  \n",
              "\n",
              "[1000 rows x 9 columns]"
            ]
          },
          "execution_count": 10,
          "metadata": {},
          "output_type": "execute_result"
        }
      ],
      "source": [
        "df  #es como se llama el dataframe"
      ]
    },
    {
      "cell_type": "markdown",
      "metadata": {
        "id": "u2FnZSO3RU_4"
      },
      "source": []
    },
    {
      "cell_type": "code",
      "execution_count": 11,
      "metadata": {
        "id": "GcVPSK2PT6ZE"
      },
      "outputs": [
        {
          "data": {
            "text/plain": [
              "RangeIndex(start=0, stop=1000, step=1)"
            ]
          },
          "execution_count": 11,
          "metadata": {},
          "output_type": "execute_result"
        }
      ],
      "source": [
        "df.index     #start=0: Este es el primer valor del índice. En este caso, comienza en 0.\n",
        "            #stop=1000: Este es el valor en el que el índice se detiene. En este caso, termina en 1000\n",
        "            #step=1: Esto representa el incremento entre los valores sucesivos del índice"
      ]
    },
    {
      "cell_type": "code",
      "execution_count": 12,
      "metadata": {
        "id": "Gacm73eTT-e7"
      },
      "outputs": [
        {
          "data": {
            "text/plain": [
              "Index(['Unnamed: 0', 'gender', 'race/ethnicity', 'parental level of education',\n",
              "       'lunch', 'test preparation course', 'math score', 'reading score',\n",
              "       'writing score'],\n",
              "      dtype='object')"
            ]
          },
          "execution_count": 12,
          "metadata": {},
          "output_type": "execute_result"
        }
      ],
      "source": [
        "df.columns  #acceder a las etiquetas de las columnas en el DataFrame"
      ]
    },
    {
      "cell_type": "markdown",
      "metadata": {
        "id": "uTDrRwlEWODy"
      },
      "source": [
        "2) ¿Que tipo de estructura de datos contiene la variable `students`? _Hint_: Usa `type`"
      ]
    },
    {
      "cell_type": "code",
      "execution_count": 13,
      "metadata": {
        "id": "0XUsOzMPTfaR"
      },
      "outputs": [
        {
          "data": {
            "text/plain": [
              "pandas.core.frame.DataFrame"
            ]
          },
          "execution_count": 13,
          "metadata": {},
          "output_type": "execute_result"
        }
      ],
      "source": [
        "type(df)   #Confirma que df es un DataFrame de pandas y te permite estar seguro de que puedes utilizar las funcionalidades y métodos específicos de los DataFrames de pandas para trabajar con tus datos."
      ]
    },
    {
      "cell_type": "markdown",
      "metadata": {
        "id": "JuawcdVMWOEU"
      },
      "source": [
        "3) ¿Cuantas filas y columnas tiene `students`? Para contestar esta pregunta, pandas tiene la funcion `.shape()`. Su sintaxis es la siguiente: `df.shape()` (`df` debe ser reemplazado por el nombre de tu `DataFrame`).\n",
        "\n",
        "\n",
        "De ahora en más cuando nos refiramos a un tipo de sintaxis donde debe colocarse `nombre_del_data_frame.funcion()`, la mencionaremos como `.funcion()`.\n",
        "\n",
        "¿Que devuelve esta funcion? ¿Cual crees que corresponde a las filas y cual a las columnas?"
      ]
    },
    {
      "cell_type": "markdown",
      "metadata": {
        "id": "waVVuOssWOFA"
      },
      "source": [
        "**Numero de filas**: ____"
      ]
    },
    {
      "cell_type": "markdown",
      "metadata": {
        "id": "qVYm5LDfWOFI"
      },
      "source": [
        "**Numero de columnas**: ____"
      ]
    },
    {
      "cell_type": "code",
      "execution_count": 14,
      "metadata": {
        "id": "eK0rO5JWUPK2"
      },
      "outputs": [
        {
          "data": {
            "text/plain": [
              "(1000, 9)"
            ]
          },
          "execution_count": 14,
          "metadata": {},
          "output_type": "execute_result"
        }
      ],
      "source": [
        "df.shape"
      ]
    },
    {
      "cell_type": "markdown",
      "metadata": {
        "id": "LdgGlZqcWOFP"
      },
      "source": [
        "3) ¿Cual es el nombre de las columnas contenidas en `students`? Para esto, pandas tiene el atributo `.columns`."
      ]
    },
    {
      "cell_type": "code",
      "execution_count": 15,
      "metadata": {
        "id": "6vicn7bfWOFV"
      },
      "outputs": [
        {
          "data": {
            "text/plain": [
              "Index(['Unnamed: 0', 'gender', 'race/ethnicity', 'parental level of education',\n",
              "       'lunch', 'test preparation course', 'math score', 'reading score',\n",
              "       'writing score'],\n",
              "      dtype='object')"
            ]
          },
          "execution_count": 15,
          "metadata": {},
          "output_type": "execute_result"
        }
      ],
      "source": [
        "df.columns"
      ]
    },
    {
      "cell_type": "markdown",
      "metadata": {
        "id": "P9_tRhONWOFp"
      },
      "source": [
        "4) Inspecciona las primeras 10 filas de `students` usando la función `.head()`. Dentro de esta función podemos colocar un numero. Este numero nos dira cuantas filas queremos observar."
      ]
    },
    {
      "cell_type": "code",
      "execution_count": 16,
      "metadata": {
        "id": "94vQaXI6WOF3"
      },
      "outputs": [
        {
          "data": {
            "text/html": [
              "<div>\n",
              "<style scoped>\n",
              "    .dataframe tbody tr th:only-of-type {\n",
              "        vertical-align: middle;\n",
              "    }\n",
              "\n",
              "    .dataframe tbody tr th {\n",
              "        vertical-align: top;\n",
              "    }\n",
              "\n",
              "    .dataframe thead th {\n",
              "        text-align: right;\n",
              "    }\n",
              "</style>\n",
              "<table border=\"1\" class=\"dataframe\">\n",
              "  <thead>\n",
              "    <tr style=\"text-align: right;\">\n",
              "      <th></th>\n",
              "      <th>Unnamed: 0</th>\n",
              "      <th>gender</th>\n",
              "      <th>race/ethnicity</th>\n",
              "      <th>parental level of education</th>\n",
              "      <th>lunch</th>\n",
              "      <th>test preparation course</th>\n",
              "      <th>math score</th>\n",
              "      <th>reading score</th>\n",
              "      <th>writing score</th>\n",
              "    </tr>\n",
              "  </thead>\n",
              "  <tbody>\n",
              "    <tr>\n",
              "      <th>0</th>\n",
              "      <td>0</td>\n",
              "      <td>female</td>\n",
              "      <td>group B</td>\n",
              "      <td>bachelor's degree</td>\n",
              "      <td>standard</td>\n",
              "      <td>none</td>\n",
              "      <td>7.2</td>\n",
              "      <td>72</td>\n",
              "      <td>74</td>\n",
              "    </tr>\n",
              "    <tr>\n",
              "      <th>1</th>\n",
              "      <td>1</td>\n",
              "      <td>female</td>\n",
              "      <td>group C</td>\n",
              "      <td>some college</td>\n",
              "      <td>standard</td>\n",
              "      <td>completed</td>\n",
              "      <td>6.9</td>\n",
              "      <td>90</td>\n",
              "      <td>88</td>\n",
              "    </tr>\n",
              "    <tr>\n",
              "      <th>2</th>\n",
              "      <td>2</td>\n",
              "      <td>female</td>\n",
              "      <td>group B</td>\n",
              "      <td>master's degree</td>\n",
              "      <td>standard</td>\n",
              "      <td>none</td>\n",
              "      <td>9.0</td>\n",
              "      <td>95</td>\n",
              "      <td>93</td>\n",
              "    </tr>\n",
              "    <tr>\n",
              "      <th>3</th>\n",
              "      <td>3</td>\n",
              "      <td>male</td>\n",
              "      <td>group A</td>\n",
              "      <td>associate's degree</td>\n",
              "      <td>free/reduced</td>\n",
              "      <td>none</td>\n",
              "      <td>4.7</td>\n",
              "      <td>57</td>\n",
              "      <td>44</td>\n",
              "    </tr>\n",
              "    <tr>\n",
              "      <th>4</th>\n",
              "      <td>4</td>\n",
              "      <td>male</td>\n",
              "      <td>group C</td>\n",
              "      <td>some college</td>\n",
              "      <td>standard</td>\n",
              "      <td>none</td>\n",
              "      <td>7.6</td>\n",
              "      <td>78</td>\n",
              "      <td>75</td>\n",
              "    </tr>\n",
              "  </tbody>\n",
              "</table>\n",
              "</div>"
            ],
            "text/plain": [
              "   Unnamed: 0  gender race/ethnicity parental level of education  \\\n",
              "0           0  female        group B           bachelor's degree   \n",
              "1           1  female        group C                some college   \n",
              "2           2  female        group B             master's degree   \n",
              "3           3    male        group A          associate's degree   \n",
              "4           4    male        group C                some college   \n",
              "\n",
              "          lunch test preparation course  math score  reading score  \\\n",
              "0      standard                    none         7.2             72   \n",
              "1      standard               completed         6.9             90   \n",
              "2      standard                    none         9.0             95   \n",
              "3  free/reduced                    none         4.7             57   \n",
              "4      standard                    none         7.6             78   \n",
              "\n",
              "   writing score  \n",
              "0             74  \n",
              "1             88  \n",
              "2             93  \n",
              "3             44  \n",
              "4             75  "
            ]
          },
          "execution_count": 16,
          "metadata": {},
          "output_type": "execute_result"
        }
      ],
      "source": [
        "df.head()"
      ]
    },
    {
      "cell_type": "markdown",
      "metadata": {
        "id": "Whffq2J6WOGZ"
      },
      "source": [
        "5) Ahora inspecciona las 10 ultimas usando `.tail()`. También podemos indicar el número de filas que queremos observar."
      ]
    },
    {
      "cell_type": "code",
      "execution_count": 17,
      "metadata": {
        "id": "kXtExcefWOGo"
      },
      "outputs": [
        {
          "data": {
            "text/html": [
              "<div>\n",
              "<style scoped>\n",
              "    .dataframe tbody tr th:only-of-type {\n",
              "        vertical-align: middle;\n",
              "    }\n",
              "\n",
              "    .dataframe tbody tr th {\n",
              "        vertical-align: top;\n",
              "    }\n",
              "\n",
              "    .dataframe thead th {\n",
              "        text-align: right;\n",
              "    }\n",
              "</style>\n",
              "<table border=\"1\" class=\"dataframe\">\n",
              "  <thead>\n",
              "    <tr style=\"text-align: right;\">\n",
              "      <th></th>\n",
              "      <th>Unnamed: 0</th>\n",
              "      <th>gender</th>\n",
              "      <th>race/ethnicity</th>\n",
              "      <th>parental level of education</th>\n",
              "      <th>lunch</th>\n",
              "      <th>test preparation course</th>\n",
              "      <th>math score</th>\n",
              "      <th>reading score</th>\n",
              "      <th>writing score</th>\n",
              "    </tr>\n",
              "  </thead>\n",
              "  <tbody>\n",
              "    <tr>\n",
              "      <th>990</th>\n",
              "      <td>990</td>\n",
              "      <td>male</td>\n",
              "      <td>group E</td>\n",
              "      <td>high school</td>\n",
              "      <td>free/reduced</td>\n",
              "      <td>completed</td>\n",
              "      <td>8.6</td>\n",
              "      <td>81</td>\n",
              "      <td>75</td>\n",
              "    </tr>\n",
              "    <tr>\n",
              "      <th>991</th>\n",
              "      <td>991</td>\n",
              "      <td>female</td>\n",
              "      <td>group B</td>\n",
              "      <td>some high school</td>\n",
              "      <td>standard</td>\n",
              "      <td>completed</td>\n",
              "      <td>6.5</td>\n",
              "      <td>82</td>\n",
              "      <td>78</td>\n",
              "    </tr>\n",
              "    <tr>\n",
              "      <th>992</th>\n",
              "      <td>992</td>\n",
              "      <td>female</td>\n",
              "      <td>group D</td>\n",
              "      <td>associate's degree</td>\n",
              "      <td>free/reduced</td>\n",
              "      <td>none</td>\n",
              "      <td>5.5</td>\n",
              "      <td>76</td>\n",
              "      <td>76</td>\n",
              "    </tr>\n",
              "    <tr>\n",
              "      <th>993</th>\n",
              "      <td>993</td>\n",
              "      <td>female</td>\n",
              "      <td>group D</td>\n",
              "      <td>bachelor's degree</td>\n",
              "      <td>free/reduced</td>\n",
              "      <td>none</td>\n",
              "      <td>6.2</td>\n",
              "      <td>72</td>\n",
              "      <td>74</td>\n",
              "    </tr>\n",
              "    <tr>\n",
              "      <th>994</th>\n",
              "      <td>994</td>\n",
              "      <td>male</td>\n",
              "      <td>group A</td>\n",
              "      <td>high school</td>\n",
              "      <td>standard</td>\n",
              "      <td>none</td>\n",
              "      <td>6.3</td>\n",
              "      <td>63</td>\n",
              "      <td>62</td>\n",
              "    </tr>\n",
              "    <tr>\n",
              "      <th>995</th>\n",
              "      <td>995</td>\n",
              "      <td>female</td>\n",
              "      <td>group E</td>\n",
              "      <td>master's degree</td>\n",
              "      <td>standard</td>\n",
              "      <td>completed</td>\n",
              "      <td>8.8</td>\n",
              "      <td>99</td>\n",
              "      <td>95</td>\n",
              "    </tr>\n",
              "    <tr>\n",
              "      <th>996</th>\n",
              "      <td>996</td>\n",
              "      <td>male</td>\n",
              "      <td>group C</td>\n",
              "      <td>high school</td>\n",
              "      <td>free/reduced</td>\n",
              "      <td>none</td>\n",
              "      <td>6.2</td>\n",
              "      <td>55</td>\n",
              "      <td>55</td>\n",
              "    </tr>\n",
              "    <tr>\n",
              "      <th>997</th>\n",
              "      <td>997</td>\n",
              "      <td>female</td>\n",
              "      <td>group C</td>\n",
              "      <td>high school</td>\n",
              "      <td>free/reduced</td>\n",
              "      <td>completed</td>\n",
              "      <td>5.9</td>\n",
              "      <td>71</td>\n",
              "      <td>65</td>\n",
              "    </tr>\n",
              "    <tr>\n",
              "      <th>998</th>\n",
              "      <td>998</td>\n",
              "      <td>female</td>\n",
              "      <td>group D</td>\n",
              "      <td>some college</td>\n",
              "      <td>standard</td>\n",
              "      <td>completed</td>\n",
              "      <td>6.8</td>\n",
              "      <td>78</td>\n",
              "      <td>77</td>\n",
              "    </tr>\n",
              "    <tr>\n",
              "      <th>999</th>\n",
              "      <td>999</td>\n",
              "      <td>female</td>\n",
              "      <td>group D</td>\n",
              "      <td>some college</td>\n",
              "      <td>free/reduced</td>\n",
              "      <td>none</td>\n",
              "      <td>7.7</td>\n",
              "      <td>86</td>\n",
              "      <td>86</td>\n",
              "    </tr>\n",
              "  </tbody>\n",
              "</table>\n",
              "</div>"
            ],
            "text/plain": [
              "     Unnamed: 0  gender race/ethnicity parental level of education  \\\n",
              "990         990    male        group E                 high school   \n",
              "991         991  female        group B            some high school   \n",
              "992         992  female        group D          associate's degree   \n",
              "993         993  female        group D           bachelor's degree   \n",
              "994         994    male        group A                 high school   \n",
              "995         995  female        group E             master's degree   \n",
              "996         996    male        group C                 high school   \n",
              "997         997  female        group C                 high school   \n",
              "998         998  female        group D                some college   \n",
              "999         999  female        group D                some college   \n",
              "\n",
              "            lunch test preparation course  math score  reading score  \\\n",
              "990  free/reduced               completed         8.6             81   \n",
              "991      standard               completed         6.5             82   \n",
              "992  free/reduced                    none         5.5             76   \n",
              "993  free/reduced                    none         6.2             72   \n",
              "994      standard                    none         6.3             63   \n",
              "995      standard               completed         8.8             99   \n",
              "996  free/reduced                    none         6.2             55   \n",
              "997  free/reduced               completed         5.9             71   \n",
              "998      standard               completed         6.8             78   \n",
              "999  free/reduced                    none         7.7             86   \n",
              "\n",
              "     writing score  \n",
              "990             75  \n",
              "991             78  \n",
              "992             76  \n",
              "993             74  \n",
              "994             62  \n",
              "995             95  \n",
              "996             55  \n",
              "997             65  \n",
              "998             77  \n",
              "999             86  "
            ]
          },
          "execution_count": 17,
          "metadata": {},
          "output_type": "execute_result"
        }
      ],
      "source": [
        "df.tail(10)"
      ]
    },
    {
      "cell_type": "markdown",
      "metadata": {
        "id": "eWNdnJIVWOHJ"
      },
      "source": [
        "6) ¿Que tipos de datos contiene cada una de las columnas de `students`? Para esto, utiliza el atributo `.dtypes`."
      ]
    },
    {
      "cell_type": "code",
      "execution_count": 18,
      "metadata": {
        "id": "6p9rjeFSWOHb"
      },
      "outputs": [
        {
          "data": {
            "text/plain": [
              "Unnamed: 0                       int64\n",
              "gender                          object\n",
              "race/ethnicity                  object\n",
              "parental level of education     object\n",
              "lunch                           object\n",
              "test preparation course         object\n",
              "math score                     float64\n",
              "reading score                    int64\n",
              "writing score                    int64\n",
              "dtype: object"
            ]
          },
          "execution_count": 18,
          "metadata": {},
          "output_type": "execute_result"
        }
      ],
      "source": [
        "df.dtypes"
      ]
    },
    {
      "cell_type": "markdown",
      "metadata": {
        "id": "wIz2K4GITfak"
      },
      "source": [
        "7) ¿Como accedemos a una fila o a una columa de un DataFrame?"
      ]
    },
    {
      "cell_type": "markdown",
      "metadata": {
        "id": "jjmfJfOLTfal"
      },
      "source": [
        "Una de las maneras de acceder a una columna es especificando el nombre de la misma. Por ejemplo, `df['nombre_columna']`."
      ]
    },
    {
      "cell_type": "markdown",
      "metadata": {
        "id": "vTxZUtR3Tfam"
      },
      "source": [
        "- Accede a la columna `gender` de `students`."
      ]
    },
    {
      "cell_type": "code",
      "execution_count": 19,
      "metadata": {
        "id": "fkO3SDcRVDkO"
      },
      "outputs": [
        {
          "data": {
            "text/plain": [
              "0      female\n",
              "1      female\n",
              "2      female\n",
              "3        male\n",
              "4        male\n",
              "        ...  \n",
              "995    female\n",
              "996      male\n",
              "997    female\n",
              "998    female\n",
              "999    female\n",
              "Name: gender, Length: 1000, dtype: object"
            ]
          },
          "execution_count": 19,
          "metadata": {},
          "output_type": "execute_result"
        }
      ],
      "source": [
        "df['gender']"
      ]
    },
    {
      "cell_type": "code",
      "execution_count": null,
      "metadata": {
        "id": "DffQppGaTfan"
      },
      "outputs": [],
      "source": []
    },
    {
      "cell_type": "markdown",
      "metadata": {
        "id": "HK5W29AdTfap"
      },
      "source": [
        "- Accede ahora a la columna `lunch`."
      ]
    },
    {
      "cell_type": "code",
      "execution_count": 20,
      "metadata": {
        "id": "fKpNWI42VX6g"
      },
      "outputs": [
        {
          "data": {
            "text/plain": [
              "0          standard\n",
              "1          standard\n",
              "2          standard\n",
              "3      free/reduced\n",
              "4          standard\n",
              "           ...     \n",
              "995        standard\n",
              "996    free/reduced\n",
              "997    free/reduced\n",
              "998        standard\n",
              "999    free/reduced\n",
              "Name: lunch, Length: 1000, dtype: object"
            ]
          },
          "execution_count": 20,
          "metadata": {},
          "output_type": "execute_result"
        }
      ],
      "source": [
        "df['lunch']  #seleccionar una columna específica de un DataFrame"
      ]
    },
    {
      "cell_type": "code",
      "execution_count": 21,
      "metadata": {
        "id": "oEFdla7BVaZ4"
      },
      "outputs": [
        {
          "data": {
            "text/plain": [
              "0          standard\n",
              "1          standard\n",
              "2          standard\n",
              "3      free/reduced\n",
              "4          standard\n",
              "           ...     \n",
              "995        standard\n",
              "996    free/reduced\n",
              "997    free/reduced\n",
              "998        standard\n",
              "999    free/reduced\n",
              "Name: lunch, Length: 1000, dtype: object"
            ]
          },
          "execution_count": 21,
          "metadata": {},
          "output_type": "execute_result"
        }
      ],
      "source": [
        "df.lunch"
      ]
    },
    {
      "cell_type": "markdown",
      "metadata": {
        "id": "0PIZiyG4Tfaq"
      },
      "source": [
        "Otra manera de acceder es usando dos funciones `.loc[]` y `.iloc[]`."
      ]
    },
    {
      "cell_type": "markdown",
      "metadata": {
        "id": "rHiqgIlcTfar"
      },
      "source": [
        "- `iloc[1:m, 1:n]`: Se usa para seleccionar filas basadas en su posición de 1 a m filas y de 1 a n columnas."
      ]
    },
    {
      "cell_type": "code",
      "execution_count": 22,
      "metadata": {
        "id": "eESTgchrTfar"
      },
      "outputs": [
        {
          "data": {
            "text/html": [
              "<div>\n",
              "<style scoped>\n",
              "    .dataframe tbody tr th:only-of-type {\n",
              "        vertical-align: middle;\n",
              "    }\n",
              "\n",
              "    .dataframe tbody tr th {\n",
              "        vertical-align: top;\n",
              "    }\n",
              "\n",
              "    .dataframe thead th {\n",
              "        text-align: right;\n",
              "    }\n",
              "</style>\n",
              "<table border=\"1\" class=\"dataframe\">\n",
              "  <thead>\n",
              "    <tr style=\"text-align: right;\">\n",
              "      <th></th>\n",
              "      <th>Unnamed: 0</th>\n",
              "      <th>gender</th>\n",
              "      <th>race/ethnicity</th>\n",
              "    </tr>\n",
              "  </thead>\n",
              "  <tbody>\n",
              "    <tr>\n",
              "      <th>0</th>\n",
              "      <td>0</td>\n",
              "      <td>female</td>\n",
              "      <td>group B</td>\n",
              "    </tr>\n",
              "    <tr>\n",
              "      <th>1</th>\n",
              "      <td>1</td>\n",
              "      <td>female</td>\n",
              "      <td>group C</td>\n",
              "    </tr>\n",
              "  </tbody>\n",
              "</table>\n",
              "</div>"
            ],
            "text/plain": [
              "   Unnamed: 0  gender race/ethnicity\n",
              "0           0  female        group B\n",
              "1           1  female        group C"
            ]
          },
          "execution_count": 22,
          "metadata": {},
          "output_type": "execute_result"
        }
      ],
      "source": [
        "#seleccionar las dos primeras filas\n",
        "df.iloc[:2, :3]"
      ]
    },
    {
      "cell_type": "code",
      "execution_count": 23,
      "metadata": {
        "id": "zE7-1Y7yTfau"
      },
      "outputs": [
        {
          "data": {
            "text/html": [
              "<div>\n",
              "<style scoped>\n",
              "    .dataframe tbody tr th:only-of-type {\n",
              "        vertical-align: middle;\n",
              "    }\n",
              "\n",
              "    .dataframe tbody tr th {\n",
              "        vertical-align: top;\n",
              "    }\n",
              "\n",
              "    .dataframe thead th {\n",
              "        text-align: right;\n",
              "    }\n",
              "</style>\n",
              "<table border=\"1\" class=\"dataframe\">\n",
              "  <thead>\n",
              "    <tr style=\"text-align: right;\">\n",
              "      <th></th>\n",
              "      <th>Unnamed: 0</th>\n",
              "      <th>gender</th>\n",
              "      <th>race/ethnicity</th>\n",
              "      <th>parental level of education</th>\n",
              "      <th>lunch</th>\n",
              "      <th>test preparation course</th>\n",
              "      <th>math score</th>\n",
              "      <th>reading score</th>\n",
              "      <th>writing score</th>\n",
              "    </tr>\n",
              "  </thead>\n",
              "  <tbody>\n",
              "    <tr>\n",
              "      <th>0</th>\n",
              "      <td>0</td>\n",
              "      <td>female</td>\n",
              "      <td>group B</td>\n",
              "      <td>bachelor's degree</td>\n",
              "      <td>standard</td>\n",
              "      <td>none</td>\n",
              "      <td>7.2</td>\n",
              "      <td>72</td>\n",
              "      <td>74</td>\n",
              "    </tr>\n",
              "    <tr>\n",
              "      <th>1</th>\n",
              "      <td>1</td>\n",
              "      <td>female</td>\n",
              "      <td>group C</td>\n",
              "      <td>some college</td>\n",
              "      <td>standard</td>\n",
              "      <td>completed</td>\n",
              "      <td>6.9</td>\n",
              "      <td>90</td>\n",
              "      <td>88</td>\n",
              "    </tr>\n",
              "  </tbody>\n",
              "</table>\n",
              "</div>"
            ],
            "text/plain": [
              "   Unnamed: 0  gender race/ethnicity parental level of education     lunch  \\\n",
              "0           0  female        group B           bachelor's degree  standard   \n",
              "1           1  female        group C                some college  standard   \n",
              "\n",
              "  test preparation course  math score  reading score  writing score  \n",
              "0                    none         7.2             72             74  \n",
              "1               completed         6.9             90             88  "
            ]
          },
          "execution_count": 23,
          "metadata": {},
          "output_type": "execute_result"
        }
      ],
      "source": [
        "#o tambien se usa\n",
        "df.iloc[:2,]"
      ]
    },
    {
      "cell_type": "code",
      "execution_count": 24,
      "metadata": {
        "id": "a9moFV5gTfaz"
      },
      "outputs": [
        {
          "data": {
            "text/html": [
              "<div>\n",
              "<style scoped>\n",
              "    .dataframe tbody tr th:only-of-type {\n",
              "        vertical-align: middle;\n",
              "    }\n",
              "\n",
              "    .dataframe tbody tr th {\n",
              "        vertical-align: top;\n",
              "    }\n",
              "\n",
              "    .dataframe thead th {\n",
              "        text-align: right;\n",
              "    }\n",
              "</style>\n",
              "<table border=\"1\" class=\"dataframe\">\n",
              "  <thead>\n",
              "    <tr style=\"text-align: right;\">\n",
              "      <th></th>\n",
              "      <th>Unnamed: 0</th>\n",
              "      <th>gender</th>\n",
              "      <th>race/ethnicity</th>\n",
              "      <th>parental level of education</th>\n",
              "      <th>lunch</th>\n",
              "      <th>test preparation course</th>\n",
              "      <th>math score</th>\n",
              "      <th>reading score</th>\n",
              "      <th>writing score</th>\n",
              "    </tr>\n",
              "  </thead>\n",
              "  <tbody>\n",
              "    <tr>\n",
              "      <th>10</th>\n",
              "      <td>10</td>\n",
              "      <td>male</td>\n",
              "      <td>group C</td>\n",
              "      <td>associate's degree</td>\n",
              "      <td>standard</td>\n",
              "      <td>none</td>\n",
              "      <td>5.8</td>\n",
              "      <td>54</td>\n",
              "      <td>52</td>\n",
              "    </tr>\n",
              "    <tr>\n",
              "      <th>11</th>\n",
              "      <td>11</td>\n",
              "      <td>male</td>\n",
              "      <td>group D</td>\n",
              "      <td>associate's degree</td>\n",
              "      <td>standard</td>\n",
              "      <td>none</td>\n",
              "      <td>4.0</td>\n",
              "      <td>52</td>\n",
              "      <td>43</td>\n",
              "    </tr>\n",
              "    <tr>\n",
              "      <th>12</th>\n",
              "      <td>12</td>\n",
              "      <td>female</td>\n",
              "      <td>group B</td>\n",
              "      <td>high school</td>\n",
              "      <td>standard</td>\n",
              "      <td>none</td>\n",
              "      <td>6.5</td>\n",
              "      <td>81</td>\n",
              "      <td>73</td>\n",
              "    </tr>\n",
              "    <tr>\n",
              "      <th>13</th>\n",
              "      <td>13</td>\n",
              "      <td>male</td>\n",
              "      <td>group A</td>\n",
              "      <td>some college</td>\n",
              "      <td>standard</td>\n",
              "      <td>completed</td>\n",
              "      <td>7.8</td>\n",
              "      <td>72</td>\n",
              "      <td>70</td>\n",
              "    </tr>\n",
              "    <tr>\n",
              "      <th>14</th>\n",
              "      <td>14</td>\n",
              "      <td>female</td>\n",
              "      <td>group A</td>\n",
              "      <td>master's degree</td>\n",
              "      <td>standard</td>\n",
              "      <td>none</td>\n",
              "      <td>5.0</td>\n",
              "      <td>53</td>\n",
              "      <td>58</td>\n",
              "    </tr>\n",
              "    <tr>\n",
              "      <th>15</th>\n",
              "      <td>15</td>\n",
              "      <td>female</td>\n",
              "      <td>group C</td>\n",
              "      <td>some high school</td>\n",
              "      <td>standard</td>\n",
              "      <td>none</td>\n",
              "      <td>6.9</td>\n",
              "      <td>75</td>\n",
              "      <td>78</td>\n",
              "    </tr>\n",
              "    <tr>\n",
              "      <th>16</th>\n",
              "      <td>16</td>\n",
              "      <td>male</td>\n",
              "      <td>group C</td>\n",
              "      <td>high school</td>\n",
              "      <td>standard</td>\n",
              "      <td>none</td>\n",
              "      <td>8.8</td>\n",
              "      <td>89</td>\n",
              "      <td>86</td>\n",
              "    </tr>\n",
              "    <tr>\n",
              "      <th>17</th>\n",
              "      <td>17</td>\n",
              "      <td>female</td>\n",
              "      <td>group B</td>\n",
              "      <td>some high school</td>\n",
              "      <td>free/reduced</td>\n",
              "      <td>none</td>\n",
              "      <td>1.8</td>\n",
              "      <td>32</td>\n",
              "      <td>28</td>\n",
              "    </tr>\n",
              "    <tr>\n",
              "      <th>18</th>\n",
              "      <td>18</td>\n",
              "      <td>male</td>\n",
              "      <td>group C</td>\n",
              "      <td>master's degree</td>\n",
              "      <td>free/reduced</td>\n",
              "      <td>completed</td>\n",
              "      <td>4.6</td>\n",
              "      <td>42</td>\n",
              "      <td>46</td>\n",
              "    </tr>\n",
              "    <tr>\n",
              "      <th>19</th>\n",
              "      <td>19</td>\n",
              "      <td>female</td>\n",
              "      <td>group C</td>\n",
              "      <td>associate's degree</td>\n",
              "      <td>free/reduced</td>\n",
              "      <td>none</td>\n",
              "      <td>5.4</td>\n",
              "      <td>58</td>\n",
              "      <td>61</td>\n",
              "    </tr>\n",
              "    <tr>\n",
              "      <th>20</th>\n",
              "      <td>20</td>\n",
              "      <td>male</td>\n",
              "      <td>group D</td>\n",
              "      <td>high school</td>\n",
              "      <td>standard</td>\n",
              "      <td>none</td>\n",
              "      <td>6.6</td>\n",
              "      <td>69</td>\n",
              "      <td>63</td>\n",
              "    </tr>\n",
              "  </tbody>\n",
              "</table>\n",
              "</div>"
            ],
            "text/plain": [
              "    Unnamed: 0  gender race/ethnicity parental level of education  \\\n",
              "10          10    male        group C          associate's degree   \n",
              "11          11    male        group D          associate's degree   \n",
              "12          12  female        group B                 high school   \n",
              "13          13    male        group A                some college   \n",
              "14          14  female        group A             master's degree   \n",
              "15          15  female        group C            some high school   \n",
              "16          16    male        group C                 high school   \n",
              "17          17  female        group B            some high school   \n",
              "18          18    male        group C             master's degree   \n",
              "19          19  female        group C          associate's degree   \n",
              "20          20    male        group D                 high school   \n",
              "\n",
              "           lunch test preparation course  math score  reading score  \\\n",
              "10      standard                    none         5.8             54   \n",
              "11      standard                    none         4.0             52   \n",
              "12      standard                    none         6.5             81   \n",
              "13      standard               completed         7.8             72   \n",
              "14      standard                    none         5.0             53   \n",
              "15      standard                    none         6.9             75   \n",
              "16      standard                    none         8.8             89   \n",
              "17  free/reduced                    none         1.8             32   \n",
              "18  free/reduced               completed         4.6             42   \n",
              "19  free/reduced                    none         5.4             58   \n",
              "20      standard                    none         6.6             69   \n",
              "\n",
              "    writing score  \n",
              "10             52  \n",
              "11             43  \n",
              "12             73  \n",
              "13             70  \n",
              "14             58  \n",
              "15             78  \n",
              "16             86  \n",
              "17             28  \n",
              "18             46  \n",
              "19             61  \n",
              "20             63  "
            ]
          },
          "execution_count": 24,
          "metadata": {},
          "output_type": "execute_result"
        }
      ],
      "source": [
        "#Selecciona los datos entre la decima y vigesima fila.\n",
        "df.iloc[10:21]"
      ]
    },
    {
      "cell_type": "code",
      "execution_count": 25,
      "metadata": {
        "id": "2msorndeTfa3"
      },
      "outputs": [
        {
          "data": {
            "text/html": [
              "<div>\n",
              "<style scoped>\n",
              "    .dataframe tbody tr th:only-of-type {\n",
              "        vertical-align: middle;\n",
              "    }\n",
              "\n",
              "    .dataframe tbody tr th {\n",
              "        vertical-align: top;\n",
              "    }\n",
              "\n",
              "    .dataframe thead th {\n",
              "        text-align: right;\n",
              "    }\n",
              "</style>\n",
              "<table border=\"1\" class=\"dataframe\">\n",
              "  <thead>\n",
              "    <tr style=\"text-align: right;\">\n",
              "      <th></th>\n",
              "      <th>Unnamed: 0</th>\n",
              "      <th>gender</th>\n",
              "    </tr>\n",
              "  </thead>\n",
              "  <tbody>\n",
              "    <tr>\n",
              "      <th>0</th>\n",
              "      <td>0</td>\n",
              "      <td>female</td>\n",
              "    </tr>\n",
              "    <tr>\n",
              "      <th>1</th>\n",
              "      <td>1</td>\n",
              "      <td>female</td>\n",
              "    </tr>\n",
              "    <tr>\n",
              "      <th>2</th>\n",
              "      <td>2</td>\n",
              "      <td>female</td>\n",
              "    </tr>\n",
              "    <tr>\n",
              "      <th>3</th>\n",
              "      <td>3</td>\n",
              "      <td>male</td>\n",
              "    </tr>\n",
              "    <tr>\n",
              "      <th>4</th>\n",
              "      <td>4</td>\n",
              "      <td>male</td>\n",
              "    </tr>\n",
              "    <tr>\n",
              "      <th>...</th>\n",
              "      <td>...</td>\n",
              "      <td>...</td>\n",
              "    </tr>\n",
              "    <tr>\n",
              "      <th>995</th>\n",
              "      <td>995</td>\n",
              "      <td>female</td>\n",
              "    </tr>\n",
              "    <tr>\n",
              "      <th>996</th>\n",
              "      <td>996</td>\n",
              "      <td>male</td>\n",
              "    </tr>\n",
              "    <tr>\n",
              "      <th>997</th>\n",
              "      <td>997</td>\n",
              "      <td>female</td>\n",
              "    </tr>\n",
              "    <tr>\n",
              "      <th>998</th>\n",
              "      <td>998</td>\n",
              "      <td>female</td>\n",
              "    </tr>\n",
              "    <tr>\n",
              "      <th>999</th>\n",
              "      <td>999</td>\n",
              "      <td>female</td>\n",
              "    </tr>\n",
              "  </tbody>\n",
              "</table>\n",
              "<p>1000 rows × 2 columns</p>\n",
              "</div>"
            ],
            "text/plain": [
              "     Unnamed: 0  gender\n",
              "0             0  female\n",
              "1             1  female\n",
              "2             2  female\n",
              "3             3    male\n",
              "4             4    male\n",
              "..          ...     ...\n",
              "995         995  female\n",
              "996         996    male\n",
              "997         997  female\n",
              "998         998  female\n",
              "999         999  female\n",
              "\n",
              "[1000 rows x 2 columns]"
            ]
          },
          "execution_count": 25,
          "metadata": {},
          "output_type": "execute_result"
        }
      ],
      "source": [
        "#Selecciona las dos primeras columnas\n",
        "df.iloc[:, :2]"
      ]
    },
    {
      "cell_type": "markdown",
      "metadata": {
        "id": "fa27RRN0Tfa6"
      },
      "source": [
        "- `.loc[[nombre_fila], [nombre_columna]]`. Se usa para seleccionar filas o columnas basadas en su nombre"
      ]
    },
    {
      "cell_type": "code",
      "execution_count": 26,
      "metadata": {
        "id": "jTBM3EWhTfa7"
      },
      "outputs": [
        {
          "data": {
            "text/plain": [
              "Unnamed: 0                                1\n",
              "gender                               female\n",
              "race/ethnicity                      group C\n",
              "parental level of education    some college\n",
              "lunch                              standard\n",
              "test preparation course           completed\n",
              "math score                              6.9\n",
              "reading score                            90\n",
              "writing score                            88\n",
              "Name: 1, dtype: object"
            ]
          },
          "execution_count": 26,
          "metadata": {},
          "output_type": "execute_result"
        }
      ],
      "source": [
        "#Selecciona la fila por nombre 1, o sea con indice igual a 1\n",
        "df.loc[1]"
      ]
    },
    {
      "cell_type": "code",
      "execution_count": 27,
      "metadata": {
        "id": "ojnqyvzyTfbA"
      },
      "outputs": [
        {
          "data": {
            "text/html": [
              "<div>\n",
              "<style scoped>\n",
              "    .dataframe tbody tr th:only-of-type {\n",
              "        vertical-align: middle;\n",
              "    }\n",
              "\n",
              "    .dataframe tbody tr th {\n",
              "        vertical-align: top;\n",
              "    }\n",
              "\n",
              "    .dataframe thead th {\n",
              "        text-align: right;\n",
              "    }\n",
              "</style>\n",
              "<table border=\"1\" class=\"dataframe\">\n",
              "  <thead>\n",
              "    <tr style=\"text-align: right;\">\n",
              "      <th></th>\n",
              "      <th>gender</th>\n",
              "      <th>lunch</th>\n",
              "    </tr>\n",
              "  </thead>\n",
              "  <tbody>\n",
              "    <tr>\n",
              "      <th>1</th>\n",
              "      <td>female</td>\n",
              "      <td>standard</td>\n",
              "    </tr>\n",
              "    <tr>\n",
              "      <th>20</th>\n",
              "      <td>male</td>\n",
              "      <td>standard</td>\n",
              "    </tr>\n",
              "    <tr>\n",
              "      <th>3</th>\n",
              "      <td>male</td>\n",
              "      <td>free/reduced</td>\n",
              "    </tr>\n",
              "    <tr>\n",
              "      <th>4</th>\n",
              "      <td>male</td>\n",
              "      <td>standard</td>\n",
              "    </tr>\n",
              "    <tr>\n",
              "      <th>5</th>\n",
              "      <td>female</td>\n",
              "      <td>standard</td>\n",
              "    </tr>\n",
              "  </tbody>\n",
              "</table>\n",
              "</div>"
            ],
            "text/plain": [
              "    gender         lunch\n",
              "1   female      standard\n",
              "20    male      standard\n",
              "3     male  free/reduced\n",
              "4     male      standard\n",
              "5   female      standard"
            ]
          },
          "execution_count": 27,
          "metadata": {},
          "output_type": "execute_result"
        }
      ],
      "source": [
        "#Corre el codigo y observa que devuelve\n",
        "df.loc[[1,20,3,4,5],['gender','lunch']]   #filas 1, 20, 3, 4 y 5, y las columnas 'gender' y 'lunch'"
      ]
    },
    {
      "cell_type": "code",
      "execution_count": 28,
      "metadata": {
        "id": "y0W96pLrTfbD"
      },
      "outputs": [
        {
          "data": {
            "text/html": [
              "<div>\n",
              "<style scoped>\n",
              "    .dataframe tbody tr th:only-of-type {\n",
              "        vertical-align: middle;\n",
              "    }\n",
              "\n",
              "    .dataframe tbody tr th {\n",
              "        vertical-align: top;\n",
              "    }\n",
              "\n",
              "    .dataframe thead th {\n",
              "        text-align: right;\n",
              "    }\n",
              "</style>\n",
              "<table border=\"1\" class=\"dataframe\">\n",
              "  <thead>\n",
              "    <tr style=\"text-align: right;\">\n",
              "      <th></th>\n",
              "      <th>reading score</th>\n",
              "      <th>writing score</th>\n",
              "    </tr>\n",
              "  </thead>\n",
              "  <tbody>\n",
              "    <tr>\n",
              "      <th>3</th>\n",
              "      <td>57</td>\n",
              "      <td>44</td>\n",
              "    </tr>\n",
              "    <tr>\n",
              "      <th>10</th>\n",
              "      <td>54</td>\n",
              "      <td>52</td>\n",
              "    </tr>\n",
              "    <tr>\n",
              "      <th>30</th>\n",
              "      <td>74</td>\n",
              "      <td>74</td>\n",
              "    </tr>\n",
              "    <tr>\n",
              "      <th>43</th>\n",
              "      <td>65</td>\n",
              "      <td>66</td>\n",
              "    </tr>\n",
              "    <tr>\n",
              "      <th>43</th>\n",
              "      <td>65</td>\n",
              "      <td>66</td>\n",
              "    </tr>\n",
              "  </tbody>\n",
              "</table>\n",
              "</div>"
            ],
            "text/plain": [
              "    reading score  writing score\n",
              "3              57             44\n",
              "10             54             52\n",
              "30             74             74\n",
              "43             65             66\n",
              "43             65             66"
            ]
          },
          "execution_count": 28,
          "metadata": {},
          "output_type": "execute_result"
        }
      ],
      "source": [
        "#Selecciona las filas con indices 3, 10, 30, 43, 43 y columnas reading score y writing score\n",
        "df.loc[[3, 10, 30, 43, 43], ['reading score', 'writing score']]   "
      ]
    },
    {
      "cell_type": "code",
      "execution_count": 29,
      "metadata": {
        "id": "A_8XeOCdXmDX"
      },
      "outputs": [],
      "source": [
        "df2 = pd.DataFrame(data = ['perro', 'gato', 'flor'], index = ['str1', 'str2', 'st32'], columns=['titulo'])"
      ]
    },
    {
      "cell_type": "code",
      "execution_count": 30,
      "metadata": {
        "id": "EdD_ZFMjXx-4"
      },
      "outputs": [
        {
          "data": {
            "text/html": [
              "<div>\n",
              "<style scoped>\n",
              "    .dataframe tbody tr th:only-of-type {\n",
              "        vertical-align: middle;\n",
              "    }\n",
              "\n",
              "    .dataframe tbody tr th {\n",
              "        vertical-align: top;\n",
              "    }\n",
              "\n",
              "    .dataframe thead th {\n",
              "        text-align: right;\n",
              "    }\n",
              "</style>\n",
              "<table border=\"1\" class=\"dataframe\">\n",
              "  <thead>\n",
              "    <tr style=\"text-align: right;\">\n",
              "      <th></th>\n",
              "      <th>titulo</th>\n",
              "    </tr>\n",
              "  </thead>\n",
              "  <tbody>\n",
              "    <tr>\n",
              "      <th>str1</th>\n",
              "      <td>perro</td>\n",
              "    </tr>\n",
              "    <tr>\n",
              "      <th>str2</th>\n",
              "      <td>gato</td>\n",
              "    </tr>\n",
              "    <tr>\n",
              "      <th>st32</th>\n",
              "      <td>flor</td>\n",
              "    </tr>\n",
              "  </tbody>\n",
              "</table>\n",
              "</div>"
            ],
            "text/plain": [
              "     titulo\n",
              "str1  perro\n",
              "str2   gato\n",
              "st32   flor"
            ]
          },
          "execution_count": 30,
          "metadata": {},
          "output_type": "execute_result"
        }
      ],
      "source": [
        "df2"
      ]
    },
    {
      "cell_type": "code",
      "execution_count": 31,
      "metadata": {
        "id": "vSkLqyzVX6RA"
      },
      "outputs": [
        {
          "data": {
            "text/plain": [
              "titulo    gato\n",
              "Name: str2, dtype: object"
            ]
          },
          "execution_count": 31,
          "metadata": {},
          "output_type": "execute_result"
        }
      ],
      "source": [
        "df2.loc['str2']"
      ]
    },
    {
      "cell_type": "code",
      "execution_count": 32,
      "metadata": {
        "id": "sWlw4qS5YDTI"
      },
      "outputs": [
        {
          "data": {
            "text/plain": [
              "titulo    gato\n",
              "Name: str2, dtype: object"
            ]
          },
          "execution_count": 32,
          "metadata": {},
          "output_type": "execute_result"
        }
      ],
      "source": [
        "df2.iloc[1]"
      ]
    },
    {
      "cell_type": "markdown",
      "metadata": {
        "id": "iJQzV4__TfbF"
      },
      "source": [
        "8) A veces queremos seleccionar filas que cumplan con ciertas condiciones, donde el valor de una columna en esa fila sea igual, mayor o menor que un valor.\n",
        "\n",
        "Para esto tenemos que usar una sintaxis especial. Vamos a construirla de a poco. Imaginemos que tenemos un DataFrame `df` con las columnas `col1`, `col2` y `col3`. Queremos seleccionar solo aquellas filas donde `col1` sea mayor a 10.\n",
        "\n",
        "Para eso diremos que queremos\n",
        "\n",
        "df['col1'] > 10 (La columna col1 debe ser mayor a 10).\n",
        "Ahora si corremos este codigo, veremos que devuelve valores booleanos. O sea devolvera False para aquellos valores que sean menores o iguales a 10 y True para los que sean mayores a 10.\n",
        "\n",
        "O sea que tenemos que agregar algo mas para poder seleccionar las columnas. Esta lista de valores booleanos se llama mascara booleana.\n",
        "\n",
        "¿Que significa? Que si yo le paso estos valores a pandas, pandas interpretara que debe conservar aquellos valores donde tiene True y descartar donde tiene False.\n",
        "\n",
        "Por eso, para filtrar filas en base a estas condiciones escribimos:\n",
        "\n",
        "df[df['col1] > 10].\n",
        "\n",
        "Esto significa primero fijate en que filas de `df`, la columna `col1` es mayor a 10. Luego, selecciona solo aquellas filas donde esta condicion sea `True`."
      ]
    },
    {
      "cell_type": "code",
      "execution_count": 33,
      "metadata": {
        "id": "VRmPIrXCTfbG"
      },
      "outputs": [
        {
          "data": {
            "text/plain": [
              "0      False\n",
              "1      False\n",
              "2      False\n",
              "3      False\n",
              "4      False\n",
              "       ...  \n",
              "995    False\n",
              "996    False\n",
              "997    False\n",
              "998    False\n",
              "999    False\n",
              "Name: math score, Length: 1000, dtype: bool"
            ]
          },
          "execution_count": 33,
          "metadata": {},
          "output_type": "execute_result"
        }
      ],
      "source": [
        "#Selecciona solo las filas donde math score sea mayor a 70\n",
        "df['math score'] > 70"
      ]
    },
    {
      "cell_type": "code",
      "execution_count": 34,
      "metadata": {
        "id": "_K1_oXKuTfbJ"
      },
      "outputs": [
        {
          "data": {
            "text/plain": [
              "0      False\n",
              "1      False\n",
              "2      False\n",
              "3       True\n",
              "4      False\n",
              "       ...  \n",
              "995    False\n",
              "996     True\n",
              "997    False\n",
              "998    False\n",
              "999    False\n",
              "Name: reading score, Length: 1000, dtype: bool"
            ]
          },
          "execution_count": 34,
          "metadata": {},
          "output_type": "execute_result"
        }
      ],
      "source": [
        "#Selecciona solo las filas donde reading score sea menor a 60\n",
        "df['reading score'] < 60"
      ]
    },
    {
      "cell_type": "code",
      "execution_count": 37,
      "metadata": {
        "id": "VW-DvvU9TfbM"
      },
      "outputs": [],
      "source": [
        "#Selecciona solo las filas donde gender sea igual a female\n",
        "mascara = df['gender'] == 'female'\n",
        "result = df[mascara]"
      ]
    },
    {
      "cell_type": "code",
      "execution_count": 39,
      "metadata": {
        "id": "bSgnXpiVTfbO"
      },
      "outputs": [],
      "source": [
        "#Selecciona solo aquellas filas donde lunch sea distinto a standard\n",
        "mascara = df['lunch'].isnull()\n",
        "result = df[mascara]"
      ]
    },
    {
      "cell_type": "code",
      "execution_count": 41,
      "metadata": {
        "id": "YlmjN43vTfbR"
      },
      "outputs": [
        {
          "name": "stdout",
          "output_type": "stream",
          "text": [
            "0      74\n",
            "1      88\n",
            "2      93\n",
            "3      44\n",
            "4      75\n",
            "       ..\n",
            "995    95\n",
            "996    55\n",
            "997    65\n",
            "998    77\n",
            "999    86\n",
            "Name: writing score, Length: 1000, dtype: int64\n"
          ]
        }
      ],
      "source": [
        "#Muestra los valores de writing score para aquellos estudiantes que tengan reading score mayor a math score\n",
        "mascara = df['reading score'] > df['math score']\n",
        "result = df.loc[mascara, 'writing score']\n",
        "print(result)"
      ]
    },
    {
      "cell_type": "code",
      "execution_count": 43,
      "metadata": {
        "id": "j90lSNtxTfbT"
      },
      "outputs": [
        {
          "name": "stdout",
          "output_type": "stream",
          "text": [
            "     Unnamed: 0  gender race/ethnicity parental level of education  \\\n",
            "0             0  female        group B           bachelor's degree   \n",
            "1             1  female        group C                some college   \n",
            "2             2  female        group B             master's degree   \n",
            "4             4    male        group C                some college   \n",
            "5             5  female        group B          associate's degree   \n",
            "..          ...     ...            ...                         ...   \n",
            "992         992  female        group D          associate's degree   \n",
            "993         993  female        group D           bachelor's degree   \n",
            "995         995  female        group E             master's degree   \n",
            "998         998  female        group D                some college   \n",
            "999         999  female        group D                some college   \n",
            "\n",
            "            lunch test preparation course  math score  reading score  \\\n",
            "0        standard                    none         7.2             72   \n",
            "1        standard               completed         6.9             90   \n",
            "2        standard                    none         9.0             95   \n",
            "4        standard                    none         7.6             78   \n",
            "5        standard                    none         7.1             83   \n",
            "..            ...                     ...         ...            ...   \n",
            "992  free/reduced                    none         5.5             76   \n",
            "993  free/reduced                    none         6.2             72   \n",
            "995      standard               completed         8.8             99   \n",
            "998      standard               completed         6.8             78   \n",
            "999  free/reduced                    none         7.7             86   \n",
            "\n",
            "     writing score  \n",
            "0               74  \n",
            "1               88  \n",
            "2               93  \n",
            "4               75  \n",
            "5               78  \n",
            "..             ...  \n",
            "992             76  \n",
            "993             74  \n",
            "995             95  \n",
            "998             77  \n",
            "999             86  \n",
            "\n",
            "[419 rows x 9 columns]\n"
          ]
        }
      ],
      "source": [
        "#Selecciona aquellos estudiantes que posean reading and writing score mayor a 70\n",
        "mascara = (df['reading score'] > 70) & (df['writing score'] > 70)\n",
        "result = df[mascara]\n",
        "print(result)"
      ]
    },
    {
      "cell_type": "markdown",
      "metadata": {
        "id": "jLtJP5rnWOHy"
      },
      "source": [
        "9) Los valores faltantes son un problema muy grande a la hora de visualizar y limpiar datos así como también a la hora de entrenar un modelo. Uno de los pasos obligados de cualquier exploración de datos es evaluar la presencia de estos valores.\n",
        "\n",
        "Como manejar estos datos faltantes es un gran desafio. La mayoría de las veces no queremos eliminar esos valores porque significaría perder información valiosa en otros features. En la proxima clase veremos como podemos manejarlos.\n",
        "\n",
        "Los valores faltantes estan codificados normalemente como `NaN`. Esto no es un string, sino que es un valor especial de `NumPy` que es tratado como un flotante.\n",
        "\n",
        "Para chequear si tenemos valores faltantes podemos usar la función `.isnull()`. Esto nos devuelve una nueva DataFrame en la cual tendremos el valor False si no es faltante y True si ese valor es faltante."
      ]
    },
    {
      "cell_type": "code",
      "execution_count": 45,
      "metadata": {
        "id": "wCbXVS7eWOH3"
      },
      "outputs": [
        {
          "name": "stdout",
          "output_type": "stream",
          "text": [
            "     Unnamed: 0  gender race/ethnicity parental level of education  \\\n",
            "0             0  female        group B           bachelor's degree   \n",
            "1             1  female        group C                some college   \n",
            "2             2  female        group B             master's degree   \n",
            "4             4    male        group C                some college   \n",
            "5             5  female        group B          associate's degree   \n",
            "..          ...     ...            ...                         ...   \n",
            "992         992  female        group D          associate's degree   \n",
            "993         993  female        group D           bachelor's degree   \n",
            "995         995  female        group E             master's degree   \n",
            "998         998  female        group D                some college   \n",
            "999         999  female        group D                some college   \n",
            "\n",
            "            lunch test preparation course  math score  reading score  \\\n",
            "0        standard                    none         7.2             72   \n",
            "1        standard               completed         6.9             90   \n",
            "2        standard                    none         9.0             95   \n",
            "4        standard                    none         7.6             78   \n",
            "5        standard                    none         7.1             83   \n",
            "..            ...                     ...         ...            ...   \n",
            "992  free/reduced                    none         5.5             76   \n",
            "993  free/reduced                    none         6.2             72   \n",
            "995      standard               completed         8.8             99   \n",
            "998      standard               completed         6.8             78   \n",
            "999  free/reduced                    none         7.7             86   \n",
            "\n",
            "     writing score  \n",
            "0               74  \n",
            "1               88  \n",
            "2               93  \n",
            "4               75  \n",
            "5               78  \n",
            "..             ...  \n",
            "992             76  \n",
            "993             74  \n",
            "995             95  \n",
            "998             77  \n",
            "999             86  \n",
            "\n",
            "[419 rows x 9 columns]\n"
          ]
        }
      ],
      "source": [
        "#Usa .isnull() para ver que ocurre\n",
        "# Supongamos que tienes un DataFrame df y deseas seleccionar estudiantes con \"reading score\" y \"writing score\" ambos mayores a 70 y no nulos\n",
        "mascara = (df['reading score'] > 70) & (df['writing score'] > 70) & (df['reading score'].notnull()) & (df['writing score'].notnull())\n",
        "result = df[mascara]\n",
        "print(result)"
      ]
    },
    {
      "cell_type": "markdown",
      "metadata": {
        "id": "FIH8i-M8TfbZ"
      },
      "source": [
        "Podemos sin embargo combinar esta función con otras para poder obtener el numero total de datos faltantes. Por ejemplo, podemos usar `.isnull().sum()`."
      ]
    },
    {
      "cell_type": "code",
      "execution_count": 46,
      "metadata": {
        "id": "ZM-N-dOlTfbZ"
      },
      "outputs": [
        {
          "name": "stdout",
          "output_type": "stream",
          "text": [
            "Unnamed: 0                     0\n",
            "gender                         0\n",
            "race/ethnicity                 0\n",
            "parental level of education    0\n",
            "lunch                          0\n",
            "test preparation course        0\n",
            "math score                     0\n",
            "reading score                  0\n",
            "writing score                  0\n",
            "dtype: int64\n"
          ]
        }
      ],
      "source": [
        "#Prueba usar .isnull().sum() sobre tu dataframe para ver que devuelve\n",
        "valores_nulos_por_columna = df.isnull().sum()\n",
        "print(valores_nulos_por_columna)"
      ]
    },
    {
      "cell_type": "markdown",
      "metadata": {
        "id": "U-b2u8KwTfbb"
      },
      "source": [
        "\n",
        "\n",
        "```\n",
        "# Esto tiene formato de código\n",
        "```\n",
        "\n",
        "¿Hay valores faltantes en alguna de las columnas de `students`? ____"
      ]
    },
    {
      "cell_type": "markdown",
      "metadata": {
        "id": "9XUP-4ArTfbd"
      },
      "source": [
        "10) Si la cantidad de valores faltantes es poca, podemos entonces deshacernos de ellas. Para esto pandas ofrece la función [`.dropna()`](https://pandas.pydata.org/pandas-docs/stable/reference/api/pandas.DataFrame.dropna.html). Esta función hara que se eliminen las filas donde hay valores faltantes. Si no le pasamos ningun parametro extra, eliminara todas las filas con valores faltantes. Sin embargo, podes chequear en la documentación como eliminar solo algunas de las filas."
      ]
    },
    {
      "cell_type": "code",
      "execution_count": null,
      "metadata": {
        "id": "T-h5UpswTfbd"
      },
      "outputs": [],
      "source": [
        "#Elimina todas las filas que tengan valores faltantes. No te olvides de poner inplace=True dentro de la función.\n"
      ]
    },
    {
      "cell_type": "markdown",
      "metadata": {
        "id": "HwjUnFTOTfbf"
      },
      "source": [
        "12) Una manera de ver facilmente algunos detalles estadisticos de cada columna de un DataFrame es usando la fución `.describe()`."
      ]
    },
    {
      "cell_type": "code",
      "execution_count": null,
      "metadata": {
        "id": "lCRCk2UBTfbg"
      },
      "outputs": [],
      "source": [
        "#Usa la funcion .describe() sobre students y describe que informacion estadistica proporciona\n"
      ]
    },
    {
      "cell_type": "markdown",
      "metadata": {
        "id": "duU2kmgdTfbi"
      },
      "source": [
        "Tambien es posible visualizar, por ejemplo, el promedio de una columna. Para esto pandas usa la función de numpy, pero provee la misma sintaxis que las demás funciones. Por ejemplo, si queremos calcular el promedio de la columna `col1` del DataFrame `df` usamos `df['col1'].mean()`."
      ]
    },
    {
      "cell_type": "code",
      "execution_count": null,
      "metadata": {
        "id": "Tj5VMysTTfbj"
      },
      "outputs": [],
      "source": [
        "#Calcula el promedio de la columna math score de students\n"
      ]
    },
    {
      "cell_type": "markdown",
      "metadata": {
        "id": "JFXEaqwBTfbk"
      },
      "source": [
        "También podemos usar funciones como `.min()`, `.max()`, `.median()`, `.std()`."
      ]
    },
    {
      "cell_type": "code",
      "execution_count": null,
      "metadata": {
        "id": "N3WzqZ15Tfbl"
      },
      "outputs": [],
      "source": [
        "#Calcula el minimo y maximo valor, la mediana y el desvio estandard en la columna math score de students\n"
      ]
    },
    {
      "cell_type": "code",
      "execution_count": null,
      "metadata": {
        "id": "cWK7kykrTfbn"
      },
      "outputs": [],
      "source": []
    },
    {
      "cell_type": "code",
      "execution_count": null,
      "metadata": {
        "id": "fYlI--umTfbp"
      },
      "outputs": [],
      "source": []
    },
    {
      "cell_type": "code",
      "execution_count": null,
      "metadata": {
        "id": "a7uggZ76Tfbr"
      },
      "outputs": [],
      "source": []
    },
    {
      "cell_type": "markdown",
      "metadata": {
        "id": "ERG27icqTfbs"
      },
      "source": [
        "14) [Investiga](https://pandas.pydata.org/pandas-docs/stable/index.html) y trata de aplicar las siguientes funciones de `pandas`:"
      ]
    },
    {
      "cell_type": "markdown",
      "metadata": {
        "id": "5neimVdVTfbt"
      },
      "source": [
        "- `.index`"
      ]
    },
    {
      "cell_type": "code",
      "execution_count": null,
      "metadata": {
        "id": "y3aOoXPETfbt"
      },
      "outputs": [],
      "source": []
    },
    {
      "cell_type": "markdown",
      "metadata": {
        "id": "_p5KsGCrTfbv"
      },
      "source": [
        "- `.drop()`"
      ]
    },
    {
      "cell_type": "code",
      "execution_count": null,
      "metadata": {
        "id": "TOzr0qxJTfbw"
      },
      "outputs": [],
      "source": []
    },
    {
      "cell_type": "markdown",
      "metadata": {
        "id": "P1hx5Jh-Tfby"
      },
      "source": [
        "- `.groupby()`"
      ]
    },
    {
      "cell_type": "code",
      "execution_count": null,
      "metadata": {
        "id": "aPWwetf-Tfb0"
      },
      "outputs": [],
      "source": []
    },
    {
      "cell_type": "markdown",
      "metadata": {
        "id": "8DpMZGDXTfb2"
      },
      "source": [
        "- `.fillna()`"
      ]
    },
    {
      "cell_type": "code",
      "execution_count": null,
      "metadata": {
        "id": "kb8ovxFpTfb3"
      },
      "outputs": [],
      "source": []
    },
    {
      "cell_type": "markdown",
      "metadata": {
        "id": "dJY_5ifdTfb4"
      },
      "source": [
        "- `.rename()`"
      ]
    },
    {
      "cell_type": "code",
      "execution_count": null,
      "metadata": {
        "id": "lEhFCyJETfb5"
      },
      "outputs": [],
      "source": []
    },
    {
      "cell_type": "markdown",
      "metadata": {
        "id": "rPYONF6gTfb6"
      },
      "source": [
        "- `.astype()`"
      ]
    },
    {
      "cell_type": "code",
      "execution_count": null,
      "metadata": {
        "id": "Wb3x4oVmTfb8"
      },
      "outputs": [],
      "source": []
    },
    {
      "cell_type": "markdown",
      "metadata": {
        "id": "V1ha2pSNTfb-"
      },
      "source": [
        "- `.unique()`"
      ]
    },
    {
      "cell_type": "code",
      "execution_count": null,
      "metadata": {
        "id": "zjcEojDCTfb-"
      },
      "outputs": [],
      "source": []
    },
    {
      "cell_type": "markdown",
      "metadata": {
        "id": "vhu4J_gITfcA"
      },
      "source": [
        "- `.value_counts()`"
      ]
    },
    {
      "cell_type": "code",
      "execution_count": null,
      "metadata": {
        "id": "efMy2raITfcA"
      },
      "outputs": [],
      "source": []
    },
    {
      "cell_type": "markdown",
      "metadata": {
        "id": "Kpx0GDrwTfcC"
      },
      "source": [
        "- `.count()`"
      ]
    },
    {
      "cell_type": "code",
      "execution_count": null,
      "metadata": {
        "id": "jNtD1qi1TfcC"
      },
      "outputs": [],
      "source": []
    },
    {
      "cell_type": "markdown",
      "metadata": {
        "id": "SdwY-N_OTfcE"
      },
      "source": [
        "- `.reset_index()`"
      ]
    },
    {
      "cell_type": "code",
      "execution_count": null,
      "metadata": {
        "id": "0MGcrzBjTfcF"
      },
      "outputs": [],
      "source": []
    }
  ],
  "metadata": {
    "colab": {
      "provenance": []
    },
    "kernelspec": {
      "display_name": "Python 3",
      "language": "python",
      "name": "python3"
    },
    "language_info": {
      "codemirror_mode": {
        "name": "ipython",
        "version": 3
      },
      "file_extension": ".py",
      "mimetype": "text/x-python",
      "name": "python",
      "nbconvert_exporter": "python",
      "pygments_lexer": "ipython3",
      "version": "3.12.0"
    }
  },
  "nbformat": 4,
  "nbformat_minor": 0
}
