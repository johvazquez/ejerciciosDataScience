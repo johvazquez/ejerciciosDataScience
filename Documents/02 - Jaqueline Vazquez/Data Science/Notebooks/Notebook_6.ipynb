{
  "nbformat": 4,
  "nbformat_minor": 0,
  "metadata": {
    "colab": {
      "provenance": []
    },
    "kernelspec": {
      "display_name": "Python 3",
      "language": "python",
      "name": "python3"
    },
    "language_info": {
      "codemirror_mode": {
        "name": "ipython",
        "version": 3
      },
      "file_extension": ".py",
      "mimetype": "text/x-python",
      "name": "python",
      "nbconvert_exporter": "python",
      "pygments_lexer": "ipython3",
      "version": "3.7.3"
    }
  },
  "cells": [
    {
      "cell_type": "markdown",
      "metadata": {
        "id": "GKrDUvbgWOBg"
      },
      "source": [
        "# Programa Ingenias+ en Data Science\n",
        "\n",
        "Como dijimos en clases anteriores, Python tiene implementadas muchas librerias para poder trabajar con datos. En la clase de hoy trabajaremos con una de ellas: `Pandas`.\n",
        "\n",
        "Antes de comenzar, vamos a hablar un poco de esta libreria.\n",
        "\n",
        "**Pandas** es una libreria que es una extensión de NumPy. Basicamente al utilizar `pandas`, utilizo `numpy` por debajo. Esta orientada a la manipulación y análisis de datos debido a que ofrece estructuras de datos y operaciones para manipular tablas numéricas y series temporales.\n",
        "\n",
        "La estructura principal de `pandas` es el `DataFrame` que es muy similar a una tabla. Así también, contiene otra estrucutra denominada `Serie`.\n",
        "\n",
        "Al ser de código abierto, `pandas` posee una documentación muy amplia que es **SIEMPRE RECOMENDABLE** consultar.\n",
        "\n",
        "- [Documentacion Pandas](https://pandas.pydata.org/pandas-docs/stable/)"
      ]
    },
    {
      "cell_type": "markdown",
      "metadata": {
        "id": "pLZC2jafTfaE"
      },
      "source": [
        "## Clase 5: Pandas\n"
      ]
    },
    {
      "cell_type": "markdown",
      "metadata": {
        "id": "vdBZo3UdTfaF"
      },
      "source": [
        "Pandas es una gran ayuda para manejar nuestros dataset. En la clase de hoy, veremos algunos conceptos basicos de pandas y como leer datasets."
      ]
    },
    {
      "cell_type": "code",
      "metadata": {
        "id": "JyrNIU11TfaG"
      },
      "source": [
        "#importa numpy\n",
        "import numpy as np\n",
        "#importa pandas\n",
        "import pandas as pd"
      ],
      "execution_count": null,
      "outputs": []
    },
    {
      "cell_type": "code",
      "metadata": {
        "id": "47Qu2qosPYgE"
      },
      "source": [
        "serie = pd.Series(data = [1,2,3, 4, 6.7],\n",
        "          index=['primero', 'segundo' ,'tercero', 'cuarto', 'quinto'])"
      ],
      "execution_count": null,
      "outputs": []
    },
    {
      "cell_type": "code",
      "metadata": {
        "id": "jB_Oyio7QCW6"
      },
      "source": [
        "type(serie)"
      ],
      "execution_count": null,
      "outputs": []
    },
    {
      "cell_type": "code",
      "metadata": {
        "id": "2-i7BRylQdxi"
      },
      "source": [
        "serie"
      ],
      "execution_count": null,
      "outputs": []
    },
    {
      "cell_type": "code",
      "metadata": {
        "id": "wagDDwomQrXn"
      },
      "source": [
        "serie.columns"
      ],
      "execution_count": null,
      "outputs": []
    },
    {
      "cell_type": "code",
      "metadata": {
        "id": "goc_0t2DQJnH"
      },
      "source": [
        "df = pd.DataFrame(data = [1,2,3, 4, 6.7],\n",
        "          index=['primero', 'segundo' ,'tercero', 'cuarto', 'quinto'])"
      ],
      "execution_count": null,
      "outputs": []
    },
    {
      "cell_type": "code",
      "metadata": {
        "id": "Tc9a1wLNQmbz"
      },
      "source": [
        "df.index"
      ],
      "execution_count": null,
      "outputs": []
    },
    {
      "cell_type": "code",
      "metadata": {
        "id": "DnbHIhYSQocK"
      },
      "source": [
        "df.columns"
      ],
      "execution_count": null,
      "outputs": []
    },
    {
      "cell_type": "markdown",
      "metadata": {
        "id": "zbdeEmLVTfaJ"
      },
      "source": [
        "Pandas nos facilita con varias funciones para leer archivos. Entre ellas podemos encontrar:\n",
        "\n",
        "- `.read_csv()`: lee archivos `csv` como DataFrame\n",
        "- `.read_json()`: lee archivos `json` como DataFrame\n",
        "- `.read_excel()`: leer archivos `excel` como DataFrame\n",
        "\n",
        "Para conocer más funciones que ayuden a leer archivos, consulta [acá](https://pandas.pydata.org/pandas-docs/stable/user_guide/io.html)"
      ]
    },
    {
      "cell_type": "markdown",
      "metadata": {
        "id": "yKKzkBeRTfaJ"
      },
      "source": [
        "Nosotras vamos a usar [`.read_csv()`](https://pandas.pydata.org/pandas-docs/stable/reference/api/pandas.read_csv.html)."
      ]
    },
    {
      "cell_type": "markdown",
      "metadata": {
        "id": "m9WlZLjOTfaK"
      },
      "source": [
        "Los archivos `csv` son un tipo de documento en formato abierto sencillo para representar datos en forma de tabla, en las que las columnas se separan por comas (o punto y coma) y las filas por saltos de línea. Es uno de los formatos más utilizados en Data Science."
      ]
    },
    {
      "cell_type": "markdown",
      "metadata": {
        "id": "3QWQDMsITfaL"
      },
      "source": [
        "La sintaxis para poder leer un archivo csv es:\n",
        "    \n",
        "`df = pd.read_csv('nombredelarchivo.csv', delimiter=',')`\n",
        "\n",
        "Aunque muchas veces se omite el `delimiter` si el archivo esta separado por comas."
      ]
    },
    {
      "cell_type": "markdown",
      "metadata": {
        "id": "agdmW6i7TfaM"
      },
      "source": [
        "Vamos a trabajar con el archivo `StudentsPerformance.csv`. Es usual descargar el archivo `csv` en la misma carpeta en la que trabajas con el jupyter notebook. De esta manera, no tendras que especificar el path a tu archivo."
      ]
    },
    {
      "cell_type": "markdown",
      "metadata": {
        "id": "ncRdVaR1WODE"
      },
      "source": [
        "1) Lee el archivo csv `StudentsPerformace` usando `pandas`. Guardalo en una variable llamada `students`."
      ]
    },
    {
      "cell_type": "code",
      "metadata": {
        "id": "2Uf4llCSWODQ"
      },
      "source": [
        "df = pd.read_csv('StudentsPerformance.csv', delimiter=',')"
      ],
      "execution_count": null,
      "outputs": []
    },
    {
      "cell_type": "code",
      "metadata": {
        "id": "aKeuEXj0TWj7"
      },
      "source": [
        "df"
      ],
      "execution_count": null,
      "outputs": []
    },
    {
      "cell_type": "markdown",
      "metadata": {
        "id": "u2FnZSO3RU_4"
      },
      "source": []
    },
    {
      "cell_type": "code",
      "metadata": {
        "id": "GcVPSK2PT6ZE"
      },
      "source": [
        "df.index"
      ],
      "execution_count": null,
      "outputs": []
    },
    {
      "cell_type": "code",
      "metadata": {
        "id": "Gacm73eTT-e7"
      },
      "source": [
        "df.columns"
      ],
      "execution_count": null,
      "outputs": []
    },
    {
      "cell_type": "markdown",
      "metadata": {
        "id": "uTDrRwlEWODy"
      },
      "source": [
        "2) ¿Que tipo de estructura de datos contiene la variable `students`? _Hint_: Usa `type`"
      ]
    },
    {
      "cell_type": "code",
      "metadata": {
        "id": "0XUsOzMPTfaR"
      },
      "source": [
        "type(df)"
      ],
      "execution_count": null,
      "outputs": []
    },
    {
      "cell_type": "markdown",
      "metadata": {
        "id": "JuawcdVMWOEU"
      },
      "source": [
        "3) ¿Cuantas filas y columnas tiene `students`? Para contestar esta pregunta, pandas tiene la funcion `.shape()`. Su sintaxis es la siguiente: `df.shape()` (`df` debe ser reemplazado por el nombre de tu `DataFrame`).\n",
        "\n",
        "\n",
        "De ahora en más cuando nos refiramos a un tipo de sintaxis donde debe colocarse `nombre_del_data_frame.funcion()`, la mencionaremos como `.funcion()`.\n",
        "\n",
        "¿Que devuelve esta funcion? ¿Cual crees que corresponde a las filas y cual a las columnas?"
      ]
    },
    {
      "cell_type": "markdown",
      "metadata": {
        "id": "waVVuOssWOFA"
      },
      "source": [
        "**Numero de filas**: ____"
      ]
    },
    {
      "cell_type": "markdown",
      "metadata": {
        "id": "qVYm5LDfWOFI"
      },
      "source": [
        "**Numero de columnas**: ____"
      ]
    },
    {
      "cell_type": "code",
      "metadata": {
        "id": "eK0rO5JWUPK2"
      },
      "source": [
        "df.shape"
      ],
      "execution_count": null,
      "outputs": []
    },
    {
      "cell_type": "markdown",
      "metadata": {
        "id": "LdgGlZqcWOFP"
      },
      "source": [
        "3) ¿Cual es el nombre de las columnas contenidas en `students`? Para esto, pandas tiene el atributo `.columns`."
      ]
    },
    {
      "cell_type": "code",
      "metadata": {
        "id": "6vicn7bfWOFV"
      },
      "source": [
        "df.columns"
      ],
      "execution_count": null,
      "outputs": []
    },
    {
      "cell_type": "markdown",
      "metadata": {
        "id": "P9_tRhONWOFp"
      },
      "source": [
        "4) Inspecciona las primeras 10 filas de `students` usando la función `.head()`. Dentro de esta función podemos colocar un numero. Este numero nos dira cuantas filas queremos observar."
      ]
    },
    {
      "cell_type": "code",
      "metadata": {
        "id": "94vQaXI6WOF3"
      },
      "source": [
        "df.head()"
      ],
      "execution_count": null,
      "outputs": []
    },
    {
      "cell_type": "markdown",
      "metadata": {
        "id": "Whffq2J6WOGZ"
      },
      "source": [
        "5) Ahora inspecciona las 10 ultimas usando `.tail()`. También podemos indicar el número de filas que queremos observar."
      ]
    },
    {
      "cell_type": "code",
      "metadata": {
        "id": "kXtExcefWOGo"
      },
      "source": [
        "df.tail(10)"
      ],
      "execution_count": null,
      "outputs": []
    },
    {
      "cell_type": "markdown",
      "metadata": {
        "id": "eWNdnJIVWOHJ"
      },
      "source": [
        "6) ¿Que tipos de datos contiene cada una de las columnas de `students`? Para esto, utiliza el atributo `.dtypes`."
      ]
    },
    {
      "cell_type": "code",
      "metadata": {
        "id": "6p9rjeFSWOHb"
      },
      "source": [
        "df.dtypes"
      ],
      "execution_count": null,
      "outputs": []
    },
    {
      "cell_type": "markdown",
      "metadata": {
        "id": "wIz2K4GITfak"
      },
      "source": [
        "7) ¿Como accedemos a una fila o a una columa de un DataFrame?"
      ]
    },
    {
      "cell_type": "markdown",
      "metadata": {
        "id": "jjmfJfOLTfal"
      },
      "source": [
        "Una de las maneras de acceder a una columna es especificando el nombre de la misma. Por ejemplo, `df['nombre_columna']`."
      ]
    },
    {
      "cell_type": "markdown",
      "metadata": {
        "id": "vTxZUtR3Tfam"
      },
      "source": [
        "- Accede a la columna `gender` de `students`."
      ]
    },
    {
      "cell_type": "code",
      "metadata": {
        "id": "fkO3SDcRVDkO"
      },
      "source": [
        "df['gender']"
      ],
      "execution_count": null,
      "outputs": []
    },
    {
      "cell_type": "code",
      "metadata": {
        "id": "DffQppGaTfan"
      },
      "source": [],
      "execution_count": null,
      "outputs": []
    },
    {
      "cell_type": "markdown",
      "metadata": {
        "id": "HK5W29AdTfap"
      },
      "source": [
        "- Accede ahora a la columna `lunch`."
      ]
    },
    {
      "cell_type": "code",
      "metadata": {
        "id": "fKpNWI42VX6g"
      },
      "source": [
        "df['lunch']"
      ],
      "execution_count": null,
      "outputs": []
    },
    {
      "cell_type": "code",
      "metadata": {
        "id": "oEFdla7BVaZ4"
      },
      "source": [
        "df.lunch"
      ],
      "execution_count": null,
      "outputs": []
    },
    {
      "cell_type": "markdown",
      "metadata": {
        "id": "0PIZiyG4Tfaq"
      },
      "source": [
        "Otra manera de acceder es usando dos funciones `.loc[]` y `.iloc[]`."
      ]
    },
    {
      "cell_type": "markdown",
      "metadata": {
        "id": "rHiqgIlcTfar"
      },
      "source": [
        "- `iloc[1:m, 1:n]`: Se usa para seleccionar filas basadas en su posición de 1 a m filas y de 1 a n columnas."
      ]
    },
    {
      "cell_type": "code",
      "metadata": {
        "id": "eESTgchrTfar"
      },
      "source": [
        "#seleccionar las dos primeras filas\n",
        "df.iloc[:2, :3]"
      ],
      "execution_count": null,
      "outputs": []
    },
    {
      "cell_type": "code",
      "metadata": {
        "id": "zE7-1Y7yTfau"
      },
      "source": [
        "#o tambien se usa\n",
        "df.iloc[:2,]"
      ],
      "execution_count": null,
      "outputs": []
    },
    {
      "cell_type": "code",
      "metadata": {
        "id": "a9moFV5gTfaz"
      },
      "source": [
        "#Selecciona los datos entre la decima y vigesima fila.\n",
        "df.iloc[10:21]"
      ],
      "execution_count": null,
      "outputs": []
    },
    {
      "cell_type": "code",
      "metadata": {
        "id": "2msorndeTfa3"
      },
      "source": [
        "#Selecciona las dos primeras columnas\n",
        "df.iloc[:, :2]"
      ],
      "execution_count": null,
      "outputs": []
    },
    {
      "cell_type": "markdown",
      "metadata": {
        "id": "fa27RRN0Tfa6"
      },
      "source": [
        "- `.loc[[nombre_fila], [nombre_columna]]`. Se usa para seleccionar filas o columnas basadas en su nombre"
      ]
    },
    {
      "cell_type": "code",
      "metadata": {
        "id": "jTBM3EWhTfa7"
      },
      "source": [
        "#Selecciona la fila por nombre 1, o sea con indice igual a 1\n",
        "df.loc[1]"
      ],
      "execution_count": null,
      "outputs": []
    },
    {
      "cell_type": "code",
      "metadata": {
        "id": "ojnqyvzyTfbA"
      },
      "source": [
        "#Corre el codigo y observa que devuelve\n",
        "df.loc[[1,20,3,4,5],['gender','lunch']]"
      ],
      "execution_count": null,
      "outputs": []
    },
    {
      "cell_type": "code",
      "metadata": {
        "id": "y0W96pLrTfbD"
      },
      "source": [
        "#Selecciona las filas con indices 3, 10, 30, 43, 43 y columnas reading score y writing score\n",
        "df.loc[[3, 10, 30, 43, 43], ['reading score', 'writing score']]"
      ],
      "execution_count": null,
      "outputs": []
    },
    {
      "cell_type": "code",
      "metadata": {
        "id": "A_8XeOCdXmDX"
      },
      "source": [
        "df2 = pd.DataFrame(data = ['perro', 'gato', 'flor'], index = ['str1', 'str2', 'st32'], columns=['titulo'])"
      ],
      "execution_count": null,
      "outputs": []
    },
    {
      "cell_type": "code",
      "metadata": {
        "id": "EdD_ZFMjXx-4"
      },
      "source": [
        "df2"
      ],
      "execution_count": null,
      "outputs": []
    },
    {
      "cell_type": "code",
      "metadata": {
        "id": "vSkLqyzVX6RA"
      },
      "source": [
        "df2.loc['str2']"
      ],
      "execution_count": null,
      "outputs": []
    },
    {
      "cell_type": "code",
      "metadata": {
        "id": "sWlw4qS5YDTI"
      },
      "source": [
        "df2.iloc[1]"
      ],
      "execution_count": null,
      "outputs": []
    },
    {
      "cell_type": "markdown",
      "metadata": {
        "id": "iJQzV4__TfbF"
      },
      "source": [
        "8) A veces queremos seleccionar filas que cumplan con ciertas condiciones, donde el valor de una columna en esa fila sea igual, mayor o menor que un valor.\n",
        "\n",
        "Para esto tenemos que usar una sintaxis especial. Vamos a construirla de a poco. Imaginemos que tenemos un DataFrame `df` con las columnas `col1`, `col2` y `col3`. Queremos seleccionar solo aquellas filas donde `col1` sea mayor a 10.\n",
        "\n",
        "Para eso diremos que queremos\n",
        "\n",
        "df['col1'] > 10 (La columna col1 debe ser mayor a 10).\n",
        "Ahora si corremos este codigo, veremos que devuelve valores booleanos. O sea devolvera False para aquellos valores que sean menores o iguales a 10 y True para los que sean mayores a 10.\n",
        "\n",
        "O sea que tenemos que agregar algo mas para poder seleccionar las columnas. Esta lista de valores booleanos se llama mascara booleana.\n",
        "\n",
        "¿Que significa? Que si yo le paso estos valores a pandas, pandas interpretara que debe conservar aquellos valores donde tiene True y descartar donde tiene False.\n",
        "\n",
        "Por eso, para filtrar filas en base a estas condiciones escribimos:\n",
        "\n",
        "df[df['col1] > 10].\n",
        "\n",
        "Esto significa primero fijate en que filas de `df`, la columna `col1` es mayor a 10. Luego, selecciona solo aquellas filas donde esta condicion sea `True`."
      ]
    },
    {
      "cell_type": "code",
      "metadata": {
        "id": "VRmPIrXCTfbG"
      },
      "source": [
        "#Selecciona solo las filas donde math score sea mayor a 70\n"
      ],
      "execution_count": null,
      "outputs": []
    },
    {
      "cell_type": "code",
      "metadata": {
        "id": "_K1_oXKuTfbJ"
      },
      "source": [
        "#Selecciona solo las filas donde reading score sea menor a 60\n"
      ],
      "execution_count": null,
      "outputs": []
    },
    {
      "cell_type": "code",
      "metadata": {
        "id": "VW-DvvU9TfbM"
      },
      "source": [
        "#Selecciona solo las filas donde gender sea igual a female\n"
      ],
      "execution_count": null,
      "outputs": []
    },
    {
      "cell_type": "code",
      "metadata": {
        "id": "bSgnXpiVTfbO"
      },
      "source": [
        "#Selecciona solo aquellas filas donde lunch sea distinto a standard\n",
        "isnull"
      ],
      "execution_count": null,
      "outputs": []
    },
    {
      "cell_type": "code",
      "metadata": {
        "id": "YlmjN43vTfbR"
      },
      "source": [
        "#Muestra los valores de writing score para aquellos estudiantes que tengan reading score mayor a math score\n"
      ],
      "execution_count": null,
      "outputs": []
    },
    {
      "cell_type": "code",
      "metadata": {
        "id": "j90lSNtxTfbT"
      },
      "source": [
        "#Selecciona aquellos estudiantes que posean reading and writing score mayor a 70\n"
      ],
      "execution_count": null,
      "outputs": []
    },
    {
      "cell_type": "markdown",
      "metadata": {
        "id": "jLtJP5rnWOHy"
      },
      "source": [
        "9) Los valores faltantes son un problema muy grande a la hora de visualizar y limpiar datos así como también a la hora de entrenar un modelo. Uno de los pasos obligados de cualquier exploración de datos es evaluar la presencia de estos valores.\n",
        "\n",
        "Como manejar estos datos faltantes es un gran desafio. La mayoría de las veces no queremos eliminar esos valores porque significaría perder información valiosa en otros features. En la proxima clase veremos como podemos manejarlos.\n",
        "\n",
        "Los valores faltantes estan codificados normalemente como `NaN`. Esto no es un string, sino que es un valor especial de `NumPy` que es tratado como un flotante.\n",
        "\n",
        "Para chequear si tenemos valores faltantes podemos usar la función `.isnull()`. Esto nos devuelve una nueva DataFrame en la cual tendremos el valor False si no es faltante y True si ese valor es faltante."
      ]
    },
    {
      "cell_type": "code",
      "metadata": {
        "id": "wCbXVS7eWOH3"
      },
      "source": [
        "#Usa .isnull() para ver que ocurre\n"
      ],
      "execution_count": null,
      "outputs": []
    },
    {
      "cell_type": "markdown",
      "metadata": {
        "id": "FIH8i-M8TfbZ"
      },
      "source": [
        "Podemos sin embargo combinar esta función con otras para poder obtener el numero total de datos faltantes. Por ejemplo, podemos usar `.isnull().sum()`."
      ]
    },
    {
      "cell_type": "code",
      "metadata": {
        "id": "ZM-N-dOlTfbZ"
      },
      "source": [
        "#Prueba usar .isnull().sum() sobre tu dataframe para ver que devuelve\n"
      ],
      "execution_count": null,
      "outputs": []
    },
    {
      "cell_type": "markdown",
      "metadata": {
        "id": "U-b2u8KwTfbb"
      },
      "source": [
        "\n",
        "\n",
        "```\n",
        "# Esto tiene formato de código\n",
        "```\n",
        "\n",
        "¿Hay valores faltantes en alguna de las columnas de `students`? ____"
      ]
    },
    {
      "cell_type": "markdown",
      "metadata": {
        "id": "9XUP-4ArTfbd"
      },
      "source": [
        "10) Si la cantidad de valores faltantes es poca, podemos entonces deshacernos de ellas. Para esto pandas ofrece la función [`.dropna()`](https://pandas.pydata.org/pandas-docs/stable/reference/api/pandas.DataFrame.dropna.html). Esta función hara que se eliminen las filas donde hay valores faltantes. Si no le pasamos ningun parametro extra, eliminara todas las filas con valores faltantes. Sin embargo, podes chequear en la documentación como eliminar solo algunas de las filas."
      ]
    },
    {
      "cell_type": "code",
      "metadata": {
        "id": "T-h5UpswTfbd"
      },
      "source": [
        "#Elimina todas las filas que tengan valores faltantes. No te olvides de poner inplace=True dentro de la función.\n"
      ],
      "execution_count": null,
      "outputs": []
    },
    {
      "cell_type": "markdown",
      "metadata": {
        "id": "HwjUnFTOTfbf"
      },
      "source": [
        "12) Una manera de ver facilmente algunos detalles estadisticos de cada columna de un DataFrame es usando la fución `.describe()`."
      ]
    },
    {
      "cell_type": "code",
      "metadata": {
        "id": "lCRCk2UBTfbg"
      },
      "source": [
        "#Usa la funcion .describe() sobre students y describe que informacion estadistica proporciona\n"
      ],
      "execution_count": null,
      "outputs": []
    },
    {
      "cell_type": "markdown",
      "metadata": {
        "id": "duU2kmgdTfbi"
      },
      "source": [
        "Tambien es posible visualizar, por ejemplo, el promedio de una columna. Para esto pandas usa la función de numpy, pero provee la misma sintaxis que las demás funciones. Por ejemplo, si queremos calcular el promedio de la columna `col1` del DataFrame `df` usamos `df['col1'].mean()`."
      ]
    },
    {
      "cell_type": "code",
      "metadata": {
        "id": "Tj5VMysTTfbj"
      },
      "source": [
        "#Calcula el promedio de la columna math score de students\n"
      ],
      "execution_count": null,
      "outputs": []
    },
    {
      "cell_type": "markdown",
      "metadata": {
        "id": "JFXEaqwBTfbk"
      },
      "source": [
        "También podemos usar funciones como `.min()`, `.max()`, `.median()`, `.std()`."
      ]
    },
    {
      "cell_type": "code",
      "metadata": {
        "id": "N3WzqZ15Tfbl"
      },
      "source": [
        "#Calcula el minimo y maximo valor, la mediana y el desvio estandard en la columna math score de students\n"
      ],
      "execution_count": null,
      "outputs": []
    },
    {
      "cell_type": "code",
      "metadata": {
        "id": "cWK7kykrTfbn"
      },
      "source": [],
      "execution_count": null,
      "outputs": []
    },
    {
      "cell_type": "code",
      "metadata": {
        "id": "fYlI--umTfbp"
      },
      "source": [],
      "execution_count": null,
      "outputs": []
    },
    {
      "cell_type": "code",
      "metadata": {
        "id": "a7uggZ76Tfbr"
      },
      "source": [],
      "execution_count": null,
      "outputs": []
    },
    {
      "cell_type": "markdown",
      "metadata": {
        "id": "ERG27icqTfbs"
      },
      "source": [
        "14) [Investiga](https://pandas.pydata.org/pandas-docs/stable/index.html) y trata de aplicar las siguientes funciones de `pandas`:"
      ]
    },
    {
      "cell_type": "markdown",
      "metadata": {
        "id": "5neimVdVTfbt"
      },
      "source": [
        "- `.index`"
      ]
    },
    {
      "cell_type": "code",
      "metadata": {
        "id": "y3aOoXPETfbt"
      },
      "source": [],
      "execution_count": null,
      "outputs": []
    },
    {
      "cell_type": "markdown",
      "metadata": {
        "id": "_p5KsGCrTfbv"
      },
      "source": [
        "- `.drop()`"
      ]
    },
    {
      "cell_type": "code",
      "metadata": {
        "id": "TOzr0qxJTfbw"
      },
      "source": [],
      "execution_count": null,
      "outputs": []
    },
    {
      "cell_type": "markdown",
      "metadata": {
        "id": "P1hx5Jh-Tfby"
      },
      "source": [
        "- `.groupby()`"
      ]
    },
    {
      "cell_type": "code",
      "metadata": {
        "id": "aPWwetf-Tfb0"
      },
      "source": [],
      "execution_count": null,
      "outputs": []
    },
    {
      "cell_type": "markdown",
      "metadata": {
        "id": "8DpMZGDXTfb2"
      },
      "source": [
        "- `.fillna()`"
      ]
    },
    {
      "cell_type": "code",
      "metadata": {
        "id": "kb8ovxFpTfb3"
      },
      "source": [],
      "execution_count": null,
      "outputs": []
    },
    {
      "cell_type": "markdown",
      "metadata": {
        "id": "dJY_5ifdTfb4"
      },
      "source": [
        "- `.rename()`"
      ]
    },
    {
      "cell_type": "code",
      "metadata": {
        "id": "lEhFCyJETfb5"
      },
      "source": [],
      "execution_count": null,
      "outputs": []
    },
    {
      "cell_type": "markdown",
      "metadata": {
        "id": "rPYONF6gTfb6"
      },
      "source": [
        "- `.astype()`"
      ]
    },
    {
      "cell_type": "code",
      "metadata": {
        "id": "Wb3x4oVmTfb8"
      },
      "source": [],
      "execution_count": null,
      "outputs": []
    },
    {
      "cell_type": "markdown",
      "metadata": {
        "id": "V1ha2pSNTfb-"
      },
      "source": [
        "- `.unique()`"
      ]
    },
    {
      "cell_type": "code",
      "metadata": {
        "id": "zjcEojDCTfb-"
      },
      "source": [],
      "execution_count": null,
      "outputs": []
    },
    {
      "cell_type": "markdown",
      "metadata": {
        "id": "vhu4J_gITfcA"
      },
      "source": [
        "- `.value_counts()`"
      ]
    },
    {
      "cell_type": "code",
      "metadata": {
        "id": "efMy2raITfcA"
      },
      "source": [],
      "execution_count": null,
      "outputs": []
    },
    {
      "cell_type": "markdown",
      "metadata": {
        "id": "Kpx0GDrwTfcC"
      },
      "source": [
        "- `.count()`"
      ]
    },
    {
      "cell_type": "code",
      "metadata": {
        "id": "jNtD1qi1TfcC"
      },
      "source": [],
      "execution_count": null,
      "outputs": []
    },
    {
      "cell_type": "markdown",
      "metadata": {
        "id": "SdwY-N_OTfcE"
      },
      "source": [
        "- `.reset_index()`"
      ]
    },
    {
      "cell_type": "code",
      "metadata": {
        "id": "0MGcrzBjTfcF"
      },
      "source": [],
      "execution_count": null,
      "outputs": []
    }
  ]
}