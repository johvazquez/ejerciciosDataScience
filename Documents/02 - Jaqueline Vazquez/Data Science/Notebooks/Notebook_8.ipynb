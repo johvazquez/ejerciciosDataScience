{
  "cells": [
    {
      "cell_type": "markdown",
      "metadata": {
        "id": "dhrbPPF1X565"
      },
      "source": [
        "# Programa Ingenias+ Data Science"
      ]
    },
    {
      "cell_type": "markdown",
      "metadata": {
        "id": "nWFPhus9X56-"
      },
      "source": [
        "Un proyecto de data science tiene varias etapas:\n",
        "\n",
        "1. Recolección de Datos\n",
        "2. Exploración y Procesamiento de los datos\n",
        "3. Modelado\n",
        "4. Puesta en Producción\n",
        "\n",
        "Si bien la recoleccion de los datos es uno de los pasos más importante de cualquier proyecto, el Data Scientist puede tener desde mucho hasta nada de control en esta etapa. Muy frecuentemente, los data scientist tienen que trabajar con datos guardados en archivos excel, o csv que proveen los clientes.\n",
        "\n",
        "De cualquier manera, poder leer estos datos, organizarlos, darles el formato correcto, inspeccionarlos y manipularlos es una tarea escencial y requiere librerias especiales, que veremos a lo largo de esta Notebook."
      ]
    },
    {
      "cell_type": "markdown",
      "metadata": {
        "id": "uEO1G8ojX56_"
      },
      "source": [
        "<font size=5>  👩🏽‍🔬 Exploración de los datos 👩🏽‍💻</font>"
      ]
    },
    {
      "cell_type": "markdown",
      "metadata": {
        "id": "izZ8lllXX56_"
      },
      "source": [
        "Una de las primeras cosas que debe realizar un Data Scientist al iniciar un nuevo proyecto es conocer el dataset con el cual va a trabajar. Este paso se conoce como <font color='#1ABC9C'>_\"Analisis exploratorio de datos\"_</font>.\n",
        "\n",
        "Este análisis, que es parte de nuestra etapa de exploración y procesamiento de los datos, es muy importante ya que nos permitira descubrir patrones presentes en los datos. También permitira ver aquellos datos que se alejen del comportamiento esperado.\n",
        "\n",
        "Cuando uno inicia un proyecto de Data Science el primer impulso es saltar a ajustar un modelo de machine learning. Sin embargo, es muy probable que no podamos explicar sus resultados, o no podamos entender que debemos ajustar si no hemos realizado previamente un analisis exploratorio.\n",
        "\n",
        "Por este motivo, nos abocaremos a explorar nuestros datos en esta Notebook."
      ]
    },
    {
      "cell_type": "markdown",
      "source": [
        "## Primera Parte: Describiendo los datos"
      ],
      "metadata": {
        "id": "IZfe6Ur6jmzi"
      }
    },
    {
      "cell_type": "markdown",
      "source": [
        "Imaginemos la siguiente situación: Trabajas como data scientist en una empresa que comercializa distintos productos. La empresa tiene datos de ventas del Black Friday del año pasado. Tu Team leader te provee el dataset en el archivo `blackfriday.csv` y te pide que pienses en que proyecto puede surgir de allí que tenga utilidad para la empresa."
      ],
      "metadata": {
        "id": "pW3tbtjiYK8C"
      }
    },
    {
      "cell_type": "code",
      "execution_count": null,
      "metadata": {
        "id": "YvKf06LR4Rzs"
      },
      "outputs": [],
      "source": [
        "#importa pandas\n",
        "import pandas as pd\n",
        "import numpy as np"
      ]
    },
    {
      "cell_type": "markdown",
      "metadata": {
        "id": "g8yHoiwb4Rzz"
      },
      "source": [
        "Recordemos que la sintaxis para poder leer un archivo csv es:\n",
        "    \n",
        "`df = pd.read_csv('archivo.csv', delimiter=',')`\n",
        "\n",
        "Aunque muchas veces se omite el `delimiter` si el archivo esta separado por comas."
      ]
    },
    {
      "cell_type": "markdown",
      "metadata": {
        "id": "ncRdVaR1WODE"
      },
      "source": [
        "Lee el archivo csv `bkackfriday.csv` usando `pandas`. Guardalo en una variable llamada `blackfriday`."
      ]
    },
    {
      "cell_type": "code",
      "execution_count": null,
      "metadata": {
        "id": "2Uf4llCSWODQ"
      },
      "outputs": [],
      "source": [
        "blackfriday = pd.read_csv('blackfriday.csv')\n"
      ]
    },
    {
      "cell_type": "markdown",
      "metadata": {
        "id": "JuawcdVMWOEU"
      },
      "source": [
        "Visualiza el DataFrame y observa cuantas filas y columnas tiene."
      ]
    },
    {
      "cell_type": "code",
      "execution_count": null,
      "metadata": {
        "id": "2I40ABIPX57F"
      },
      "outputs": [],
      "source": [
        "blackfriday.head()"
      ]
    },
    {
      "cell_type": "code",
      "execution_count": null,
      "metadata": {
        "id": "qW293p0X4R0C"
      },
      "outputs": [],
      "source": [
        "blackfriday.shape"
      ]
    },
    {
      "cell_type": "markdown",
      "metadata": {
        "id": "LdgGlZqcWOFP"
      },
      "source": [
        "Nombre y tipo de datos en las columnas contenidas en `blackfriday`"
      ]
    },
    {
      "cell_type": "code",
      "execution_count": null,
      "metadata": {
        "id": "6vicn7bfWOFV"
      },
      "outputs": [],
      "source": [
        "blackfriday.columns"
      ]
    },
    {
      "cell_type": "code",
      "execution_count": null,
      "metadata": {
        "id": "6p9rjeFSWOHb"
      },
      "outputs": [],
      "source": [
        "blackfriday.dtypes"
      ]
    },
    {
      "cell_type": "markdown",
      "metadata": {
        "id": "jLtJP5rnWOHy"
      },
      "source": [
        "Chequea si tiene valores faltantes y ver las filas que los tienen."
      ]
    },
    {
      "cell_type": "code",
      "execution_count": null,
      "metadata": {
        "id": "Ej8t6vxf4R1u"
      },
      "outputs": [],
      "source": [
        "blackfriday.isna().sum()"
      ]
    },
    {
      "cell_type": "code",
      "execution_count": null,
      "metadata": {
        "id": "9m17uoQ0X57J"
      },
      "outputs": [],
      "source": [
        "blackfriday[blackfriday.isna().any(axis=1)]"
      ]
    },
    {
      "cell_type": "code",
      "source": [
        "blackfriday[blackfriday['Gender'].isna()]"
      ],
      "metadata": {
        "id": "B9yfAKGGgUEx"
      },
      "execution_count": null,
      "outputs": []
    },
    {
      "cell_type": "markdown",
      "metadata": {
        "id": "Gdi37CnQ4R13"
      },
      "source": [
        "Detalles estadisticos de cada columna:"
      ]
    },
    {
      "cell_type": "code",
      "execution_count": null,
      "metadata": {
        "id": "EakMGqmK4R14"
      },
      "outputs": [],
      "source": [
        "blackfriday.describe()"
      ]
    },
    {
      "cell_type": "markdown",
      "source": [
        "Podemos ver tambien que valores o categorias estan incluidas en las columnas:"
      ],
      "metadata": {
        "id": "2OD-elBXqica"
      }
    },
    {
      "cell_type": "code",
      "source": [
        "blackfriday[\"City_Category\"].value_counts()"
      ],
      "metadata": {
        "id": "dISNn1g-cq4E"
      },
      "execution_count": null,
      "outputs": []
    },
    {
      "cell_type": "code",
      "source": [
        "blackfriday[\"City_Category\"].value_counts(normalize=True)"
      ],
      "metadata": {
        "id": "-nl7_k40qbMX"
      },
      "execution_count": null,
      "outputs": []
    },
    {
      "cell_type": "code",
      "source": [
        "blackfriday[\"Marital_Status\"].value_counts(normalize=True)"
      ],
      "metadata": {
        "id": "IrHxhxPgrJxZ"
      },
      "execution_count": null,
      "outputs": []
    },
    {
      "cell_type": "code",
      "source": [
        "blackfriday['Stay_In_Current_City_Years'].unique()"
      ],
      "metadata": {
        "id": "_IsZPZL2uslf"
      },
      "execution_count": null,
      "outputs": []
    },
    {
      "cell_type": "code",
      "source": [
        "blackfriday['Stay_In_Current_City_Years'].value_counts()"
      ],
      "metadata": {
        "id": "uIE8_PHNupIK"
      },
      "execution_count": null,
      "outputs": []
    },
    {
      "cell_type": "code",
      "source": [
        "blackfriday['Stay_In_Current_City_Years'] = blackfriday['Stay_In_Current_City_Years'].str.replace('4+', '4', regex=False).astype(int)"
      ],
      "metadata": {
        "id": "T2l8JDSwu669"
      },
      "execution_count": null,
      "outputs": []
    },
    {
      "cell_type": "code",
      "source": [
        "blackfriday[(blackfriday[\"City_Category\"] == 'A') & (blackfriday[\"Marital_Status\"] == 0)][\"Purchase\"].max()\n"
      ],
      "metadata": {
        "id": "EoZpcf8EqwDx"
      },
      "execution_count": null,
      "outputs": []
    },
    {
      "cell_type": "code",
      "source": [
        "blackfriday[(blackfriday[\"City_Category\"] == 'A') & (blackfriday[\"Marital_Status\"] == 0)][\"Purchase\"].min()\n"
      ],
      "metadata": {
        "id": "fzBuq2TvrRDQ"
      },
      "execution_count": null,
      "outputs": []
    },
    {
      "cell_type": "code",
      "source": [
        "blackfriday[(blackfriday[\"Gender\"] == 'F') & (blackfriday[\"Marital_Status\"] == 0)][\"Purchase\"].max()\n"
      ],
      "metadata": {
        "id": "qQGlGh28rTC3"
      },
      "execution_count": null,
      "outputs": []
    },
    {
      "cell_type": "code",
      "source": [
        "blackfriday.groupby(by=['City_Category', 'Gender'])['Purchase'].mean()"
      ],
      "metadata": {
        "id": "_fE4b6p4re5M"
      },
      "execution_count": null,
      "outputs": []
    },
    {
      "cell_type": "code",
      "source": [
        "pd.crosstab(blackfriday[\"City_Category\"], blackfriday[\"Product_Category_1\"])"
      ],
      "metadata": {
        "id": "Koq8c88dr1Yi"
      },
      "execution_count": null,
      "outputs": []
    },
    {
      "cell_type": "markdown",
      "metadata": {
        "id": "rAqHiMdiI9TE"
      },
      "source": [
        "## Parte 2: ¿Cómo visualizo mis datos?"
      ]
    },
    {
      "cell_type": "markdown",
      "metadata": {
        "id": "gACmGtETI9TG"
      },
      "source": [
        "Para poder visualizar los datos y la relación entre las distintas variables, podemos usar dos librerias: `matplotlib` y `seaborn`."
      ]
    },
    {
      "cell_type": "markdown",
      "metadata": {
        "id": "rsGm4XCmI9TI"
      },
      "source": [
        "Documentación:\n",
        "- [matplotlib](https://matplotlib.org/3.1.1/contents.html)\n",
        "- [seaborn](https://seaborn.pydata.org/)"
      ]
    },
    {
      "cell_type": "markdown",
      "metadata": {
        "id": "1x5a3KFwI9TJ"
      },
      "source": [
        "- Importamos la libreria `matplotlib.pyplot` como `plt`\n",
        "- Importamos la libreria seaborn como `sns`"
      ]
    },
    {
      "cell_type": "code",
      "execution_count": null,
      "metadata": {
        "id": "FIlqfOcBI9TL"
      },
      "outputs": [],
      "source": [
        "#Importa las librerias matplotlib y seaborn\n",
        "import matplotlib.pyplot as plt\n",
        "import seaborn as sns"
      ]
    },
    {
      "cell_type": "markdown",
      "metadata": {
        "id": "pnYUr96pI9TS"
      },
      "source": [
        "Veamos algunos ejemplos de distintos graficos que se pueden obtener con estas librerias."
      ]
    },
    {
      "cell_type": "code",
      "execution_count": null,
      "metadata": {
        "id": "ZHWjC9xgX57L"
      },
      "outputs": [],
      "source": [
        "blackfriday.dtypes"
      ]
    },
    {
      "cell_type": "markdown",
      "metadata": {
        "id": "-qhkNVPFI9Tf"
      },
      "source": [
        "#### Histogramas:"
      ]
    },
    {
      "cell_type": "code",
      "source": [
        "# Grafico Age\n",
        "plt.figure()\n",
        "plt.hist(blackfriday['Purchase'].dropna(), bins=10, color=\"blue\", alpha=0.3)\n",
        "plt.ylabel(\"Cantidad\", size=14)\n",
        "plt.xlabel(\"Monto de la compra\", size=14)\n",
        "plt.title(\"Distribucion del monto de la compra realizado por los clientes\", size=16, pad=25)\n",
        "plt.gca().spines[\"top\"].set_visible(False)\n",
        "plt.gca().spines[\"right\"].set_visible(False)\n",
        "plt.grid(False)\n",
        "plt.show()"
      ],
      "metadata": {
        "id": "-QtoGfzUthmW"
      },
      "execution_count": null,
      "outputs": []
    },
    {
      "cell_type": "code",
      "execution_count": null,
      "metadata": {
        "id": "92Pf51gjI9Ti"
      },
      "outputs": [],
      "source": [
        "# Grafico Age\n",
        "plt.figure()\n",
        "plt.hist(blackfriday['Age'].dropna(), bins=10, color=\"orange\", alpha=0.3)\n",
        "plt.ylabel(\"Cantidad\", size=14)\n",
        "plt.xlabel(\"Edad\", size=14)\n",
        "plt.title(\"Distribucion de la edad de los clientes\", size=16, pad=25)\n",
        "plt.gca().spines[\"top\"].set_visible(False)\n",
        "plt.gca().spines[\"right\"].set_visible(False)\n",
        "plt.grid(False)\n",
        "plt.show()"
      ]
    },
    {
      "cell_type": "markdown",
      "metadata": {
        "id": "xihuObE3X57M"
      },
      "source": [
        "Mi pagina favorita para elegir [colores](https://htmlcolorcodes.com/es/tabla-de-colores/)🎨 &nbsp;🖍"
      ]
    },
    {
      "cell_type": "markdown",
      "metadata": {
        "id": "wNpwVbvKI9Tn"
      },
      "source": [
        "#### Distplot:"
      ]
    },
    {
      "cell_type": "code",
      "execution_count": null,
      "metadata": {
        "id": "y8Hf4nK4I9To"
      },
      "outputs": [],
      "source": [
        "plt.figure()\n",
        "sns.displot(blackfriday[\"Purchase\"], color=\"#5ea88e\", kde=True)\n",
        "plt.xlabel('Monto de la compra')\n",
        "plt.ylabel('Frequency')\n",
        "sns.despine()\n",
        "plt.show()"
      ]
    },
    {
      "cell_type": "markdown",
      "metadata": {
        "id": "7dW_iTEJI9Tr"
      },
      "source": [
        "#### Boxplot:"
      ]
    },
    {
      "cell_type": "code",
      "execution_count": null,
      "metadata": {
        "id": "RjfVEhfcX57N"
      },
      "outputs": [],
      "source": [
        "boxplot_blackfriday = blackfriday.melt(id_vars='City_Category', value_vars=['Purchase'])"
      ]
    },
    {
      "cell_type": "code",
      "execution_count": null,
      "metadata": {
        "id": "wPXMHcY0X57N"
      },
      "outputs": [],
      "source": [
        "boxplot_blackfriday.head()"
      ]
    },
    {
      "cell_type": "code",
      "execution_count": null,
      "metadata": {
        "id": "Df3LgY_KI9Tt"
      },
      "outputs": [],
      "source": [
        "plt.figure(figsize=(6, 4))\n",
        "sns.boxplot(x=\"variable\", y=\"value\", data=boxplot_blackfriday, palette=\"Set2\", hue='City_Category')\n",
        "\n",
        "plt.title('Monto segun categoria de ciudad', size=14, pad=15)\n",
        "plt.legend(loc='best', frameon=False)\n",
        "plt.xlabel('Ciudad', size=12)\n",
        "plt.ylabel('Monto', size=12)\n",
        "sns.despine()\n",
        "plt.show()"
      ]
    },
    {
      "cell_type": "markdown",
      "metadata": {
        "id": "LM_Pq7WhI9Tz"
      },
      "source": [
        "#### Scaterplot:"
      ]
    },
    {
      "cell_type": "code",
      "execution_count": null,
      "metadata": {
        "id": "xKhu6r8PI9T0"
      },
      "outputs": [],
      "source": [
        "plt.figure()\n",
        "sns.scatterplot(x=\"Age\", y=\"Purchase\",data=blackfriday, palette=\"spring\")\n",
        "sns.despine()\n",
        "plt.show();"
      ]
    },
    {
      "cell_type": "markdown",
      "metadata": {
        "id": "Hgfpnn-6I9T4"
      },
      "source": [
        "#### Countplot"
      ]
    },
    {
      "cell_type": "markdown",
      "metadata": {
        "id": "3vq2XR_fI9T7"
      },
      "source": [
        "Observa como se pueden ajustar la estetica del grafico (Vale para cualquier grafico)."
      ]
    },
    {
      "cell_type": "code",
      "execution_count": null,
      "metadata": {
        "id": "qqWTwZK8I9T-"
      },
      "outputs": [],
      "source": [
        "plt.figure(figsize=(10,5))\n",
        "\n",
        "\n",
        "sns.countplot(x=\"Occupation\", data=blackfriday.sort_values('Occupation'), palette=\"Set3\")\n",
        "\n",
        "plt.ylabel(\"Eventos\", size=14)\n",
        "plt.xlabel(\"Ocupacion\", size=14)\n",
        "plt.title(\"Distribucion de la variable ocupacion\", size=16, pad=25)\n",
        "plt.gca().spines[\"top\"].set_visible(False)\n",
        "plt.gca().spines[\"right\"].set_visible(False)\n",
        "plt.grid(False)\n",
        "plt.show()"
      ]
    },
    {
      "cell_type": "code",
      "source": [
        "plt.figure(figsize=(10,5))\n",
        "\n",
        "\n",
        "sns.countplot(x=\"Gender\", data=blackfriday, palette=\"Set3\")\n",
        "\n",
        "plt.ylabel(\"Eventos\", size=14)\n",
        "plt.xlabel(\"Genero\", size=14)\n",
        "plt.title(\"Distribucion de la variable genero\", size=16, pad=25)\n",
        "plt.gca().spines[\"top\"].set_visible(False)\n",
        "plt.gca().spines[\"right\"].set_visible(False)\n",
        "plt.grid(False)\n",
        "plt.show()"
      ],
      "metadata": {
        "id": "FtC3pt6StZJX"
      },
      "execution_count": null,
      "outputs": []
    },
    {
      "cell_type": "markdown",
      "metadata": {
        "id": "R9xRlIu5X57O"
      },
      "source": [
        "#### Graficos solapados"
      ]
    },
    {
      "cell_type": "code",
      "execution_count": null,
      "metadata": {
        "id": "f3YcFmRBX57O"
      },
      "outputs": [],
      "source": [
        "plt.figure()\n",
        "sns.displot(blackfriday[blackfriday['City_Category'] == 'A'][\"Purchase\"], color=\"#a8685e\", kde=True)\n",
        "sns.displot(blackfriday[blackfriday['City_Category'] == 'B'][\"Purchase\"], color=\"#5ea88e\", kde=True)\n",
        "sns.displot(blackfriday[blackfriday['City_Category'] == 'C'][\"Purchase\"], color=\"#0f0752\", kde=True)\n",
        "plt.xlabel('Monto de la compra')\n",
        "plt.ylabel('Frequency')\n",
        "sns.despine()\n",
        "plt.show();"
      ]
    },
    {
      "cell_type": "markdown",
      "metadata": {
        "id": "OBsqBI68X57O"
      },
      "source": [
        "#### Subplots"
      ]
    },
    {
      "cell_type": "code",
      "execution_count": null,
      "metadata": {
        "id": "9er4ynqMX57O"
      },
      "outputs": [],
      "source": [
        "# Inicio subplots\n",
        "fig, ax = plt.subplots(nrows=1, ncols=3, figsize=(10, 4))\n",
        "# Establezco colores\n",
        "colors = np.arange(959)\n",
        "# primer grafico\n",
        "ax[0].hist(blackfriday[blackfriday['City_Category'] == 'A'][\"Purchase\"], color=\"#a8685e\", alpha=0.5, bins=15)\n",
        "# segundo grafico\n",
        "ax[1].hist(blackfriday[blackfriday['City_Category'] == 'B'][\"Purchase\"], color=\"#5ea88e\", alpha=0.4, bins=20)\n",
        "# tercer grafico\n",
        "ax[2].hist(blackfriday[blackfriday['City_Category'] == 'C'][\"Purchase\"], color=\"#0f0752\", alpha=0.4,  bins=25)\n",
        "# modifico primer grafico\n",
        "ax[0].spines[\"top\"].set_visible(False)\n",
        "ax[0].spines[\"right\"].set_visible(False)\n",
        "# modifico segundo grafico\n",
        "ax[1].spines[\"top\"].set_visible(False)\n",
        "ax[1].spines[\"right\"].set_visible(False)\n",
        "# modifico tercer grafico\n",
        "ax[2].spines[\"top\"].set_visible(False)\n",
        "ax[2].spines[\"right\"].set_visible(False)\n",
        "plt.show()"
      ]
    },
    {
      "cell_type": "markdown",
      "metadata": {
        "id": "-5Pb5-KuX57O"
      },
      "source": [
        "#### Pairplot"
      ]
    },
    {
      "cell_type": "code",
      "source": [
        "blackfriday.columns"
      ],
      "metadata": {
        "id": "GexjzibuxcHr"
      },
      "execution_count": null,
      "outputs": []
    },
    {
      "cell_type": "code",
      "execution_count": null,
      "metadata": {
        "id": "zDUj_BvPX57P"
      },
      "outputs": [],
      "source": [
        "sns.pairplot(blackfriday[['Stay_In_Current_City_Years', 'Age', 'Purchase', 'Gender']], hue='Gender', palette='PuRd');"
      ]
    },
    {
      "cell_type": "code",
      "execution_count": null,
      "metadata": {
        "id": "36f3d4jVX57P"
      },
      "outputs": [],
      "source": [
        "corr = blackfriday[['Age', 'Stay_In_Current_City_Years', 'Purchase']].corr(method = 'pearson')"
      ]
    },
    {
      "cell_type": "code",
      "execution_count": null,
      "metadata": {
        "id": "sMnxxfFAX57P"
      },
      "outputs": [],
      "source": [
        "sns.heatmap(corr, cmap='YlGnBu', annot=True);"
      ]
    },
    {
      "cell_type": "markdown",
      "metadata": {
        "id": "2pxllc_9I9UC"
      },
      "source": [
        "**Otros ejemplos de gráficos**: [Ejemplos en Matplotlib](https://matplotlib.org/3.1.0/gallery/index.html) y [Ejemplos en Seaborn](https://seaborn.pydata.org/examples/index.html)"
      ]
    }
  ],
  "metadata": {
    "kernelspec": {
      "display_name": "Python 3 (ipykernel)",
      "language": "python",
      "name": "python3"
    },
    "language_info": {
      "codemirror_mode": {
        "name": "ipython",
        "version": 3
      },
      "file_extension": ".py",
      "mimetype": "text/x-python",
      "name": "python",
      "nbconvert_exporter": "python",
      "pygments_lexer": "ipython3",
      "version": "3.9.6"
    },
    "colab": {
      "provenance": []
    }
  },
  "nbformat": 4,
  "nbformat_minor": 0
}