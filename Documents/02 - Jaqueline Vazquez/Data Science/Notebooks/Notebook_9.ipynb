{
  "nbformat": 4,
  "nbformat_minor": 0,
  "metadata": {
    "kernelspec": {
      "display_name": "Python 3",
      "language": "python",
      "name": "python3"
    },
    "language_info": {
      "codemirror_mode": {
        "name": "ipython",
        "version": 3
      },
      "file_extension": ".py",
      "mimetype": "text/x-python",
      "name": "python",
      "nbconvert_exporter": "python",
      "pygments_lexer": "ipython3",
      "version": "3.7.7"
    },
    "colab": {
      "provenance": []
    }
  },
  "cells": [
    {
      "cell_type": "markdown",
      "metadata": {
        "id": "sNRsya24wGOC"
      },
      "source": [
        "# Programa Ingenias+ Data Science"
      ]
    },
    {
      "cell_type": "code",
      "metadata": {
        "id": "D1g5A5jBwGOD"
      },
      "source": [
        "import pandas as pd\n",
        "import numpy as np\n",
        "import matplotlib.pyplot as plt\n",
        "import seaborn as sns\n",
        "from scipy import stats"
      ],
      "execution_count": null,
      "outputs": []
    },
    {
      "cell_type": "code",
      "metadata": {
        "id": "JvSqL3djwGOD"
      },
      "source": [
        "import sklearn"
      ],
      "execution_count": null,
      "outputs": []
    },
    {
      "cell_type": "code",
      "metadata": {
        "id": "fLEnjADrwGOD"
      },
      "source": [
        "# Chequeamos nuestra version\n",
        "sklearn.__version__"
      ],
      "execution_count": null,
      "outputs": []
    },
    {
      "cell_type": "markdown",
      "metadata": {
        "id": "AX3VR8bTwGOD"
      },
      "source": [
        "Ya dijimos previamente que un proyecto de data science tiene varias etapas:\n",
        "\n",
        "1. Recolección de Datos\n",
        "2. Exploración y Procesamiento de los datos\n",
        "3. Modelado\n",
        "4. Puesta en Producción\n",
        "\n",
        "En la clase anterior, hicimos el analisis exploratorio de los datos y pudimos observar el tipo de datos que teniamos. Pudimos hacernos preguntas y ver algunos patrones."
      ]
    },
    {
      "cell_type": "markdown",
      "metadata": {
        "id": "gvkWXEMHwGOD"
      },
      "source": [
        "Una vez que visualizamos y exploramos el dataset tenemos una idea de como lucen nuestros datos. Es por eso que ahora debemos empezar a preparar nuestros datos para los siguientes pasos según lo que aprendimos de ellos y las preguntas que nos planteamos."
      ]
    },
    {
      "cell_type": "code",
      "metadata": {
        "id": "2Rh9huAdwGOE"
      },
      "source": [
        "# Leemos nuevamente los datos del blackfriday\n",
        "blackfriday = pd.read_csv('blackfriday.csv')"
      ],
      "execution_count": null,
      "outputs": []
    },
    {
      "cell_type": "code",
      "metadata": {
        "id": "qQiP7nt5wGOE"
      },
      "source": [
        "blackfriday.head()"
      ],
      "execution_count": null,
      "outputs": []
    },
    {
      "cell_type": "markdown",
      "metadata": {
        "id": "wxlr7YPmwGOE"
      },
      "source": [
        "#### MANEJO DE DATOS FALTANTES 🚨"
      ]
    },
    {
      "cell_type": "markdown",
      "metadata": {
        "id": "rWEDqFhZwGOE"
      },
      "source": [
        "Primero, vamos a recordar si tenemos datos faltantes."
      ]
    },
    {
      "cell_type": "code",
      "metadata": {
        "id": "nDvHuORXwGOE"
      },
      "source": [
        "blackfriday.isna().sum()"
      ],
      "execution_count": null,
      "outputs": []
    },
    {
      "cell_type": "markdown",
      "metadata": {
        "id": "UWBGzjh6wGOE"
      },
      "source": [
        "¿Cuanto representa esos valores faltantes?"
      ]
    },
    {
      "cell_type": "code",
      "metadata": {
        "id": "Szp4x_-swGOE"
      },
      "source": [
        "blackfriday.isna().sum()/blackfriday.shape[0] * 100"
      ],
      "execution_count": null,
      "outputs": []
    },
    {
      "cell_type": "markdown",
      "metadata": {
        "id": "ujuOK6KZI9UY"
      },
      "source": [
        "**¿Que debo preguntarme al manejar datos faltantes?**\n",
        "\n",
        "- ¿Quiero conservar la información?\n",
        "- ¿Qué tipo de datos tengo en la columna que voy a imputar?\n",
        "- ¿Por qué puede ser que tengo los valores faltantes?:\n",
        "    - Valores faltantes al azar\n",
        "    - Valores faltantes no al azar\n",
        "- Si es una variable numerica continua, ¿Que distribución tiene?"
      ]
    },
    {
      "cell_type": "markdown",
      "metadata": {
        "id": "07GJRiFeI9Ub"
      },
      "source": [
        "**¿Como decido que hago con los valores faltantes?**\n",
        "\n",
        "- Entender que no hay una manera _perfecta_ de manejar los valores faltantes.\n",
        "\n",
        "- Depende de mis datos\n",
        "\n",
        "- Observar no solo la cantidad de datos faltantes sino también su patrón.\n",
        "\n",
        "- Estrategias:  \n",
        "     - **Eliminar los valores**:\n",
        "        - Si la recogida de datos no se ha realizado de forma aleatoria introduce sesgo.  \n",
        "        - En el caso de que haya mucho patrones con datos faltantes, podría reducir considerablemente la cantidad de filas disponibles.\n",
        "     - **Eliminación de la variable (columna)**:\n",
        "         - Las variables “descartadas” podrían contener información de vital importancia.      \n",
        "     - **Imputar los valores**:\n",
        "        - Sustituir por media o mediana: Solo en variables numericas  \n",
        "        - Sustituir por valor mas frecuente: Util para variables categoricas\n",
        "        - Algoritmo de ML: K-NN (k-nearest neighboors)"
      ]
    },
    {
      "cell_type": "markdown",
      "metadata": {
        "id": "ruvVjVNpI9Ue"
      },
      "source": [
        "A) Si optamos por eliminar los datos, puedemos hacerlo usando la siguiente función:\n",
        "    \n",
        "`.dropna(self, axis=0, how='any', thresh=None, subset=None, inplace=False)`\n",
        "\n",
        "- **axis**: {0, 1}, default 0. 0: Filas, 1: Columnas\n",
        "- **how**: {'any', 'all'}, default 'any'. Any: Si hay un valor faltante elimina la columna o fila. All: Si todos los valores de la fila o columna son faltantes, elimina la fila o columna.\n",
        "- **subset**: Nombre de filas o columnas donde buscar valores faltantes\n",
        "- **inplace**: True modifica el DataFrame original\n",
        "\n",
        "[documentación](https://pandas.pydata.org/pandas-docs/stable/reference/api/pandas.DataFrame.dropna.html)"
      ]
    },
    {
      "cell_type": "code",
      "metadata": {
        "id": "jv_WLAcNwGOE"
      },
      "source": [
        "blackfriday_drop = blackfriday.dropna()"
      ],
      "execution_count": null,
      "outputs": []
    },
    {
      "cell_type": "code",
      "metadata": {
        "id": "sP5y9VHzwGOE"
      },
      "source": [
        "blackfriday_drop.shape"
      ],
      "execution_count": null,
      "outputs": []
    },
    {
      "cell_type": "code",
      "metadata": {
        "id": "aa4NB6cZwGOE"
      },
      "source": [
        "blackfriday.dropna(how='all')"
      ],
      "execution_count": null,
      "outputs": []
    },
    {
      "cell_type": "code",
      "metadata": {
        "id": "9KCZn02uwGOE"
      },
      "source": [
        "blackfriday.dropna(subset=['Gender'])"
      ],
      "execution_count": null,
      "outputs": []
    },
    {
      "cell_type": "code",
      "metadata": {
        "id": "_WqLU4NhwGOE"
      },
      "source": [
        "blackfriday.dropna(subset=['Age', 'Gender'])"
      ],
      "execution_count": null,
      "outputs": []
    },
    {
      "cell_type": "markdown",
      "metadata": {
        "id": "WQ3SUks0I9Uc"
      },
      "source": [
        "B) Si optamos por imputar los datos, podemos hacerlo usando la siguiente función:\n",
        "    \n",
        "`sklearn.impute.SimpleImputer(missing_values=nan, strategy=’mean’, fill_value=None, copy=True, add_indicator=False)`\n",
        "    \n",
        "- **missing_values**: Indica como son representados los valores faltantes (np.nan es el estandard)\n",
        "- **strategy**: `mean`, `median`, `most_frequent`, `constant`.\n",
        "- **fill_value**: Si uso `constant`, puedo usar `fill_value` para indicar por cuál valor debe ser reemplazado\n",
        "- **copy**: Si pongo True, crea una copia de X\n",
        "- **add_indicator**: Agrega un indicador para los valores faltantes.\n",
        "\n",
        "\n",
        "[documentación](https://scikit-learn.org/stable/modules/generated/sklearn.impute.SimpleImputer.html#sklearn.impute.SimpleImputer)"
      ]
    },
    {
      "cell_type": "code",
      "metadata": {
        "id": "pyA9vTHFwGOE"
      },
      "source": [
        "from sklearn.impute import SimpleImputer"
      ],
      "execution_count": null,
      "outputs": []
    },
    {
      "cell_type": "markdown",
      "metadata": {
        "id": "-FrDFfBGwGOE"
      },
      "source": [
        "**Variable: `City_Category`**"
      ]
    },
    {
      "cell_type": "code",
      "metadata": {
        "id": "FJOtsVPCwGOE"
      },
      "source": [
        "sns.countplot(x=\"Occupation\", data=blackfriday, palette=\"Set3\")\n",
        "sns.despine()"
      ],
      "execution_count": null,
      "outputs": []
    },
    {
      "cell_type": "code",
      "metadata": {
        "id": "l7g3SYlrwGOE"
      },
      "source": [
        "blackfriday['Occupation'].value_counts()"
      ],
      "execution_count": null,
      "outputs": []
    },
    {
      "cell_type": "code",
      "metadata": {
        "id": "HNu9kJ1VwGOE"
      },
      "source": [
        "imputer = SimpleImputer(missing_values=np.nan, strategy=\"most_frequent\")"
      ],
      "execution_count": null,
      "outputs": []
    },
    {
      "cell_type": "code",
      "metadata": {
        "id": "RKG1NauYwGOE"
      },
      "source": [
        "blackfriday_imputados = imputer.fit_transform(blackfriday[['Occupation']])"
      ],
      "execution_count": null,
      "outputs": []
    },
    {
      "cell_type": "code",
      "metadata": {
        "id": "_waeVga1wGOE"
      },
      "source": [
        "np.shape(blackfriday_imputados)"
      ],
      "execution_count": null,
      "outputs": []
    },
    {
      "cell_type": "code",
      "metadata": {
        "id": "kkITTL3mwGOE"
      },
      "source": [
        "blackfriday_imputados[:10]"
      ],
      "execution_count": null,
      "outputs": []
    },
    {
      "cell_type": "code",
      "metadata": {
        "id": "7iKDDoghwGOE"
      },
      "source": [
        "blackfriday[\"Occupation\"] = blackfriday_imputados"
      ],
      "execution_count": null,
      "outputs": []
    },
    {
      "cell_type": "code",
      "metadata": {
        "id": "5Zn7Z6wxwGOE"
      },
      "source": [
        "blackfriday.head()"
      ],
      "execution_count": null,
      "outputs": []
    },
    {
      "cell_type": "code",
      "metadata": {
        "id": "9mx6AQ1_wGOE"
      },
      "source": [
        "blackfriday['Occupation'].value_counts()"
      ],
      "execution_count": null,
      "outputs": []
    },
    {
      "cell_type": "markdown",
      "metadata": {
        "id": "HbVrrPUMwGOE"
      },
      "source": [
        "**Variable: `Age`**"
      ]
    },
    {
      "cell_type": "code",
      "metadata": {
        "id": "JCyjo7hewGOE"
      },
      "source": [
        "blackfriday['Age'].describe()"
      ],
      "execution_count": null,
      "outputs": []
    },
    {
      "cell_type": "code",
      "metadata": {
        "id": "o0P9Ti46wGOF"
      },
      "source": [
        "imputer_age = SimpleImputer(missing_values=np.nan, strategy=\"mean\")"
      ],
      "execution_count": null,
      "outputs": []
    },
    {
      "cell_type": "code",
      "metadata": {
        "id": "dcJ0KzeHwGOF"
      },
      "source": [
        "blackfriday[\"Age\"] = imputer_age.fit_transform(blackfriday[['Age']])"
      ],
      "execution_count": null,
      "outputs": []
    },
    {
      "cell_type": "code",
      "metadata": {
        "id": "0MszYZhbwGOF"
      },
      "source": [
        "blackfriday['Age'].describe()"
      ],
      "execution_count": null,
      "outputs": []
    },
    {
      "cell_type": "markdown",
      "metadata": {
        "id": "J221MoJ5iTTg"
      },
      "source": [
        "**Variable: `Gender`**"
      ]
    },
    {
      "cell_type": "code",
      "metadata": {
        "id": "573IzaFDwGOF"
      },
      "source": [
        "blackfriday['Gender'].value_counts()"
      ],
      "execution_count": null,
      "outputs": []
    },
    {
      "cell_type": "code",
      "source": [
        "imputer_gen = SimpleImputer(missing_values=np.nan, strategy=\"most_frequent\")"
      ],
      "metadata": {
        "id": "TvleGinjijb-"
      },
      "execution_count": null,
      "outputs": []
    },
    {
      "cell_type": "code",
      "source": [
        "blackfriday['Gender'] = imputer_gen.fit_transform(blackfriday[['Gender']])"
      ],
      "metadata": {
        "id": "Q8ccVjqBijs5"
      },
      "execution_count": null,
      "outputs": []
    },
    {
      "cell_type": "code",
      "source": [
        "blackfriday['Gender'].value_counts()"
      ],
      "metadata": {
        "id": "CAMQKHx3ij6M"
      },
      "execution_count": null,
      "outputs": []
    },
    {
      "cell_type": "markdown",
      "source": [
        "**Variable `Purchase`**"
      ],
      "metadata": {
        "id": "vAU5q1ggi113"
      }
    },
    {
      "cell_type": "code",
      "source": [
        "blackfriday.dropna(subset=['Purchase'], inplace=True)"
      ],
      "metadata": {
        "id": "gwrbmI1MikH9"
      },
      "execution_count": null,
      "outputs": []
    },
    {
      "cell_type": "markdown",
      "source": [
        "**Columnas `Product_Category_2` and `Product_Category_3`**"
      ],
      "metadata": {
        "id": "D4qiCymLi8UM"
      }
    },
    {
      "cell_type": "code",
      "source": [
        "blackfriday.drop(['Product_Category_2', 'Product_Category_3'], axis=1, inplace=True)"
      ],
      "metadata": {
        "id": "IcZhsFpojDZW"
      },
      "execution_count": null,
      "outputs": []
    },
    {
      "cell_type": "code",
      "source": [
        "blackfriday.isna().sum()"
      ],
      "metadata": {
        "id": "VdVPwo2vjOcq"
      },
      "execution_count": null,
      "outputs": []
    },
    {
      "cell_type": "markdown",
      "metadata": {
        "id": "G0Udwr4IwGOF"
      },
      "source": [
        "#### DETECCION DE OUTLIERS"
      ]
    },
    {
      "cell_type": "markdown",
      "metadata": {
        "id": "dxJq8wTLwGOF"
      },
      "source": [
        "- Manera de detectar outliers:\n",
        "    - z-score\n",
        "        - Considera que todo valor que se aleje mucho de la media=0 es un outlier.\n",
        "        - Depende de la media y el desvio estandard para medir la centralidad y dispersión, los cuales son muy afectados por outliers. Si las variables no tiene una distribución normal, termino removiendo muchos outliers del dataset.\n",
        "        - No funciona bien en dataset muy pequeños.\n",
        "    - Rango Intercuartil:\n",
        "        - Es robusto y no es tan sensible a outliers."
      ]
    },
    {
      "cell_type": "code",
      "source": [
        "blackfriday.dtypes"
      ],
      "metadata": {
        "id": "GGhNeh3rjtsY"
      },
      "execution_count": null,
      "outputs": []
    },
    {
      "cell_type": "code",
      "metadata": {
        "id": "ZEbCMsMAwGOF"
      },
      "source": [
        "sns.displot(blackfriday['Purchase'])\n",
        "sns.despine()"
      ],
      "execution_count": null,
      "outputs": []
    },
    {
      "cell_type": "code",
      "metadata": {
        "id": "eQ9ljNhowGOF"
      },
      "source": [
        "sns.barplot(blackfriday['Purchase'], color='#F5B041')\n",
        "sns.despine()"
      ],
      "execution_count": null,
      "outputs": []
    },
    {
      "cell_type": "code",
      "metadata": {
        "id": "l0c3hAYQwGOF"
      },
      "source": [
        "z = stats.zscore(np.array(blackfriday['Purchase']))"
      ],
      "execution_count": null,
      "outputs": []
    },
    {
      "cell_type": "code",
      "metadata": {
        "id": "YAFhJEGxwGOF"
      },
      "source": [
        "threshold = 2.5"
      ],
      "execution_count": null,
      "outputs": []
    },
    {
      "cell_type": "code",
      "metadata": {
        "id": "ERqIl_kpwGOF"
      },
      "source": [
        "z_index = blackfriday['Purchase'][np.abs(z) < threshold].index\n",
        "\n",
        "blackfriday_withzscore = blackfriday.loc[z_index]"
      ],
      "execution_count": null,
      "outputs": []
    },
    {
      "cell_type": "code",
      "metadata": {
        "id": "AfV0JYlGwGOF"
      },
      "source": [
        "sns.barplot(blackfriday_withzscore['Purchase'], color='#F5B041')\n",
        "sns.despine()"
      ],
      "execution_count": null,
      "outputs": []
    },
    {
      "cell_type": "code",
      "source": [
        "sns.boxplot(blackfriday['Purchase'])\n",
        "sns.despine()"
      ],
      "metadata": {
        "id": "MSGFff9smR1x"
      },
      "execution_count": null,
      "outputs": []
    },
    {
      "cell_type": "code",
      "metadata": {
        "id": "_mYkZ-4fwGOF"
      },
      "source": [
        "q1 = blackfriday['Purchase'].quantile(0.25)\n",
        "q3 = blackfriday['Purchase'].quantile(0.75)"
      ],
      "execution_count": null,
      "outputs": []
    },
    {
      "cell_type": "code",
      "metadata": {
        "id": "PiGFTv7NwGOF"
      },
      "source": [
        "iqr = q3 - q1\n",
        "lb = q1 - (iqr * 1.5)\n",
        "ub = q3 + (iqr * 1.5)"
      ],
      "execution_count": null,
      "outputs": []
    },
    {
      "cell_type": "code",
      "metadata": {
        "id": "RzGRdoBrwGOF"
      },
      "source": [
        "blackfriday = blackfriday[(blackfriday['Purchase'] > lb) & (blackfriday['Purchase'] < ub)]"
      ],
      "execution_count": null,
      "outputs": []
    },
    {
      "cell_type": "code",
      "metadata": {
        "id": "t6vxacwewGOF"
      },
      "source": [
        "blackfriday.reset_index(drop=True, inplace=True)"
      ],
      "execution_count": null,
      "outputs": []
    },
    {
      "cell_type": "code",
      "source": [
        "sns.boxplot(blackfriday['Purchase'])\n",
        "sns.despine()"
      ],
      "metadata": {
        "id": "Cib9CSqSkZPb"
      },
      "execution_count": null,
      "outputs": []
    }
  ]
}